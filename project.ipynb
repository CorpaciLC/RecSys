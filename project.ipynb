{
 "cells": [
  {
   "cell_type": "markdown",
   "metadata": {
    "deletable": false,
    "editable": false,
    "nbgrader": {
     "cell_type": "markdown",
     "checksum": "2b5ecc5d390fe3fdcc1d7048181fbcbb",
     "grade": false,
     "grade_id": "cell-3a49d0c736ae4826",
     "locked": true,
     "schema_version": 3,
     "solution": false,
     "task": false
    }
   },
   "source": [
    "# Project\n",
    "\n",
    "Welcome to the group project! The project is based on the [ACM RecSys 2021 Challenge](https://recsys-twitter.com/).\n",
    "\n",
    "- Detailed information about the task, submission and grading can be found in a [dedicates site on TUWEL](https://tuwel.tuwien.ac.at/mod/page/view.php?id=1217340).\n",
    "- Information about the dataset structure [on this site on TUWEL](https://tuwel.tuwien.ac.at/mod/page/view.php?id=1218810)."
   ]
  },
  {
   "cell_type": "code",
   "execution_count": 1,
   "metadata": {},
   "outputs": [],
   "source": [
    "team_name = \"team_15\" # your team name e.g. 'team_1'\n",
    "team_members = [(\"\",\"\"),\n",
    "                (\"\",\"\")] # [(\"Jane Doe\",\"012345678\"), (\"John Doe\",\"012345678\")]\n"
   ]
  },
  {
   "cell_type": "code",
   "execution_count": 134,
   "metadata": {
    "deletable": false,
    "editable": false,
    "nbgrader": {
     "cell_type": "code",
     "checksum": "3c84ed38479c0195aaa2fa1ce3f7fece",
     "grade": false,
     "grade_id": "cell-07ef37bf8c0d782b",
     "locked": true,
     "schema_version": 3,
     "solution": false,
     "task": false
    }
   },
   "outputs": [
    {
     "output_type": "stream",
     "name": "stdout",
     "text": [
      "team_15\n[('', ''), ('', '')]\n"
     ]
    }
   ],
   "source": [
    "print(team_name)\n",
    "print(team_members)"
   ]
  },
  {
   "cell_type": "code",
   "execution_count": 135,
   "metadata": {},
   "outputs": [],
   "source": [
    "path_to_data = 'data/project/training/'\n",
    "dataset_type = 'one_hour' # all_sorted, one_day, one_hour, one_week"
   ]
  },
  {
   "cell_type": "code",
   "execution_count": null,
   "metadata": {
    "deletable": false,
    "editable": false,
    "nbgrader": {
     "cell_type": "code",
     "checksum": "bdcfa030c94d59246d7322f527c9ef7e",
     "grade": true,
     "grade_id": "cell-adf5f6bdd4704e08",
     "locked": true,
     "points": 0,
     "schema_version": 3,
     "solution": false,
     "task": false
    }
   },
   "outputs": [],
   "source": []
  },
  {
   "cell_type": "code",
   "execution_count": 136,
   "metadata": {},
   "outputs": [],
   "source": [
    "try:\n",
    "    import pandas as pd\n",
    "except:\n",
    "    if hasattr(sys, 'real_prefix'):\n",
    "        #we are in a virtual env.\n",
    "        !pip3 install pandas\n",
    "    else:\n",
    "        !pip3 install --user pandas"
   ]
  },
  {
   "cell_type": "code",
   "execution_count": 137,
   "metadata": {},
   "outputs": [],
   "source": [
    "import os\n",
    "import re\n",
    "import csv\n",
    "import datetime\n",
    "\n",
    "from model import reply_pred_model, retweet_pred_model, quote_pred_model, fav_pred_model \n",
    "\n",
    "all_features = [\"text_tokens\", \"hashtags\", \"tweet_id\", \"present_media\", \"present_links\", \"present_domains\",\\\n",
    "                \"tweet_type\",\"language\", \"tweet_timestamp\", \"engaged_with_user_id\", \"engaged_with_user_follower_count\",\\\n",
    "               \"engaged_with_user_following_count\", \"engaged_with_user_is_verified\", \"engaged_with_user_account_creation\",\\\n",
    "               \"engaging_user_id\", \"enaging_user_follower_count\", \"enaging_user_following_count\", \"enaging_user_is_verified\",\\\n",
    "               \"enaging_user_account_creation\", \"engagee_follows_engager\", \"reply_timestamp\", \"retweet_timestamp\", \"retweet_with_comment_timestamp\", \"like_timestamp\"]\n",
    "\n",
    "all_features_to_idx = dict(zip(all_features, range(len(all_features))))\n",
    "\n",
    "def parse_input_line(line):\n",
    "    features = line #.split(\"\\x01\")\n",
    "    tweet_id = features[all_features_to_idx['tweet_id']]\n",
    "    user_id = features[all_features_to_idx['engaging_user_id']]\n",
    "    input_feats = features[all_features_to_idx['text_tokens']]\n",
    "    tweet_timestamp = features[all_features_to_idx['tweet_timestamp']]\n",
    "    \n",
    "    return tweet_id, user_id, input_feats, tweet_timestamp\n",
    "\n",
    "\n",
    "\n",
    "def evaluate_test_set():\n",
    "    expanded_path = os.path.expanduser(path_to_data)\n",
    "    part_files = [os.path.join(expanded_path, f) for f in os.listdir(expanded_path) if dataset_type in f]\n",
    "    part_files = sorted(part_files, key = lambda x:x[-5:]) \n",
    "        \n",
    "    with open('results.csv', 'w') as output:\n",
    "        for file in part_files:\n",
    "            with open(file, 'r') as f:\n",
    "                linereader = csv.reader(f, delimiter='\\x01')\n",
    "                last_timestamp = None\n",
    "                for row in linereader:\n",
    "                    tweet_id, user_id, features, tweet_timestamp = parse_input_line(row)                                                           \n",
    "                    reply_pred = reply_pred_model(features) # reply_model\n",
    "                    retweet_pred = retweet_pred_model(features) # retweet_model\n",
    "                    quote_pred = quote_pred_model(features) # pred_model\n",
    "                    fav_pred = fav_pred_model(features) # fav_model\n",
    "                    \n",
    "                    # print(str(tweet_timestamp))\n",
    "#                     print(str(reply_pred)+\" \"+str(retweet_pred)+\" \"+str(quote_pred)+\" \"+str(fav_pred))\n",
    "                    \n",
    "                    output.write(f'{tweet_id},{user_id},{reply_pred},{retweet_pred},{quote_pred},{fav_pred}\\n')\n"
   ]
  },
  {
   "cell_type": "code",
   "execution_count": 138,
   "metadata": {},
   "outputs": [],
   "source": [
    "def load_data(filename):\n",
    "        data = pd.read_csv(filename, sep='\\x01', names=all_features, index_col=False)\n",
    "        return data\n",
    "    "
   ]
  },
  {
   "cell_type": "code",
   "execution_count": null,
   "metadata": {},
   "outputs": [],
   "source": []
  },
  {
   "cell_type": "code",
   "execution_count": 139,
   "metadata": {},
   "outputs": [],
   "source": [
    "# evaluate_test_set()"
   ]
  },
  {
   "cell_type": "code",
   "execution_count": 140,
   "metadata": {},
   "outputs": [],
   "source": [
    "data = load_data(path_to_data + dataset_type)\n",
    "\n",
    "# We choose first 5k rows in order to work faster with the data\n",
    "data = data.head(5000)"
   ]
  },
  {
   "cell_type": "code",
   "execution_count": 141,
   "metadata": {},
   "outputs": [
    {
     "output_type": "execute_result",
     "data": {
      "text/plain": [
       "                                         text_tokens hashtags  \\\n",
       "0  101\\t100\\t100\\t100\\t100\\t100\\t100\\t100\\t100\\t1...      NaN   \n",
       "1  101\\t100\\t100\\t100\\t100\\t100\\t216\\t216\\t10243\\...      NaN   \n",
       "2  101\\t100\\t100\\t100\\t100\\t100\\t216\\t216\\t10243\\...      NaN   \n",
       "3  101\\t100\\t100\\t100\\t100\\t100\\t216\\t216\\t10243\\...      NaN   \n",
       "4  101\\t100\\t100\\t100\\t100\\t100\\t216\\t216\\t10243\\...      NaN   \n",
       "\n",
       "                           tweet_id present_media  \\\n",
       "0  395A05A1E8A0A4CEB2E623281C7A41EE           NaN   \n",
       "1  81E8247F4E74A0FCDBA911E1A3CB5412         Photo   \n",
       "2  81E8247F4E74A0FCDBA911E1A3CB5412         Photo   \n",
       "3  81E8247F4E74A0FCDBA911E1A3CB5412         Photo   \n",
       "4  81E8247F4E74A0FCDBA911E1A3CB5412         Photo   \n",
       "\n",
       "                      present_links                   present_domains  \\\n",
       "0                               NaN                               NaN   \n",
       "1  758E6F75A253992C7070F6B8A8A891A6  6B7D92057ACA0F97EFB5B724D3C963E4   \n",
       "2  758E6F75A253992C7070F6B8A8A891A6  6B7D92057ACA0F97EFB5B724D3C963E4   \n",
       "3  758E6F75A253992C7070F6B8A8A891A6  6B7D92057ACA0F97EFB5B724D3C963E4   \n",
       "4  758E6F75A253992C7070F6B8A8A891A6  6B7D92057ACA0F97EFB5B724D3C963E4   \n",
       "\n",
       "  tweet_type                          language  tweet_timestamp  \\\n",
       "0   TopLevel  313ECD3A1E5BB07406E4249475C2D6D6       1614207600   \n",
       "1   TopLevel  B0FA488F2911701DD8EC5B1EA5E322D8       1614207600   \n",
       "2   TopLevel  B0FA488F2911701DD8EC5B1EA5E322D8       1614207600   \n",
       "3   TopLevel  B0FA488F2911701DD8EC5B1EA5E322D8       1614207600   \n",
       "4   TopLevel  B0FA488F2911701DD8EC5B1EA5E322D8       1614207600   \n",
       "\n",
       "               engaged_with_user_id  engaged_with_user_follower_count  \\\n",
       "0  55F619B7474C1BA0C8EE03C2A31C534C                              6567   \n",
       "1  9B49D384D56A65E00A12D8349EB46CE5                             47951   \n",
       "2  9B49D384D56A65E00A12D8349EB46CE5                             47951   \n",
       "3  9B49D384D56A65E00A12D8349EB46CE5                             47951   \n",
       "4  9B49D384D56A65E00A12D8349EB46CE5                             47951   \n",
       "\n",
       "   engaged_with_user_following_count  engaged_with_user_is_verified  \\\n",
       "0                               4006                          False   \n",
       "1                                681                           True   \n",
       "2                                681                           True   \n",
       "3                                681                           True   \n",
       "4                                681                           True   \n",
       "\n",
       "   engaged_with_user_account_creation                  engaging_user_id  \\\n",
       "0                          1456262411  736278C2FEC488516CDA4ED6952A2154   \n",
       "1                          1305833605  19D5367D835484236CAF9DBEF475FF7A   \n",
       "2                          1305833605  40BEB04CF8D3CB02449879668656FFDB   \n",
       "3                          1305833605  6415C94D3C27BA84C069DE049EBB3EDE   \n",
       "4                          1305833605  7E614D5881BC18768880CC374C4BE821   \n",
       "\n",
       "   enaging_user_follower_count  enaging_user_following_count  \\\n",
       "0                         1139                          1126   \n",
       "1                           82                            76   \n",
       "2                          108                           351   \n",
       "3                           69                           106   \n",
       "4                           24                           180   \n",
       "\n",
       "   enaging_user_is_verified  enaging_user_account_creation  \\\n",
       "0                     False                     1601425426   \n",
       "1                     False                     1495813718   \n",
       "2                     False                     1506038593   \n",
       "3                     False                     1562533868   \n",
       "4                     False                     1302057914   \n",
       "\n",
       "   engagee_follows_engager  reply_timestamp  retweet_timestamp  \\\n",
       "0                    False              NaN                NaN   \n",
       "1                    False              NaN                NaN   \n",
       "2                    False              NaN                NaN   \n",
       "3                    False              NaN                NaN   \n",
       "4                    False              NaN                NaN   \n",
       "\n",
       "   retweet_with_comment_timestamp  like_timestamp  \n",
       "0                             NaN    1.614208e+09  \n",
       "1                             NaN             NaN  \n",
       "2                             NaN             NaN  \n",
       "3                             NaN             NaN  \n",
       "4                             NaN             NaN  "
      ],
      "text/html": "<div>\n<style scoped>\n    .dataframe tbody tr th:only-of-type {\n        vertical-align: middle;\n    }\n\n    .dataframe tbody tr th {\n        vertical-align: top;\n    }\n\n    .dataframe thead th {\n        text-align: right;\n    }\n</style>\n<table border=\"1\" class=\"dataframe\">\n  <thead>\n    <tr style=\"text-align: right;\">\n      <th></th>\n      <th>text_tokens</th>\n      <th>hashtags</th>\n      <th>tweet_id</th>\n      <th>present_media</th>\n      <th>present_links</th>\n      <th>present_domains</th>\n      <th>tweet_type</th>\n      <th>language</th>\n      <th>tweet_timestamp</th>\n      <th>engaged_with_user_id</th>\n      <th>engaged_with_user_follower_count</th>\n      <th>engaged_with_user_following_count</th>\n      <th>engaged_with_user_is_verified</th>\n      <th>engaged_with_user_account_creation</th>\n      <th>engaging_user_id</th>\n      <th>enaging_user_follower_count</th>\n      <th>enaging_user_following_count</th>\n      <th>enaging_user_is_verified</th>\n      <th>enaging_user_account_creation</th>\n      <th>engagee_follows_engager</th>\n      <th>reply_timestamp</th>\n      <th>retweet_timestamp</th>\n      <th>retweet_with_comment_timestamp</th>\n      <th>like_timestamp</th>\n    </tr>\n  </thead>\n  <tbody>\n    <tr>\n      <th>0</th>\n      <td>101\\t100\\t100\\t100\\t100\\t100\\t100\\t100\\t100\\t1...</td>\n      <td>NaN</td>\n      <td>395A05A1E8A0A4CEB2E623281C7A41EE</td>\n      <td>NaN</td>\n      <td>NaN</td>\n      <td>NaN</td>\n      <td>TopLevel</td>\n      <td>313ECD3A1E5BB07406E4249475C2D6D6</td>\n      <td>1614207600</td>\n      <td>55F619B7474C1BA0C8EE03C2A31C534C</td>\n      <td>6567</td>\n      <td>4006</td>\n      <td>False</td>\n      <td>1456262411</td>\n      <td>736278C2FEC488516CDA4ED6952A2154</td>\n      <td>1139</td>\n      <td>1126</td>\n      <td>False</td>\n      <td>1601425426</td>\n      <td>False</td>\n      <td>NaN</td>\n      <td>NaN</td>\n      <td>NaN</td>\n      <td>1.614208e+09</td>\n    </tr>\n    <tr>\n      <th>1</th>\n      <td>101\\t100\\t100\\t100\\t100\\t100\\t216\\t216\\t10243\\...</td>\n      <td>NaN</td>\n      <td>81E8247F4E74A0FCDBA911E1A3CB5412</td>\n      <td>Photo</td>\n      <td>758E6F75A253992C7070F6B8A8A891A6</td>\n      <td>6B7D92057ACA0F97EFB5B724D3C963E4</td>\n      <td>TopLevel</td>\n      <td>B0FA488F2911701DD8EC5B1EA5E322D8</td>\n      <td>1614207600</td>\n      <td>9B49D384D56A65E00A12D8349EB46CE5</td>\n      <td>47951</td>\n      <td>681</td>\n      <td>True</td>\n      <td>1305833605</td>\n      <td>19D5367D835484236CAF9DBEF475FF7A</td>\n      <td>82</td>\n      <td>76</td>\n      <td>False</td>\n      <td>1495813718</td>\n      <td>False</td>\n      <td>NaN</td>\n      <td>NaN</td>\n      <td>NaN</td>\n      <td>NaN</td>\n    </tr>\n    <tr>\n      <th>2</th>\n      <td>101\\t100\\t100\\t100\\t100\\t100\\t216\\t216\\t10243\\...</td>\n      <td>NaN</td>\n      <td>81E8247F4E74A0FCDBA911E1A3CB5412</td>\n      <td>Photo</td>\n      <td>758E6F75A253992C7070F6B8A8A891A6</td>\n      <td>6B7D92057ACA0F97EFB5B724D3C963E4</td>\n      <td>TopLevel</td>\n      <td>B0FA488F2911701DD8EC5B1EA5E322D8</td>\n      <td>1614207600</td>\n      <td>9B49D384D56A65E00A12D8349EB46CE5</td>\n      <td>47951</td>\n      <td>681</td>\n      <td>True</td>\n      <td>1305833605</td>\n      <td>40BEB04CF8D3CB02449879668656FFDB</td>\n      <td>108</td>\n      <td>351</td>\n      <td>False</td>\n      <td>1506038593</td>\n      <td>False</td>\n      <td>NaN</td>\n      <td>NaN</td>\n      <td>NaN</td>\n      <td>NaN</td>\n    </tr>\n    <tr>\n      <th>3</th>\n      <td>101\\t100\\t100\\t100\\t100\\t100\\t216\\t216\\t10243\\...</td>\n      <td>NaN</td>\n      <td>81E8247F4E74A0FCDBA911E1A3CB5412</td>\n      <td>Photo</td>\n      <td>758E6F75A253992C7070F6B8A8A891A6</td>\n      <td>6B7D92057ACA0F97EFB5B724D3C963E4</td>\n      <td>TopLevel</td>\n      <td>B0FA488F2911701DD8EC5B1EA5E322D8</td>\n      <td>1614207600</td>\n      <td>9B49D384D56A65E00A12D8349EB46CE5</td>\n      <td>47951</td>\n      <td>681</td>\n      <td>True</td>\n      <td>1305833605</td>\n      <td>6415C94D3C27BA84C069DE049EBB3EDE</td>\n      <td>69</td>\n      <td>106</td>\n      <td>False</td>\n      <td>1562533868</td>\n      <td>False</td>\n      <td>NaN</td>\n      <td>NaN</td>\n      <td>NaN</td>\n      <td>NaN</td>\n    </tr>\n    <tr>\n      <th>4</th>\n      <td>101\\t100\\t100\\t100\\t100\\t100\\t216\\t216\\t10243\\...</td>\n      <td>NaN</td>\n      <td>81E8247F4E74A0FCDBA911E1A3CB5412</td>\n      <td>Photo</td>\n      <td>758E6F75A253992C7070F6B8A8A891A6</td>\n      <td>6B7D92057ACA0F97EFB5B724D3C963E4</td>\n      <td>TopLevel</td>\n      <td>B0FA488F2911701DD8EC5B1EA5E322D8</td>\n      <td>1614207600</td>\n      <td>9B49D384D56A65E00A12D8349EB46CE5</td>\n      <td>47951</td>\n      <td>681</td>\n      <td>True</td>\n      <td>1305833605</td>\n      <td>7E614D5881BC18768880CC374C4BE821</td>\n      <td>24</td>\n      <td>180</td>\n      <td>False</td>\n      <td>1302057914</td>\n      <td>False</td>\n      <td>NaN</td>\n      <td>NaN</td>\n      <td>NaN</td>\n      <td>NaN</td>\n    </tr>\n  </tbody>\n</table>\n</div>"
     },
     "metadata": {},
     "execution_count": 141
    }
   ],
   "source": [
    "data.head()"
   ]
  },
  {
   "cell_type": "code",
   "execution_count": 156,
   "metadata": {},
   "outputs": [],
   "source": [
    "def columns_to_list(data, columns):\n",
    "    \n",
    "    for col in columns:\n",
    "        data[col] = data[col].str.split('\\t')\n",
    "    return data\n",
    "\n",
    "\n",
    "def columns_to_timestamps(data, columns):\n",
    "    for col in columns:  \n",
    "        data[col] = data[col].apply(lambda x: pd.Timestamp(x, unit='s'))\n",
    "        \n",
    "    return data\n",
    "    \n",
    "cols_to_list = ['text_tokens', 'hashtags', 'present_media', 'present_links', 'present_domains']\n",
    "data = columns_to_list(data, cols_to_list)    \n",
    "\n",
    "cols_to_timestamps = ['tweet_timestamp', 'enaging_user_account_creation', 'reply_timestamp', 'retweet_timestamp', 'retweet_with_comment_timestamp', 'like_timestamp']\n",
    "data = columns_to_timestamps(data, cols_to_timestamps)  "
   ]
  },
  {
   "cell_type": "code",
   "execution_count": 143,
   "metadata": {},
   "outputs": [
    {
     "output_type": "stream",
     "name": "stdout",
     "text": [
      "(5000, 24)\n"
     ]
    },
    {
     "output_type": "display_data",
     "data": {
      "text/plain": "                                          text_tokens  \\\n0   [101, 100, 100, 100, 100, 100, 100, 100, 100, ...   \n1   [101, 100, 100, 100, 100, 100, 216, 216, 10243...   \n2   [101, 100, 100, 100, 100, 100, 216, 216, 10243...   \n3   [101, 100, 100, 100, 100, 100, 216, 216, 10243...   \n4   [101, 100, 100, 100, 100, 100, 216, 216, 10243...   \n5   [101, 100, 100, 100, 100, 100, 216, 216, 10243...   \n6   [101, 100, 100, 100, 100, 100, 216, 216, 10243...   \n7   [101, 100, 100, 11045, 12589, 10545, 27920, 71...   \n8   [101, 100, 100, 216, 216, 137, 10183, 10115, 1...   \n9   [101, 100, 100, 216, 216, 137, 10183, 10115, 1...   \n10  [101, 100, 10055, 216, 11937, 15752, 111795, 2...   \n11  [101, 100, 100, 8028, 7450, 2558, 10059, 3911,...   \n12  [101, 100, 100, 8028, 7450, 2558, 10059, 3911,...   \n13  [101, 100, 100, 8028, 7450, 2558, 10059, 3911,...   \n14  [101, 100, 100, 8028, 7450, 2558, 10059, 3911,...   \n15  [101, 100, 100, 8028, 7450, 2558, 10059, 3911,...   \n16  [101, 100, 100, 8028, 7450, 2558, 10059, 3911,...   \n17  [101, 100, 10125, 24301, 12013, 10104, 45876, ...   \n18  [101, 100, 10125, 24301, 12013, 10104, 45876, ...   \n19  [101, 100, 10125, 24301, 12013, 10104, 45876, ...   \n20  [101, 100, 10190, 10109, 23821, 10104, 20290, ...   \n21                                    [101, 100, 102]   \n22  [101, 100, 107, 69202, 107, 113, 10446, 118, 3...   \n23  [101, 100, 107779, 12900, 137, 84707, 42108, 1...   \n24  [101, 100, 108, 10159, 11779, 20129, 11490, 10...   \n25  [101, 100, 108, 10850, 14652, 10415, 110214, 1...   \n26  [101, 100, 108, 39774, 50655, 51036, 108, 9746...   \n27  [101, 100, 11149, 100, 187, 10464, 10108, 1267...   \n28  [101, 100, 11149, 100, 187, 10464, 10108, 1267...   \n29  [101, 100, 11149, 100, 187, 10464, 10108, 1267...   \n30  [101, 100, 11149, 100, 187, 10464, 10108, 1267...   \n31  [101, 100, 11149, 100, 187, 10464, 10108, 1267...   \n32  [101, 100, 11149, 100, 187, 10464, 10108, 1267...   \n33  [101, 100, 113, 108, 2006, 18872, 24532, 114, ...   \n34  [101, 100, 113, 108, 2006, 18872, 24532, 114, ...   \n35  [101, 100, 113, 108, 2006, 18872, 24532, 114, ...   \n36  [101, 100, 113, 108, 2006, 18872, 24532, 114, ...   \n37  [101, 100, 113, 108, 2006, 18872, 24532, 114, ...   \n38  [101, 100, 113, 108, 2006, 18872, 24532, 114, ...   \n39  [101, 100, 113, 108, 2006, 18872, 24532, 114, ...   \n40  [101, 100, 118, 118, 118, 118, 118, 118, 118, ...   \n41  [101, 100, 119, 119, 119, 105443, 99380, 12820...   \n42  [101, 100, 119, 119, 119, 105443, 99380, 12820...   \n43  [101, 100, 12865, 50918, 10112, 13028, 10142, ...   \n44  [101, 100, 13666, 263, 169, 16077, 24850, 1022...   \n45  [101, 100, 13666, 263, 169, 16077, 24850, 1022...   \n46  [101, 100, 13666, 263, 169, 16077, 24850, 1022...   \n47  [101, 100, 13666, 263, 169, 16077, 24850, 1022...   \n48  [101, 100, 13666, 263, 169, 16077, 24850, 1022...   \n49  [101, 100, 13666, 263, 169, 16077, 24850, 1022...   \n\n                                             hashtags  \\\n0                                                 NaN   \n1                                                 NaN   \n2                                                 NaN   \n3                                                 NaN   \n4                                                 NaN   \n5                                                 NaN   \n6                                                 NaN   \n7                  [2C8377CDAFF61B5431417E4615B5C079]   \n8                                                 NaN   \n9                                                 NaN   \n10                                                NaN   \n11  [005DB11FE48FD9FCE48F8D058E18DBBE, 88A2A65C528...   \n12  [005DB11FE48FD9FCE48F8D058E18DBBE, 88A2A65C528...   \n13  [005DB11FE48FD9FCE48F8D058E18DBBE, 88A2A65C528...   \n14  [005DB11FE48FD9FCE48F8D058E18DBBE, 88A2A65C528...   \n15  [005DB11FE48FD9FCE48F8D058E18DBBE, 88A2A65C528...   \n16  [005DB11FE48FD9FCE48F8D058E18DBBE, 88A2A65C528...   \n17  [8A338EB0D4381BB721B2C8582A263EE2, B5D8897F3BC...   \n18  [8A338EB0D4381BB721B2C8582A263EE2, B5D8897F3BC...   \n19  [8A338EB0D4381BB721B2C8582A263EE2, B5D8897F3BC...   \n20                                                NaN   \n21                                                NaN   \n22                 [ADD046CBE0772A82F1360DB9E65A380C]   \n23  [EF17B50979395D0D299E5349922B032C, 21991C5CCC9...   \n24                 [AD264C314683428834F12A9FB66341BD]   \n25                 [C4AB4394BB23E4B75D8626BC7D4C8C98]   \n26  [DE5BC1228A77FDB285945C3A47E622A6, 6600C09C6EE...   \n27                 [CE1200F2E17699595D3D57382ED42367]   \n28                 [CE1200F2E17699595D3D57382ED42367]   \n29                 [CE1200F2E17699595D3D57382ED42367]   \n30                 [CE1200F2E17699595D3D57382ED42367]   \n31                 [CE1200F2E17699595D3D57382ED42367]   \n32                 [CE1200F2E17699595D3D57382ED42367]   \n33  [F4BF39A40168912A9F967EA0B837D547, 1D4BB3F11F2...   \n34  [F4BF39A40168912A9F967EA0B837D547, 1D4BB3F11F2...   \n35  [F4BF39A40168912A9F967EA0B837D547, 1D4BB3F11F2...   \n36  [F4BF39A40168912A9F967EA0B837D547, 1D4BB3F11F2...   \n37  [F4BF39A40168912A9F967EA0B837D547, 1D4BB3F11F2...   \n38  [F4BF39A40168912A9F967EA0B837D547, 1D4BB3F11F2...   \n39  [F4BF39A40168912A9F967EA0B837D547, 1D4BB3F11F2...   \n40                                                NaN   \n41  [FC1CA697FA8DD36E362BEF45C18EB69E, 90344B0F83B...   \n42  [FC1CA697FA8DD36E362BEF45C18EB69E, 90344B0F83B...   \n43                                                NaN   \n44  [B00E3681F8B9172CF993E51CFD0A9DD8, 0E796E96B27...   \n45  [B00E3681F8B9172CF993E51CFD0A9DD8, 0E796E96B27...   \n46  [B00E3681F8B9172CF993E51CFD0A9DD8, 0E796E96B27...   \n47  [B00E3681F8B9172CF993E51CFD0A9DD8, 0E796E96B27...   \n48  [B00E3681F8B9172CF993E51CFD0A9DD8, 0E796E96B27...   \n49  [B00E3681F8B9172CF993E51CFD0A9DD8, 0E796E96B27...   \n\n                            tweet_id                 present_media  \\\n0   395A05A1E8A0A4CEB2E623281C7A41EE                           NaN   \n1   81E8247F4E74A0FCDBA911E1A3CB5412                       [Photo]   \n2   81E8247F4E74A0FCDBA911E1A3CB5412                       [Photo]   \n3   81E8247F4E74A0FCDBA911E1A3CB5412                       [Photo]   \n4   81E8247F4E74A0FCDBA911E1A3CB5412                       [Photo]   \n5   81E8247F4E74A0FCDBA911E1A3CB5412                       [Photo]   \n6   81E8247F4E74A0FCDBA911E1A3CB5412                       [Photo]   \n7   40729594A0EC3DB7D690C6789EC11992                       [Video]   \n8   E5DE595BFF4F548CE9CD32B599FAB516                       [Video]   \n9   E5DE595BFF4F548CE9CD32B599FAB516                       [Video]   \n10  C06143FAFA6D7BDC115F4938C8FCC924                           NaN   \n11  DFB95B180306A714B20C46B99D450821                       [Photo]   \n12  DFB95B180306A714B20C46B99D450821                       [Photo]   \n13  DFB95B180306A714B20C46B99D450821                       [Photo]   \n14  DFB95B180306A714B20C46B99D450821                       [Photo]   \n15  DFB95B180306A714B20C46B99D450821                       [Photo]   \n16  DFB95B180306A714B20C46B99D450821                       [Photo]   \n17  4684A5B2EC909E7D94267A7AB582AA0C  [Photo, Photo, Photo, Photo]   \n18  4684A5B2EC909E7D94267A7AB582AA0C  [Photo, Photo, Photo, Photo]   \n19  4684A5B2EC909E7D94267A7AB582AA0C  [Photo, Photo, Photo, Photo]   \n20  4B3937ED6F4F26E61914BA282E1FB509                       [Photo]   \n21  AB95C3F47B899D27996898FC7DE15C23                           NaN   \n22  70FA489FEA0D824E6B39AB96BF16A903                       [Photo]   \n23  03B3458017EDF646D44BE14D9D3BC461                       [Photo]   \n24  ED7CEC4228CAE723FBEB31CDF524CA55                       [Video]   \n25  BF7EF5C583EF06B85169975C898EBE86                [Photo, Photo]   \n26  486757C39BF7CF6016CCDC5C1919FF8B                [Photo, Photo]   \n27  821B5D4A98CF158C3F14B1BD76E269D4                           NaN   \n28  821B5D4A98CF158C3F14B1BD76E269D4                           NaN   \n29  821B5D4A98CF158C3F14B1BD76E269D4                           NaN   \n30  821B5D4A98CF158C3F14B1BD76E269D4                           NaN   \n31  821B5D4A98CF158C3F14B1BD76E269D4                           NaN   \n32  821B5D4A98CF158C3F14B1BD76E269D4                           NaN   \n33  0195E193FB3865120F97DE561EACFD44                       [Photo]   \n34  0195E193FB3865120F97DE561EACFD44                       [Photo]   \n35  0195E193FB3865120F97DE561EACFD44                       [Photo]   \n36  0195E193FB3865120F97DE561EACFD44                       [Photo]   \n37  0195E193FB3865120F97DE561EACFD44                       [Photo]   \n38  0195E193FB3865120F97DE561EACFD44                       [Photo]   \n39  0195E193FB3865120F97DE561EACFD44                       [Photo]   \n40  EE1E2CA21AE7962220918C9D349C7A2A                           NaN   \n41  108468855AE5CDCB208F25123E393484                       [Photo]   \n42  108468855AE5CDCB208F25123E393484                       [Photo]   \n43  04B7C7744E1A531EED5C2ECFAC311F58                           NaN   \n44  3215CCE0D8B070F3600BE9F84728BD14                       [Photo]   \n45  3215CCE0D8B070F3600BE9F84728BD14                       [Photo]   \n46  3215CCE0D8B070F3600BE9F84728BD14                       [Photo]   \n47  3215CCE0D8B070F3600BE9F84728BD14                       [Photo]   \n48  3215CCE0D8B070F3600BE9F84728BD14                       [Photo]   \n49  3215CCE0D8B070F3600BE9F84728BD14                       [Photo]   \n\n                                        present_links  \\\n0                                                 NaN   \n1                  [758E6F75A253992C7070F6B8A8A891A6]   \n2                  [758E6F75A253992C7070F6B8A8A891A6]   \n3                  [758E6F75A253992C7070F6B8A8A891A6]   \n4                  [758E6F75A253992C7070F6B8A8A891A6]   \n5                  [758E6F75A253992C7070F6B8A8A891A6]   \n6                  [758E6F75A253992C7070F6B8A8A891A6]   \n7                                                 NaN   \n8                                                 NaN   \n9                                                 NaN   \n10                                                NaN   \n11                                                NaN   \n12                                                NaN   \n13                                                NaN   \n14                                                NaN   \n15                                                NaN   \n16                                                NaN   \n17                                                NaN   \n18                                                NaN   \n19                                                NaN   \n20                 [7194CE5CA30114C4A49854BD02A67349]   \n21                                                NaN   \n22                                                NaN   \n23                 [ADEB5DB65B0768B07CE8D057A88F11BA]   \n24                                                NaN   \n25                 [E35A8271557B1D1EF2CF0168DA9E6A68]   \n26                                                NaN   \n27                 [9174FFB6AED4816B5380FD86B0F0E184]   \n28                 [9174FFB6AED4816B5380FD86B0F0E184]   \n29                 [9174FFB6AED4816B5380FD86B0F0E184]   \n30                 [9174FFB6AED4816B5380FD86B0F0E184]   \n31                 [9174FFB6AED4816B5380FD86B0F0E184]   \n32                 [9174FFB6AED4816B5380FD86B0F0E184]   \n33  [6292846828FB25803FE6D1081AEB78B1, 9F73180E2B3...   \n34  [6292846828FB25803FE6D1081AEB78B1, 9F73180E2B3...   \n35  [6292846828FB25803FE6D1081AEB78B1, 9F73180E2B3...   \n36  [6292846828FB25803FE6D1081AEB78B1, 9F73180E2B3...   \n37  [6292846828FB25803FE6D1081AEB78B1, 9F73180E2B3...   \n38  [6292846828FB25803FE6D1081AEB78B1, 9F73180E2B3...   \n39  [6292846828FB25803FE6D1081AEB78B1, 9F73180E2B3...   \n40                                                NaN   \n41                                                NaN   \n42                                                NaN   \n43                 [20CDBA2FD8060FDFF0A595897960198C]   \n44                 [47AF30DD2C1C576F29039B061E44142B]   \n45                 [47AF30DD2C1C576F29039B061E44142B]   \n46                 [47AF30DD2C1C576F29039B061E44142B]   \n47                 [47AF30DD2C1C576F29039B061E44142B]   \n48                 [47AF30DD2C1C576F29039B061E44142B]   \n49                 [47AF30DD2C1C576F29039B061E44142B]   \n\n                                      present_domains tweet_type  \\\n0                                                 NaN   TopLevel   \n1                  [6B7D92057ACA0F97EFB5B724D3C963E4]   TopLevel   \n2                  [6B7D92057ACA0F97EFB5B724D3C963E4]   TopLevel   \n3                  [6B7D92057ACA0F97EFB5B724D3C963E4]   TopLevel   \n4                  [6B7D92057ACA0F97EFB5B724D3C963E4]   TopLevel   \n5                  [6B7D92057ACA0F97EFB5B724D3C963E4]   TopLevel   \n6                  [6B7D92057ACA0F97EFB5B724D3C963E4]   TopLevel   \n7                                                 NaN   TopLevel   \n8                                                 NaN   TopLevel   \n9                                                 NaN   TopLevel   \n10                                                NaN      Quote   \n11                                                NaN   TopLevel   \n12                                                NaN   TopLevel   \n13                                                NaN   TopLevel   \n14                                                NaN   TopLevel   \n15                                                NaN   TopLevel   \n16                                                NaN   TopLevel   \n17                                                NaN   TopLevel   \n18                                                NaN   TopLevel   \n19                                                NaN   TopLevel   \n20                 [9EFF000CDB18B710CDDB43EE1D8C300B]   TopLevel   \n21                                                NaN      Quote   \n22                                                NaN   TopLevel   \n23                 [9EFF000CDB18B710CDDB43EE1D8C300B]   TopLevel   \n24                                                NaN   TopLevel   \n25                 [9EFF000CDB18B710CDDB43EE1D8C300B]   TopLevel   \n26                                                NaN   TopLevel   \n27                 [1F525F368D1F6B785055626CE7DB6DBC]   TopLevel   \n28                 [1F525F368D1F6B785055626CE7DB6DBC]   TopLevel   \n29                 [1F525F368D1F6B785055626CE7DB6DBC]   TopLevel   \n30                 [1F525F368D1F6B785055626CE7DB6DBC]   TopLevel   \n31                 [1F525F368D1F6B785055626CE7DB6DBC]   TopLevel   \n32                 [1F525F368D1F6B785055626CE7DB6DBC]   TopLevel   \n33  [9EFF000CDB18B710CDDB43EE1D8C300B, 5B43996A482...   TopLevel   \n34  [9EFF000CDB18B710CDDB43EE1D8C300B, 5B43996A482...   TopLevel   \n35  [9EFF000CDB18B710CDDB43EE1D8C300B, 5B43996A482...   TopLevel   \n36  [9EFF000CDB18B710CDDB43EE1D8C300B, 5B43996A482...   TopLevel   \n37  [9EFF000CDB18B710CDDB43EE1D8C300B, 5B43996A482...   TopLevel   \n38  [9EFF000CDB18B710CDDB43EE1D8C300B, 5B43996A482...   TopLevel   \n39  [9EFF000CDB18B710CDDB43EE1D8C300B, 5B43996A482...   TopLevel   \n40                                                NaN   TopLevel   \n41                                                NaN   TopLevel   \n42                                                NaN   TopLevel   \n43                 [8DFB1F5A65091CA45888932E8B6D7958]   TopLevel   \n44                 [9EFF000CDB18B710CDDB43EE1D8C300B]   TopLevel   \n45                 [9EFF000CDB18B710CDDB43EE1D8C300B]   TopLevel   \n46                 [9EFF000CDB18B710CDDB43EE1D8C300B]   TopLevel   \n47                 [9EFF000CDB18B710CDDB43EE1D8C300B]   TopLevel   \n48                 [9EFF000CDB18B710CDDB43EE1D8C300B]   TopLevel   \n49                 [9EFF000CDB18B710CDDB43EE1D8C300B]   TopLevel   \n\n                            language     tweet_timestamp  \\\n0   313ECD3A1E5BB07406E4249475C2D6D6 2021-02-24 23:00:00   \n1   B0FA488F2911701DD8EC5B1EA5E322D8 2021-02-24 23:00:00   \n2   B0FA488F2911701DD8EC5B1EA5E322D8 2021-02-24 23:00:00   \n3   B0FA488F2911701DD8EC5B1EA5E322D8 2021-02-24 23:00:00   \n4   B0FA488F2911701DD8EC5B1EA5E322D8 2021-02-24 23:00:00   \n5   B0FA488F2911701DD8EC5B1EA5E322D8 2021-02-24 23:00:00   \n6   B0FA488F2911701DD8EC5B1EA5E322D8 2021-02-24 23:00:00   \n7   B0FA488F2911701DD8EC5B1EA5E322D8 2021-02-24 23:00:00   \n8   488B32D24BD4BB44172EB981C1BCA6FA 2021-02-24 23:00:00   \n9   488B32D24BD4BB44172EB981C1BCA6FA 2021-02-24 23:00:00   \n10  E7F038DE3EAD397AEC9193686C911677 2021-02-24 23:00:00   \n11  E7F038DE3EAD397AEC9193686C911677 2021-02-24 23:00:00   \n12  E7F038DE3EAD397AEC9193686C911677 2021-02-24 23:00:00   \n13  E7F038DE3EAD397AEC9193686C911677 2021-02-24 23:00:00   \n14  E7F038DE3EAD397AEC9193686C911677 2021-02-24 23:00:00   \n15  E7F038DE3EAD397AEC9193686C911677 2021-02-24 23:00:00   \n16  E7F038DE3EAD397AEC9193686C911677 2021-02-24 23:00:00   \n17  B0FA488F2911701DD8EC5B1EA5E322D8 2021-02-24 23:00:00   \n18  B0FA488F2911701DD8EC5B1EA5E322D8 2021-02-24 23:00:00   \n19  B0FA488F2911701DD8EC5B1EA5E322D8 2021-02-24 23:00:00   \n20  B0FA488F2911701DD8EC5B1EA5E322D8 2021-02-24 23:00:00   \n21  313ECD3A1E5BB07406E4249475C2D6D6 2021-02-24 23:00:00   \n22  488B32D24BD4BB44172EB981C1BCA6FA 2021-02-24 23:00:00   \n23  B8B04128918BBF54E2E178BFF1ABA833 2021-02-24 23:00:00   \n24  B0FA488F2911701DD8EC5B1EA5E322D8 2021-02-24 23:00:00   \n25  B0FA488F2911701DD8EC5B1EA5E322D8 2021-02-24 23:00:00   \n26  488B32D24BD4BB44172EB981C1BCA6FA 2021-02-24 23:00:00   \n27  488B32D24BD4BB44172EB981C1BCA6FA 2021-02-24 23:00:00   \n28  488B32D24BD4BB44172EB981C1BCA6FA 2021-02-24 23:00:00   \n29  488B32D24BD4BB44172EB981C1BCA6FA 2021-02-24 23:00:00   \n30  488B32D24BD4BB44172EB981C1BCA6FA 2021-02-24 23:00:00   \n31  488B32D24BD4BB44172EB981C1BCA6FA 2021-02-24 23:00:00   \n32  488B32D24BD4BB44172EB981C1BCA6FA 2021-02-24 23:00:00   \n33  E7F038DE3EAD397AEC9193686C911677 2021-02-24 23:00:00   \n34  E7F038DE3EAD397AEC9193686C911677 2021-02-24 23:00:00   \n35  E7F038DE3EAD397AEC9193686C911677 2021-02-24 23:00:00   \n36  E7F038DE3EAD397AEC9193686C911677 2021-02-24 23:00:00   \n37  E7F038DE3EAD397AEC9193686C911677 2021-02-24 23:00:00   \n38  E7F038DE3EAD397AEC9193686C911677 2021-02-24 23:00:00   \n39  E7F038DE3EAD397AEC9193686C911677 2021-02-24 23:00:00   \n40  313ECD3A1E5BB07406E4249475C2D6D6 2021-02-24 23:00:00   \n41  488B32D24BD4BB44172EB981C1BCA6FA 2021-02-24 23:00:00   \n42  488B32D24BD4BB44172EB981C1BCA6FA 2021-02-24 23:00:00   \n43  488B32D24BD4BB44172EB981C1BCA6FA 2021-02-24 23:00:00   \n44  B8B04128918BBF54E2E178BFF1ABA833 2021-02-24 23:00:00   \n45  B8B04128918BBF54E2E178BFF1ABA833 2021-02-24 23:00:00   \n46  B8B04128918BBF54E2E178BFF1ABA833 2021-02-24 23:00:00   \n47  B8B04128918BBF54E2E178BFF1ABA833 2021-02-24 23:00:00   \n48  B8B04128918BBF54E2E178BFF1ABA833 2021-02-24 23:00:00   \n49  B8B04128918BBF54E2E178BFF1ABA833 2021-02-24 23:00:00   \n\n                engaged_with_user_id  engaged_with_user_follower_count  \\\n0   55F619B7474C1BA0C8EE03C2A31C534C                              6567   \n1   9B49D384D56A65E00A12D8349EB46CE5                             47951   \n2   9B49D384D56A65E00A12D8349EB46CE5                             47951   \n3   9B49D384D56A65E00A12D8349EB46CE5                             47951   \n4   9B49D384D56A65E00A12D8349EB46CE5                             47951   \n5   9B49D384D56A65E00A12D8349EB46CE5                             47951   \n6   9B49D384D56A65E00A12D8349EB46CE5                             47951   \n7   13F0E6E89E19B4E2F6C6F881E6B5B35E                              4428   \n8   193A666BBC290075BB8E78672D0153A6                            175968   \n9   193A666BBC290075BB8E78672D0153A6                            175968   \n10  DB8F08C6F279D497D28C162DB9D318CA                               193   \n11  9C2FE03D0A6ED3877ED38F9F9C6A643D                             11005   \n12  9C2FE03D0A6ED3877ED38F9F9C6A643D                             11005   \n13  9C2FE03D0A6ED3877ED38F9F9C6A643D                             11005   \n14  9C2FE03D0A6ED3877ED38F9F9C6A643D                             11005   \n15  9C2FE03D0A6ED3877ED38F9F9C6A643D                             11005   \n16  9C2FE03D0A6ED3877ED38F9F9C6A643D                             11005   \n17  68CEFFDCC9A1F0F243D5D8B394713AC5                            611494   \n18  68CEFFDCC9A1F0F243D5D8B394713AC5                            611494   \n19  68CEFFDCC9A1F0F243D5D8B394713AC5                            611494   \n20  8B3910EFDE2E79DC80199FFEE21A239F                           1972400   \n21  4D1E3C5ACCB58A7D37FD8CE08B8A0601                               313   \n22  EC17A408CA6FCBFEFF3AC2267F0E66A5                              1454   \n23  A397634CB9484E95AEFD59438C9D20C2                              1147   \n24  5A38357D649427FD67C3E867AFE7AD21                             49760   \n25  9B2E0F706D2190267F8F4E6FF2909ED7                             14796   \n26  5EB948F162D4ED38E9859D27813AC0E0                              5976   \n27  9415F6B5A4EF29D54C8BB597B1156164                             22688   \n28  9415F6B5A4EF29D54C8BB597B1156164                             22688   \n29  9415F6B5A4EF29D54C8BB597B1156164                             22688   \n30  9415F6B5A4EF29D54C8BB597B1156164                             22688   \n31  9415F6B5A4EF29D54C8BB597B1156164                             22688   \n32  9415F6B5A4EF29D54C8BB597B1156164                             22688   \n33  D80218D3B0C59D45539D0A9A3BCF4A39                             30566   \n34  D80218D3B0C59D45539D0A9A3BCF4A39                             30566   \n35  D80218D3B0C59D45539D0A9A3BCF4A39                             30566   \n36  D80218D3B0C59D45539D0A9A3BCF4A39                             30566   \n37  D80218D3B0C59D45539D0A9A3BCF4A39                             30566   \n38  D80218D3B0C59D45539D0A9A3BCF4A39                             30566   \n39  D80218D3B0C59D45539D0A9A3BCF4A39                             30566   \n40  796731D0DF96103FA66675141A2E1CD6                            264243   \n41  A9D4A7AC6A42E10EDBDED665FB252474                               512   \n42  A9D4A7AC6A42E10EDBDED665FB252474                               512   \n43  063DF403460E8D88D63DBADC7FAFF2D3                              3589   \n44  346990CB288D0F76ABD4500C6F52FFDB                            580956   \n45  346990CB288D0F76ABD4500C6F52FFDB                            580956   \n46  346990CB288D0F76ABD4500C6F52FFDB                            580956   \n47  346990CB288D0F76ABD4500C6F52FFDB                            580956   \n48  346990CB288D0F76ABD4500C6F52FFDB                            580956   \n49  346990CB288D0F76ABD4500C6F52FFDB                            580956   \n\n    engaged_with_user_following_count  engaged_with_user_is_verified  \\\n0                                4006                          False   \n1                                 681                           True   \n2                                 681                           True   \n3                                 681                           True   \n4                                 681                           True   \n5                                 681                           True   \n6                                 681                           True   \n7                                 376                          False   \n8                                 161                          False   \n9                                 161                          False   \n10                                382                          False   \n11                                 42                          False   \n12                                 42                          False   \n13                                 42                          False   \n14                                 42                          False   \n15                                 42                          False   \n16                                 42                          False   \n17                               2874                           True   \n18                               2874                           True   \n19                               2874                           True   \n20                             221970                           True   \n21                                274                          False   \n22                               1116                           True   \n23                                 50                          False   \n24                                507                          False   \n25                               1429                           True   \n26                                 82                          False   \n27                               1701                          False   \n28                               1701                          False   \n29                               1701                          False   \n30                               1701                          False   \n31                               1701                          False   \n32                               1701                          False   \n33                                497                          False   \n34                                497                          False   \n35                                497                          False   \n36                                497                          False   \n37                                497                          False   \n38                                497                          False   \n39                                497                          False   \n40                                 15                          False   \n41                               1440                          False   \n42                               1440                          False   \n43                                628                          False   \n44                                863                           True   \n45                                863                           True   \n46                                863                           True   \n47                                863                           True   \n48                                863                           True   \n49                                863                           True   \n\n    engaged_with_user_account_creation                  engaging_user_id  \\\n0                           1456262411  736278C2FEC488516CDA4ED6952A2154   \n1                           1305833605  19D5367D835484236CAF9DBEF475FF7A   \n2                           1305833605  40BEB04CF8D3CB02449879668656FFDB   \n3                           1305833605  6415C94D3C27BA84C069DE049EBB3EDE   \n4                           1305833605  7E614D5881BC18768880CC374C4BE821   \n5                           1305833605  9CFE74AF494F669C35496B000C5843AB   \n6                           1305833605  B5FAB4F5EC1B12BE7E7FE0C27662EB80   \n7                           1454502209  BDAFE5407EF4AA3E63E12B8074CA6951   \n8                           1569911252  11612C81933A4F93C5F985AAFE3E04CB   \n9                           1569911252  218A62BB3B0650FBFC37DC7E4B4A4634   \n10                          1366986535  66EF45E9D5C5CCF258A43E6E086D4062   \n11                          1492662527  1277F1F03FF7B4C7ABB9BB81719202D4   \n12                          1492662527  3B917EC783290CDD0A027A0513212C22   \n13                          1492662527  45335998EF578665A53DEA3413BBD3EE   \n14                          1492662527  7D8A6E95C2C175399602AB6C3037D5BF   \n15                          1492662527  CA85F8A1432E99CEBBB9F4437B28AA54   \n16                          1492662527  F240450A9B63F7C697DBA69E0D18A251   \n17                          1276131557  167007C5E96D3CE2D1C3432873156026   \n18                          1276131557  4A088297CDE541DD61EF4DC8E874C60A   \n19                          1276131557  5A965E8E3AD7505B8398BBDACBF6477A   \n20                          1170861734  7A4AADFBF8BAEE8874F05E5CEA149B4E   \n21                          1565647777  0495E0325FE92B4D5635C3518BEDB2C9   \n22                          1460662973  A6057F6F8412EC0CEC96B4803E6558B6   \n23                          1526667839  5C0659FBE930E8275AD5D4DF6C0E084F   \n24                          1585196685  CDF51BC421CF4089F67C56BC668DB177   \n25                          1223036873  92B5F8D80B78EE13FAC6CF88AC45695B   \n26                          1591267483  9C6841B85A13876E252EBFA627274205   \n27                          1535931595  18194371682AC9F07DDD357776EE11A7   \n28                          1535931595  4C11ABD651E573FCBA5B1E32072081B5   \n29                          1535931595  581980065ACBD23CA37C3156C178DBA0   \n30                          1535931595  64F82C70D17319B4D43F2725DA27B783   \n31                          1535931595  DEB026C5ED654C06A7C4B54898E186F9   \n32                          1535931595  F466EE62609273208EEFD813FF064D15   \n33                          1591001807  009BB83DD910B2936E9751555B77DCC5   \n34                          1591001807  1F2B43618DF84C68F6041937194EEE27   \n35                          1591001807  30B728A47289000694D0F3B730A640A1   \n36                          1591001807  681C0C003844E173B2654AE874E1ECA0   \n37                          1591001807  7CB6FA83E49B33A879D0DA6FA4DDCAF8   \n38                          1591001807  88B4389EB8E4B019E33EBC6C6A942F85   \n39                          1591001807  BB5A750E3973FF5E831A8E271EF5CB61   \n40                          1266985501  095D20CD42C127B5EF1A08D10D8CABB0   \n41                          1552740992  12177F7563407DD6556986C4474DB086   \n42                          1552740992  276A47C6E9E53C4D5E1BD3F1A6C418A9   \n43                          1406067558  A16A927B72912BE11BB12B9892C8EA6F   \n44                          1244745348  0158932D4AA4FF10FD8267F82EF7BD02   \n45                          1244745348  1E190FA5990C8C865E4C7134EF789A79   \n46                          1244745348  385FEE85EFE4C8BEBED2EB9412D45CBF   \n47                          1244745348  3FE8AE189AD2BC9C5F9B20723354D754   \n48                          1244745348  463ED0FA95E35A21765C72ABC17F214C   \n49                          1244745348  5B3E9AACF5B268E9F91D8B70DF13A937   \n\n    enaging_user_follower_count  enaging_user_following_count  \\\n0                          1139                          1126   \n1                            82                            76   \n2                           108                           351   \n3                            69                           106   \n4                            24                           180   \n5                           269                           494   \n6                           770                          1323   \n7                           201                          1322   \n8                            47                           356   \n9                           379                          4867   \n10                         1086                          1011   \n11                            4                           180   \n12                           45                           218   \n13                           19                            27   \n14                           66                           237   \n15                            0                            28   \n16                           19                           120   \n17                       501448                            95   \n18                           22                           355   \n19                          394                           203   \n20                           23                            71   \n21                          439                           500   \n22                          244                          1411   \n23                           55                           104   \n24                           38                           108   \n25                           82                            72   \n26                           18                           517   \n27                          105                           221   \n28                           16                            59   \n29                           42                           273   \n30                          208                           531   \n31                           91                           452   \n32                           60                           165   \n33                          225                          1416   \n34                           82                           264   \n35                          349                           424   \n36                          121                           240   \n37                          208                          2806   \n38                           30                            53   \n39                          215                          1138   \n40                          768                           884   \n41                          141                           466   \n42                          174                           310   \n43                          505                           256   \n44                          820                          1249   \n45                          393                           397   \n46                            7                           153   \n47                         1043                          1002   \n48                         2488                          3177   \n49                          299                           372   \n\n    enaging_user_is_verified enaging_user_account_creation  \\\n0                      False           2020-09-30 00:23:46   \n1                      False           2017-05-26 15:48:38   \n2                      False           2017-09-22 00:03:13   \n3                      False           2019-07-07 21:11:08   \n4                      False           2011-04-06 02:45:14   \n5                      False           2011-11-11 23:21:18   \n6                      False           2010-06-18 17:25:31   \n7                      False           2010-08-03 04:23:42   \n8                      False           2019-08-21 07:17:56   \n9                      False           2016-11-07 14:21:02   \n10                     False           2019-06-19 00:55:56   \n11                     False           2017-08-02 18:42:02   \n12                     False           2020-02-11 09:24:11   \n13                     False           2017-05-04 11:20:18   \n14                     False           2014-05-20 12:31:07   \n15                     False           2020-05-26 10:47:04   \n16                     False           2019-08-25 10:36:57   \n17                     False           2010-08-19 14:51:39   \n18                     False           2019-01-14 00:56:13   \n19                     False           2016-08-13 14:48:23   \n20                     False           2017-11-07 03:17:04   \n21                     False           2019-11-11 18:12:29   \n22                     False           2016-03-22 17:23:35   \n23                     False           2019-05-04 15:59:26   \n24                     False           2012-08-15 05:54:02   \n25                     False           2012-01-28 08:55:32   \n26                     False           2020-04-22 03:05:10   \n27                     False           2018-09-16 21:17:10   \n28                     False           2020-09-11 23:16:35   \n29                     False           2017-04-19 22:29:16   \n30                     False           2010-08-29 13:47:16   \n31                     False           2020-05-13 19:26:45   \n32                     False           2016-12-05 03:05:58   \n33                     False           2020-07-24 16:17:42   \n34                     False           2018-08-27 00:24:16   \n35                     False           2014-05-18 07:57:21   \n36                     False           2014-11-13 18:17:18   \n37                     False           2014-09-06 07:45:16   \n38                     False           2020-06-07 11:06:25   \n39                     False           2020-06-23 09:36:54   \n40                     False           2012-11-05 05:23:02   \n41                     False           2020-10-13 18:30:17   \n42                     False           2017-10-20 22:37:48   \n43                     False           2012-04-12 19:54:43   \n44                     False           2011-05-13 14:23:38   \n45                     False           2019-08-01 17:30:32   \n46                     False           2018-05-08 05:07:29   \n47                     False           2011-06-21 00:17:38   \n48                     False           2011-06-05 23:01:00   \n49                     False           2020-05-04 02:28:35   \n\n    engagee_follows_engager     reply_timestamp   retweet_timestamp  \\\n0                     False                 NaT                 NaT   \n1                     False                 NaT                 NaT   \n2                     False                 NaT                 NaT   \n3                     False                 NaT                 NaT   \n4                     False                 NaT                 NaT   \n5                     False                 NaT                 NaT   \n6                      True                 NaT                 NaT   \n7                     False                 NaT                 NaT   \n8                     False                 NaT                 NaT   \n9                     False                 NaT 2021-02-24 23:33:22   \n10                     True                 NaT                 NaT   \n11                    False                 NaT                 NaT   \n12                    False                 NaT                 NaT   \n13                    False                 NaT                 NaT   \n14                    False                 NaT 2021-02-24 23:26:05   \n15                    False                 NaT                 NaT   \n16                    False                 NaT                 NaT   \n17                     True                 NaT 2021-02-24 23:00:39   \n18                     True                 NaT                 NaT   \n19                    False                 NaT                 NaT   \n20                    False 2021-02-24 23:07:07                 NaT   \n21                     True                 NaT                 NaT   \n22                    False                 NaT                 NaT   \n23                    False                 NaT                 NaT   \n24                    False                 NaT 2021-02-24 23:00:59   \n25                    False                 NaT                 NaT   \n26                    False                 NaT                 NaT   \n27                    False                 NaT                 NaT   \n28                    False                 NaT                 NaT   \n29                    False                 NaT                 NaT   \n30                    False                 NaT                 NaT   \n31                    False                 NaT                 NaT   \n32                    False                 NaT                 NaT   \n33                    False                 NaT                 NaT   \n34                    False                 NaT                 NaT   \n35                    False                 NaT                 NaT   \n36                    False                 NaT                 NaT   \n37                    False                 NaT                 NaT   \n38                    False                 NaT                 NaT   \n39                    False                 NaT                 NaT   \n40                    False                 NaT                 NaT   \n41                     True                 NaT                 NaT   \n42                     True                 NaT                 NaT   \n43                    False                 NaT                 NaT   \n44                    False                 NaT                 NaT   \n45                    False                 NaT                 NaT   \n46                    False                 NaT                 NaT   \n47                    False                 NaT                 NaT   \n48                    False                 NaT                 NaT   \n49                    False                 NaT                 NaT   \n\n   retweet_with_comment_timestamp      like_timestamp  \n0                             NaT 2021-02-24 23:05:04  \n1                             NaT                 NaT  \n2                             NaT                 NaT  \n3                             NaT                 NaT  \n4                             NaT                 NaT  \n5                             NaT                 NaT  \n6                             NaT 2021-02-24 23:42:41  \n7                             NaT                 NaT  \n8                             NaT 2021-02-24 23:07:39  \n9                             NaT 2021-02-24 23:33:22  \n10                            NaT                 NaT  \n11                            NaT                 NaT  \n12                            NaT                 NaT  \n13                            NaT 2021-02-24 23:22:50  \n14                            NaT 2021-02-24 23:26:05  \n15                            NaT                 NaT  \n16                            NaT 2021-02-24 23:14:19  \n17                            NaT                 NaT  \n18                            NaT 2021-02-24 23:07:25  \n19                            NaT 2021-02-24 23:49:11  \n20                            NaT                 NaT  \n21                            NaT                 NaT  \n22                            NaT                 NaT  \n23                            NaT                 NaT  \n24                            NaT 2021-02-24 23:00:59  \n25                            NaT                 NaT  \n26                            NaT 2021-02-24 23:45:59  \n27                            NaT                 NaT  \n28                            NaT                 NaT  \n29                            NaT                 NaT  \n30                            NaT                 NaT  \n31                            NaT                 NaT  \n32                            NaT                 NaT  \n33                            NaT                 NaT  \n34                            NaT                 NaT  \n35                            NaT                 NaT  \n36                            NaT                 NaT  \n37                            NaT                 NaT  \n38                            NaT                 NaT  \n39                            NaT                 NaT  \n40                            NaT 2021-02-24 23:01:58  \n41                            NaT 2021-02-24 23:01:53  \n42                            NaT 2021-02-24 23:24:26  \n43                            NaT                 NaT  \n44                            NaT                 NaT  \n45                            NaT                 NaT  \n46                            NaT                 NaT  \n47                            NaT                 NaT  \n48                            NaT                 NaT  \n49                            NaT                 NaT  ",
      "text/html": "<div>\n<style scoped>\n    .dataframe tbody tr th:only-of-type {\n        vertical-align: middle;\n    }\n\n    .dataframe tbody tr th {\n        vertical-align: top;\n    }\n\n    .dataframe thead th {\n        text-align: right;\n    }\n</style>\n<table border=\"1\" class=\"dataframe\">\n  <thead>\n    <tr style=\"text-align: right;\">\n      <th></th>\n      <th>text_tokens</th>\n      <th>hashtags</th>\n      <th>tweet_id</th>\n      <th>present_media</th>\n      <th>present_links</th>\n      <th>present_domains</th>\n      <th>tweet_type</th>\n      <th>language</th>\n      <th>tweet_timestamp</th>\n      <th>engaged_with_user_id</th>\n      <th>engaged_with_user_follower_count</th>\n      <th>engaged_with_user_following_count</th>\n      <th>engaged_with_user_is_verified</th>\n      <th>engaged_with_user_account_creation</th>\n      <th>engaging_user_id</th>\n      <th>enaging_user_follower_count</th>\n      <th>enaging_user_following_count</th>\n      <th>enaging_user_is_verified</th>\n      <th>enaging_user_account_creation</th>\n      <th>engagee_follows_engager</th>\n      <th>reply_timestamp</th>\n      <th>retweet_timestamp</th>\n      <th>retweet_with_comment_timestamp</th>\n      <th>like_timestamp</th>\n    </tr>\n  </thead>\n  <tbody>\n    <tr>\n      <th>0</th>\n      <td>[101, 100, 100, 100, 100, 100, 100, 100, 100, ...</td>\n      <td>NaN</td>\n      <td>395A05A1E8A0A4CEB2E623281C7A41EE</td>\n      <td>NaN</td>\n      <td>NaN</td>\n      <td>NaN</td>\n      <td>TopLevel</td>\n      <td>313ECD3A1E5BB07406E4249475C2D6D6</td>\n      <td>2021-02-24 23:00:00</td>\n      <td>55F619B7474C1BA0C8EE03C2A31C534C</td>\n      <td>6567</td>\n      <td>4006</td>\n      <td>False</td>\n      <td>1456262411</td>\n      <td>736278C2FEC488516CDA4ED6952A2154</td>\n      <td>1139</td>\n      <td>1126</td>\n      <td>False</td>\n      <td>2020-09-30 00:23:46</td>\n      <td>False</td>\n      <td>NaT</td>\n      <td>NaT</td>\n      <td>NaT</td>\n      <td>2021-02-24 23:05:04</td>\n    </tr>\n    <tr>\n      <th>1</th>\n      <td>[101, 100, 100, 100, 100, 100, 216, 216, 10243...</td>\n      <td>NaN</td>\n      <td>81E8247F4E74A0FCDBA911E1A3CB5412</td>\n      <td>[Photo]</td>\n      <td>[758E6F75A253992C7070F6B8A8A891A6]</td>\n      <td>[6B7D92057ACA0F97EFB5B724D3C963E4]</td>\n      <td>TopLevel</td>\n      <td>B0FA488F2911701DD8EC5B1EA5E322D8</td>\n      <td>2021-02-24 23:00:00</td>\n      <td>9B49D384D56A65E00A12D8349EB46CE5</td>\n      <td>47951</td>\n      <td>681</td>\n      <td>True</td>\n      <td>1305833605</td>\n      <td>19D5367D835484236CAF9DBEF475FF7A</td>\n      <td>82</td>\n      <td>76</td>\n      <td>False</td>\n      <td>2017-05-26 15:48:38</td>\n      <td>False</td>\n      <td>NaT</td>\n      <td>NaT</td>\n      <td>NaT</td>\n      <td>NaT</td>\n    </tr>\n    <tr>\n      <th>2</th>\n      <td>[101, 100, 100, 100, 100, 100, 216, 216, 10243...</td>\n      <td>NaN</td>\n      <td>81E8247F4E74A0FCDBA911E1A3CB5412</td>\n      <td>[Photo]</td>\n      <td>[758E6F75A253992C7070F6B8A8A891A6]</td>\n      <td>[6B7D92057ACA0F97EFB5B724D3C963E4]</td>\n      <td>TopLevel</td>\n      <td>B0FA488F2911701DD8EC5B1EA5E322D8</td>\n      <td>2021-02-24 23:00:00</td>\n      <td>9B49D384D56A65E00A12D8349EB46CE5</td>\n      <td>47951</td>\n      <td>681</td>\n      <td>True</td>\n      <td>1305833605</td>\n      <td>40BEB04CF8D3CB02449879668656FFDB</td>\n      <td>108</td>\n      <td>351</td>\n      <td>False</td>\n      <td>2017-09-22 00:03:13</td>\n      <td>False</td>\n      <td>NaT</td>\n      <td>NaT</td>\n      <td>NaT</td>\n      <td>NaT</td>\n    </tr>\n    <tr>\n      <th>3</th>\n      <td>[101, 100, 100, 100, 100, 100, 216, 216, 10243...</td>\n      <td>NaN</td>\n      <td>81E8247F4E74A0FCDBA911E1A3CB5412</td>\n      <td>[Photo]</td>\n      <td>[758E6F75A253992C7070F6B8A8A891A6]</td>\n      <td>[6B7D92057ACA0F97EFB5B724D3C963E4]</td>\n      <td>TopLevel</td>\n      <td>B0FA488F2911701DD8EC5B1EA5E322D8</td>\n      <td>2021-02-24 23:00:00</td>\n      <td>9B49D384D56A65E00A12D8349EB46CE5</td>\n      <td>47951</td>\n      <td>681</td>\n      <td>True</td>\n      <td>1305833605</td>\n      <td>6415C94D3C27BA84C069DE049EBB3EDE</td>\n      <td>69</td>\n      <td>106</td>\n      <td>False</td>\n      <td>2019-07-07 21:11:08</td>\n      <td>False</td>\n      <td>NaT</td>\n      <td>NaT</td>\n      <td>NaT</td>\n      <td>NaT</td>\n    </tr>\n    <tr>\n      <th>4</th>\n      <td>[101, 100, 100, 100, 100, 100, 216, 216, 10243...</td>\n      <td>NaN</td>\n      <td>81E8247F4E74A0FCDBA911E1A3CB5412</td>\n      <td>[Photo]</td>\n      <td>[758E6F75A253992C7070F6B8A8A891A6]</td>\n      <td>[6B7D92057ACA0F97EFB5B724D3C963E4]</td>\n      <td>TopLevel</td>\n      <td>B0FA488F2911701DD8EC5B1EA5E322D8</td>\n      <td>2021-02-24 23:00:00</td>\n      <td>9B49D384D56A65E00A12D8349EB46CE5</td>\n      <td>47951</td>\n      <td>681</td>\n      <td>True</td>\n      <td>1305833605</td>\n      <td>7E614D5881BC18768880CC374C4BE821</td>\n      <td>24</td>\n      <td>180</td>\n      <td>False</td>\n      <td>2011-04-06 02:45:14</td>\n      <td>False</td>\n      <td>NaT</td>\n      <td>NaT</td>\n      <td>NaT</td>\n      <td>NaT</td>\n    </tr>\n    <tr>\n      <th>5</th>\n      <td>[101, 100, 100, 100, 100, 100, 216, 216, 10243...</td>\n      <td>NaN</td>\n      <td>81E8247F4E74A0FCDBA911E1A3CB5412</td>\n      <td>[Photo]</td>\n      <td>[758E6F75A253992C7070F6B8A8A891A6]</td>\n      <td>[6B7D92057ACA0F97EFB5B724D3C963E4]</td>\n      <td>TopLevel</td>\n      <td>B0FA488F2911701DD8EC5B1EA5E322D8</td>\n      <td>2021-02-24 23:00:00</td>\n      <td>9B49D384D56A65E00A12D8349EB46CE5</td>\n      <td>47951</td>\n      <td>681</td>\n      <td>True</td>\n      <td>1305833605</td>\n      <td>9CFE74AF494F669C35496B000C5843AB</td>\n      <td>269</td>\n      <td>494</td>\n      <td>False</td>\n      <td>2011-11-11 23:21:18</td>\n      <td>False</td>\n      <td>NaT</td>\n      <td>NaT</td>\n      <td>NaT</td>\n      <td>NaT</td>\n    </tr>\n    <tr>\n      <th>6</th>\n      <td>[101, 100, 100, 100, 100, 100, 216, 216, 10243...</td>\n      <td>NaN</td>\n      <td>81E8247F4E74A0FCDBA911E1A3CB5412</td>\n      <td>[Photo]</td>\n      <td>[758E6F75A253992C7070F6B8A8A891A6]</td>\n      <td>[6B7D92057ACA0F97EFB5B724D3C963E4]</td>\n      <td>TopLevel</td>\n      <td>B0FA488F2911701DD8EC5B1EA5E322D8</td>\n      <td>2021-02-24 23:00:00</td>\n      <td>9B49D384D56A65E00A12D8349EB46CE5</td>\n      <td>47951</td>\n      <td>681</td>\n      <td>True</td>\n      <td>1305833605</td>\n      <td>B5FAB4F5EC1B12BE7E7FE0C27662EB80</td>\n      <td>770</td>\n      <td>1323</td>\n      <td>False</td>\n      <td>2010-06-18 17:25:31</td>\n      <td>True</td>\n      <td>NaT</td>\n      <td>NaT</td>\n      <td>NaT</td>\n      <td>2021-02-24 23:42:41</td>\n    </tr>\n    <tr>\n      <th>7</th>\n      <td>[101, 100, 100, 11045, 12589, 10545, 27920, 71...</td>\n      <td>[2C8377CDAFF61B5431417E4615B5C079]</td>\n      <td>40729594A0EC3DB7D690C6789EC11992</td>\n      <td>[Video]</td>\n      <td>NaN</td>\n      <td>NaN</td>\n      <td>TopLevel</td>\n      <td>B0FA488F2911701DD8EC5B1EA5E322D8</td>\n      <td>2021-02-24 23:00:00</td>\n      <td>13F0E6E89E19B4E2F6C6F881E6B5B35E</td>\n      <td>4428</td>\n      <td>376</td>\n      <td>False</td>\n      <td>1454502209</td>\n      <td>BDAFE5407EF4AA3E63E12B8074CA6951</td>\n      <td>201</td>\n      <td>1322</td>\n      <td>False</td>\n      <td>2010-08-03 04:23:42</td>\n      <td>False</td>\n      <td>NaT</td>\n      <td>NaT</td>\n      <td>NaT</td>\n      <td>NaT</td>\n    </tr>\n    <tr>\n      <th>8</th>\n      <td>[101, 100, 100, 216, 216, 137, 10183, 10115, 1...</td>\n      <td>NaN</td>\n      <td>E5DE595BFF4F548CE9CD32B599FAB516</td>\n      <td>[Video]</td>\n      <td>NaN</td>\n      <td>NaN</td>\n      <td>TopLevel</td>\n      <td>488B32D24BD4BB44172EB981C1BCA6FA</td>\n      <td>2021-02-24 23:00:00</td>\n      <td>193A666BBC290075BB8E78672D0153A6</td>\n      <td>175968</td>\n      <td>161</td>\n      <td>False</td>\n      <td>1569911252</td>\n      <td>11612C81933A4F93C5F985AAFE3E04CB</td>\n      <td>47</td>\n      <td>356</td>\n      <td>False</td>\n      <td>2019-08-21 07:17:56</td>\n      <td>False</td>\n      <td>NaT</td>\n      <td>NaT</td>\n      <td>NaT</td>\n      <td>2021-02-24 23:07:39</td>\n    </tr>\n    <tr>\n      <th>9</th>\n      <td>[101, 100, 100, 216, 216, 137, 10183, 10115, 1...</td>\n      <td>NaN</td>\n      <td>E5DE595BFF4F548CE9CD32B599FAB516</td>\n      <td>[Video]</td>\n      <td>NaN</td>\n      <td>NaN</td>\n      <td>TopLevel</td>\n      <td>488B32D24BD4BB44172EB981C1BCA6FA</td>\n      <td>2021-02-24 23:00:00</td>\n      <td>193A666BBC290075BB8E78672D0153A6</td>\n      <td>175968</td>\n      <td>161</td>\n      <td>False</td>\n      <td>1569911252</td>\n      <td>218A62BB3B0650FBFC37DC7E4B4A4634</td>\n      <td>379</td>\n      <td>4867</td>\n      <td>False</td>\n      <td>2016-11-07 14:21:02</td>\n      <td>False</td>\n      <td>NaT</td>\n      <td>2021-02-24 23:33:22</td>\n      <td>NaT</td>\n      <td>2021-02-24 23:33:22</td>\n    </tr>\n    <tr>\n      <th>10</th>\n      <td>[101, 100, 10055, 216, 11937, 15752, 111795, 2...</td>\n      <td>NaN</td>\n      <td>C06143FAFA6D7BDC115F4938C8FCC924</td>\n      <td>NaN</td>\n      <td>NaN</td>\n      <td>NaN</td>\n      <td>Quote</td>\n      <td>E7F038DE3EAD397AEC9193686C911677</td>\n      <td>2021-02-24 23:00:00</td>\n      <td>DB8F08C6F279D497D28C162DB9D318CA</td>\n      <td>193</td>\n      <td>382</td>\n      <td>False</td>\n      <td>1366986535</td>\n      <td>66EF45E9D5C5CCF258A43E6E086D4062</td>\n      <td>1086</td>\n      <td>1011</td>\n      <td>False</td>\n      <td>2019-06-19 00:55:56</td>\n      <td>True</td>\n      <td>NaT</td>\n      <td>NaT</td>\n      <td>NaT</td>\n      <td>NaT</td>\n    </tr>\n    <tr>\n      <th>11</th>\n      <td>[101, 100, 100, 8028, 7450, 2558, 10059, 3911,...</td>\n      <td>[005DB11FE48FD9FCE48F8D058E18DBBE, 88A2A65C528...</td>\n      <td>DFB95B180306A714B20C46B99D450821</td>\n      <td>[Photo]</td>\n      <td>NaN</td>\n      <td>NaN</td>\n      <td>TopLevel</td>\n      <td>E7F038DE3EAD397AEC9193686C911677</td>\n      <td>2021-02-24 23:00:00</td>\n      <td>9C2FE03D0A6ED3877ED38F9F9C6A643D</td>\n      <td>11005</td>\n      <td>42</td>\n      <td>False</td>\n      <td>1492662527</td>\n      <td>1277F1F03FF7B4C7ABB9BB81719202D4</td>\n      <td>4</td>\n      <td>180</td>\n      <td>False</td>\n      <td>2017-08-02 18:42:02</td>\n      <td>False</td>\n      <td>NaT</td>\n      <td>NaT</td>\n      <td>NaT</td>\n      <td>NaT</td>\n    </tr>\n    <tr>\n      <th>12</th>\n      <td>[101, 100, 100, 8028, 7450, 2558, 10059, 3911,...</td>\n      <td>[005DB11FE48FD9FCE48F8D058E18DBBE, 88A2A65C528...</td>\n      <td>DFB95B180306A714B20C46B99D450821</td>\n      <td>[Photo]</td>\n      <td>NaN</td>\n      <td>NaN</td>\n      <td>TopLevel</td>\n      <td>E7F038DE3EAD397AEC9193686C911677</td>\n      <td>2021-02-24 23:00:00</td>\n      <td>9C2FE03D0A6ED3877ED38F9F9C6A643D</td>\n      <td>11005</td>\n      <td>42</td>\n      <td>False</td>\n      <td>1492662527</td>\n      <td>3B917EC783290CDD0A027A0513212C22</td>\n      <td>45</td>\n      <td>218</td>\n      <td>False</td>\n      <td>2020-02-11 09:24:11</td>\n      <td>False</td>\n      <td>NaT</td>\n      <td>NaT</td>\n      <td>NaT</td>\n      <td>NaT</td>\n    </tr>\n    <tr>\n      <th>13</th>\n      <td>[101, 100, 100, 8028, 7450, 2558, 10059, 3911,...</td>\n      <td>[005DB11FE48FD9FCE48F8D058E18DBBE, 88A2A65C528...</td>\n      <td>DFB95B180306A714B20C46B99D450821</td>\n      <td>[Photo]</td>\n      <td>NaN</td>\n      <td>NaN</td>\n      <td>TopLevel</td>\n      <td>E7F038DE3EAD397AEC9193686C911677</td>\n      <td>2021-02-24 23:00:00</td>\n      <td>9C2FE03D0A6ED3877ED38F9F9C6A643D</td>\n      <td>11005</td>\n      <td>42</td>\n      <td>False</td>\n      <td>1492662527</td>\n      <td>45335998EF578665A53DEA3413BBD3EE</td>\n      <td>19</td>\n      <td>27</td>\n      <td>False</td>\n      <td>2017-05-04 11:20:18</td>\n      <td>False</td>\n      <td>NaT</td>\n      <td>NaT</td>\n      <td>NaT</td>\n      <td>2021-02-24 23:22:50</td>\n    </tr>\n    <tr>\n      <th>14</th>\n      <td>[101, 100, 100, 8028, 7450, 2558, 10059, 3911,...</td>\n      <td>[005DB11FE48FD9FCE48F8D058E18DBBE, 88A2A65C528...</td>\n      <td>DFB95B180306A714B20C46B99D450821</td>\n      <td>[Photo]</td>\n      <td>NaN</td>\n      <td>NaN</td>\n      <td>TopLevel</td>\n      <td>E7F038DE3EAD397AEC9193686C911677</td>\n      <td>2021-02-24 23:00:00</td>\n      <td>9C2FE03D0A6ED3877ED38F9F9C6A643D</td>\n      <td>11005</td>\n      <td>42</td>\n      <td>False</td>\n      <td>1492662527</td>\n      <td>7D8A6E95C2C175399602AB6C3037D5BF</td>\n      <td>66</td>\n      <td>237</td>\n      <td>False</td>\n      <td>2014-05-20 12:31:07</td>\n      <td>False</td>\n      <td>NaT</td>\n      <td>2021-02-24 23:26:05</td>\n      <td>NaT</td>\n      <td>2021-02-24 23:26:05</td>\n    </tr>\n    <tr>\n      <th>15</th>\n      <td>[101, 100, 100, 8028, 7450, 2558, 10059, 3911,...</td>\n      <td>[005DB11FE48FD9FCE48F8D058E18DBBE, 88A2A65C528...</td>\n      <td>DFB95B180306A714B20C46B99D450821</td>\n      <td>[Photo]</td>\n      <td>NaN</td>\n      <td>NaN</td>\n      <td>TopLevel</td>\n      <td>E7F038DE3EAD397AEC9193686C911677</td>\n      <td>2021-02-24 23:00:00</td>\n      <td>9C2FE03D0A6ED3877ED38F9F9C6A643D</td>\n      <td>11005</td>\n      <td>42</td>\n      <td>False</td>\n      <td>1492662527</td>\n      <td>CA85F8A1432E99CEBBB9F4437B28AA54</td>\n      <td>0</td>\n      <td>28</td>\n      <td>False</td>\n      <td>2020-05-26 10:47:04</td>\n      <td>False</td>\n      <td>NaT</td>\n      <td>NaT</td>\n      <td>NaT</td>\n      <td>NaT</td>\n    </tr>\n    <tr>\n      <th>16</th>\n      <td>[101, 100, 100, 8028, 7450, 2558, 10059, 3911,...</td>\n      <td>[005DB11FE48FD9FCE48F8D058E18DBBE, 88A2A65C528...</td>\n      <td>DFB95B180306A714B20C46B99D450821</td>\n      <td>[Photo]</td>\n      <td>NaN</td>\n      <td>NaN</td>\n      <td>TopLevel</td>\n      <td>E7F038DE3EAD397AEC9193686C911677</td>\n      <td>2021-02-24 23:00:00</td>\n      <td>9C2FE03D0A6ED3877ED38F9F9C6A643D</td>\n      <td>11005</td>\n      <td>42</td>\n      <td>False</td>\n      <td>1492662527</td>\n      <td>F240450A9B63F7C697DBA69E0D18A251</td>\n      <td>19</td>\n      <td>120</td>\n      <td>False</td>\n      <td>2019-08-25 10:36:57</td>\n      <td>False</td>\n      <td>NaT</td>\n      <td>NaT</td>\n      <td>NaT</td>\n      <td>2021-02-24 23:14:19</td>\n    </tr>\n    <tr>\n      <th>17</th>\n      <td>[101, 100, 10125, 24301, 12013, 10104, 45876, ...</td>\n      <td>[8A338EB0D4381BB721B2C8582A263EE2, B5D8897F3BC...</td>\n      <td>4684A5B2EC909E7D94267A7AB582AA0C</td>\n      <td>[Photo, Photo, Photo, Photo]</td>\n      <td>NaN</td>\n      <td>NaN</td>\n      <td>TopLevel</td>\n      <td>B0FA488F2911701DD8EC5B1EA5E322D8</td>\n      <td>2021-02-24 23:00:00</td>\n      <td>68CEFFDCC9A1F0F243D5D8B394713AC5</td>\n      <td>611494</td>\n      <td>2874</td>\n      <td>True</td>\n      <td>1276131557</td>\n      <td>167007C5E96D3CE2D1C3432873156026</td>\n      <td>501448</td>\n      <td>95</td>\n      <td>False</td>\n      <td>2010-08-19 14:51:39</td>\n      <td>True</td>\n      <td>NaT</td>\n      <td>2021-02-24 23:00:39</td>\n      <td>NaT</td>\n      <td>NaT</td>\n    </tr>\n    <tr>\n      <th>18</th>\n      <td>[101, 100, 10125, 24301, 12013, 10104, 45876, ...</td>\n      <td>[8A338EB0D4381BB721B2C8582A263EE2, B5D8897F3BC...</td>\n      <td>4684A5B2EC909E7D94267A7AB582AA0C</td>\n      <td>[Photo, Photo, Photo, Photo]</td>\n      <td>NaN</td>\n      <td>NaN</td>\n      <td>TopLevel</td>\n      <td>B0FA488F2911701DD8EC5B1EA5E322D8</td>\n      <td>2021-02-24 23:00:00</td>\n      <td>68CEFFDCC9A1F0F243D5D8B394713AC5</td>\n      <td>611494</td>\n      <td>2874</td>\n      <td>True</td>\n      <td>1276131557</td>\n      <td>4A088297CDE541DD61EF4DC8E874C60A</td>\n      <td>22</td>\n      <td>355</td>\n      <td>False</td>\n      <td>2019-01-14 00:56:13</td>\n      <td>True</td>\n      <td>NaT</td>\n      <td>NaT</td>\n      <td>NaT</td>\n      <td>2021-02-24 23:07:25</td>\n    </tr>\n    <tr>\n      <th>19</th>\n      <td>[101, 100, 10125, 24301, 12013, 10104, 45876, ...</td>\n      <td>[8A338EB0D4381BB721B2C8582A263EE2, B5D8897F3BC...</td>\n      <td>4684A5B2EC909E7D94267A7AB582AA0C</td>\n      <td>[Photo, Photo, Photo, Photo]</td>\n      <td>NaN</td>\n      <td>NaN</td>\n      <td>TopLevel</td>\n      <td>B0FA488F2911701DD8EC5B1EA5E322D8</td>\n      <td>2021-02-24 23:00:00</td>\n      <td>68CEFFDCC9A1F0F243D5D8B394713AC5</td>\n      <td>611494</td>\n      <td>2874</td>\n      <td>True</td>\n      <td>1276131557</td>\n      <td>5A965E8E3AD7505B8398BBDACBF6477A</td>\n      <td>394</td>\n      <td>203</td>\n      <td>False</td>\n      <td>2016-08-13 14:48:23</td>\n      <td>False</td>\n      <td>NaT</td>\n      <td>NaT</td>\n      <td>NaT</td>\n      <td>2021-02-24 23:49:11</td>\n    </tr>\n    <tr>\n      <th>20</th>\n      <td>[101, 100, 10190, 10109, 23821, 10104, 20290, ...</td>\n      <td>NaN</td>\n      <td>4B3937ED6F4F26E61914BA282E1FB509</td>\n      <td>[Photo]</td>\n      <td>[7194CE5CA30114C4A49854BD02A67349]</td>\n      <td>[9EFF000CDB18B710CDDB43EE1D8C300B]</td>\n      <td>TopLevel</td>\n      <td>B0FA488F2911701DD8EC5B1EA5E322D8</td>\n      <td>2021-02-24 23:00:00</td>\n      <td>8B3910EFDE2E79DC80199FFEE21A239F</td>\n      <td>1972400</td>\n      <td>221970</td>\n      <td>True</td>\n      <td>1170861734</td>\n      <td>7A4AADFBF8BAEE8874F05E5CEA149B4E</td>\n      <td>23</td>\n      <td>71</td>\n      <td>False</td>\n      <td>2017-11-07 03:17:04</td>\n      <td>False</td>\n      <td>2021-02-24 23:07:07</td>\n      <td>NaT</td>\n      <td>NaT</td>\n      <td>NaT</td>\n    </tr>\n    <tr>\n      <th>21</th>\n      <td>[101, 100, 102]</td>\n      <td>NaN</td>\n      <td>AB95C3F47B899D27996898FC7DE15C23</td>\n      <td>NaN</td>\n      <td>NaN</td>\n      <td>NaN</td>\n      <td>Quote</td>\n      <td>313ECD3A1E5BB07406E4249475C2D6D6</td>\n      <td>2021-02-24 23:00:00</td>\n      <td>4D1E3C5ACCB58A7D37FD8CE08B8A0601</td>\n      <td>313</td>\n      <td>274</td>\n      <td>False</td>\n      <td>1565647777</td>\n      <td>0495E0325FE92B4D5635C3518BEDB2C9</td>\n      <td>439</td>\n      <td>500</td>\n      <td>False</td>\n      <td>2019-11-11 18:12:29</td>\n      <td>True</td>\n      <td>NaT</td>\n      <td>NaT</td>\n      <td>NaT</td>\n      <td>NaT</td>\n    </tr>\n    <tr>\n      <th>22</th>\n      <td>[101, 100, 107, 69202, 107, 113, 10446, 118, 3...</td>\n      <td>[ADD046CBE0772A82F1360DB9E65A380C]</td>\n      <td>70FA489FEA0D824E6B39AB96BF16A903</td>\n      <td>[Photo]</td>\n      <td>NaN</td>\n      <td>NaN</td>\n      <td>TopLevel</td>\n      <td>488B32D24BD4BB44172EB981C1BCA6FA</td>\n      <td>2021-02-24 23:00:00</td>\n      <td>EC17A408CA6FCBFEFF3AC2267F0E66A5</td>\n      <td>1454</td>\n      <td>1116</td>\n      <td>True</td>\n      <td>1460662973</td>\n      <td>A6057F6F8412EC0CEC96B4803E6558B6</td>\n      <td>244</td>\n      <td>1411</td>\n      <td>False</td>\n      <td>2016-03-22 17:23:35</td>\n      <td>False</td>\n      <td>NaT</td>\n      <td>NaT</td>\n      <td>NaT</td>\n      <td>NaT</td>\n    </tr>\n    <tr>\n      <th>23</th>\n      <td>[101, 100, 107779, 12900, 137, 84707, 42108, 1...</td>\n      <td>[EF17B50979395D0D299E5349922B032C, 21991C5CCC9...</td>\n      <td>03B3458017EDF646D44BE14D9D3BC461</td>\n      <td>[Photo]</td>\n      <td>[ADEB5DB65B0768B07CE8D057A88F11BA]</td>\n      <td>[9EFF000CDB18B710CDDB43EE1D8C300B]</td>\n      <td>TopLevel</td>\n      <td>B8B04128918BBF54E2E178BFF1ABA833</td>\n      <td>2021-02-24 23:00:00</td>\n      <td>A397634CB9484E95AEFD59438C9D20C2</td>\n      <td>1147</td>\n      <td>50</td>\n      <td>False</td>\n      <td>1526667839</td>\n      <td>5C0659FBE930E8275AD5D4DF6C0E084F</td>\n      <td>55</td>\n      <td>104</td>\n      <td>False</td>\n      <td>2019-05-04 15:59:26</td>\n      <td>False</td>\n      <td>NaT</td>\n      <td>NaT</td>\n      <td>NaT</td>\n      <td>NaT</td>\n    </tr>\n    <tr>\n      <th>24</th>\n      <td>[101, 100, 108, 10159, 11779, 20129, 11490, 10...</td>\n      <td>[AD264C314683428834F12A9FB66341BD]</td>\n      <td>ED7CEC4228CAE723FBEB31CDF524CA55</td>\n      <td>[Video]</td>\n      <td>NaN</td>\n      <td>NaN</td>\n      <td>TopLevel</td>\n      <td>B0FA488F2911701DD8EC5B1EA5E322D8</td>\n      <td>2021-02-24 23:00:00</td>\n      <td>5A38357D649427FD67C3E867AFE7AD21</td>\n      <td>49760</td>\n      <td>507</td>\n      <td>False</td>\n      <td>1585196685</td>\n      <td>CDF51BC421CF4089F67C56BC668DB177</td>\n      <td>38</td>\n      <td>108</td>\n      <td>False</td>\n      <td>2012-08-15 05:54:02</td>\n      <td>False</td>\n      <td>NaT</td>\n      <td>2021-02-24 23:00:59</td>\n      <td>NaT</td>\n      <td>2021-02-24 23:00:59</td>\n    </tr>\n    <tr>\n      <th>25</th>\n      <td>[101, 100, 108, 10850, 14652, 10415, 110214, 1...</td>\n      <td>[C4AB4394BB23E4B75D8626BC7D4C8C98]</td>\n      <td>BF7EF5C583EF06B85169975C898EBE86</td>\n      <td>[Photo, Photo]</td>\n      <td>[E35A8271557B1D1EF2CF0168DA9E6A68]</td>\n      <td>[9EFF000CDB18B710CDDB43EE1D8C300B]</td>\n      <td>TopLevel</td>\n      <td>B0FA488F2911701DD8EC5B1EA5E322D8</td>\n      <td>2021-02-24 23:00:00</td>\n      <td>9B2E0F706D2190267F8F4E6FF2909ED7</td>\n      <td>14796</td>\n      <td>1429</td>\n      <td>True</td>\n      <td>1223036873</td>\n      <td>92B5F8D80B78EE13FAC6CF88AC45695B</td>\n      <td>82</td>\n      <td>72</td>\n      <td>False</td>\n      <td>2012-01-28 08:55:32</td>\n      <td>False</td>\n      <td>NaT</td>\n      <td>NaT</td>\n      <td>NaT</td>\n      <td>NaT</td>\n    </tr>\n    <tr>\n      <th>26</th>\n      <td>[101, 100, 108, 39774, 50655, 51036, 108, 9746...</td>\n      <td>[DE5BC1228A77FDB285945C3A47E622A6, 6600C09C6EE...</td>\n      <td>486757C39BF7CF6016CCDC5C1919FF8B</td>\n      <td>[Photo, Photo]</td>\n      <td>NaN</td>\n      <td>NaN</td>\n      <td>TopLevel</td>\n      <td>488B32D24BD4BB44172EB981C1BCA6FA</td>\n      <td>2021-02-24 23:00:00</td>\n      <td>5EB948F162D4ED38E9859D27813AC0E0</td>\n      <td>5976</td>\n      <td>82</td>\n      <td>False</td>\n      <td>1591267483</td>\n      <td>9C6841B85A13876E252EBFA627274205</td>\n      <td>18</td>\n      <td>517</td>\n      <td>False</td>\n      <td>2020-04-22 03:05:10</td>\n      <td>False</td>\n      <td>NaT</td>\n      <td>NaT</td>\n      <td>NaT</td>\n      <td>2021-02-24 23:45:59</td>\n    </tr>\n    <tr>\n      <th>27</th>\n      <td>[101, 100, 11149, 100, 187, 10464, 10108, 1267...</td>\n      <td>[CE1200F2E17699595D3D57382ED42367]</td>\n      <td>821B5D4A98CF158C3F14B1BD76E269D4</td>\n      <td>NaN</td>\n      <td>[9174FFB6AED4816B5380FD86B0F0E184]</td>\n      <td>[1F525F368D1F6B785055626CE7DB6DBC]</td>\n      <td>TopLevel</td>\n      <td>488B32D24BD4BB44172EB981C1BCA6FA</td>\n      <td>2021-02-24 23:00:00</td>\n      <td>9415F6B5A4EF29D54C8BB597B1156164</td>\n      <td>22688</td>\n      <td>1701</td>\n      <td>False</td>\n      <td>1535931595</td>\n      <td>18194371682AC9F07DDD357776EE11A7</td>\n      <td>105</td>\n      <td>221</td>\n      <td>False</td>\n      <td>2018-09-16 21:17:10</td>\n      <td>False</td>\n      <td>NaT</td>\n      <td>NaT</td>\n      <td>NaT</td>\n      <td>NaT</td>\n    </tr>\n    <tr>\n      <th>28</th>\n      <td>[101, 100, 11149, 100, 187, 10464, 10108, 1267...</td>\n      <td>[CE1200F2E17699595D3D57382ED42367]</td>\n      <td>821B5D4A98CF158C3F14B1BD76E269D4</td>\n      <td>NaN</td>\n      <td>[9174FFB6AED4816B5380FD86B0F0E184]</td>\n      <td>[1F525F368D1F6B785055626CE7DB6DBC]</td>\n      <td>TopLevel</td>\n      <td>488B32D24BD4BB44172EB981C1BCA6FA</td>\n      <td>2021-02-24 23:00:00</td>\n      <td>9415F6B5A4EF29D54C8BB597B1156164</td>\n      <td>22688</td>\n      <td>1701</td>\n      <td>False</td>\n      <td>1535931595</td>\n      <td>4C11ABD651E573FCBA5B1E32072081B5</td>\n      <td>16</td>\n      <td>59</td>\n      <td>False</td>\n      <td>2020-09-11 23:16:35</td>\n      <td>False</td>\n      <td>NaT</td>\n      <td>NaT</td>\n      <td>NaT</td>\n      <td>NaT</td>\n    </tr>\n    <tr>\n      <th>29</th>\n      <td>[101, 100, 11149, 100, 187, 10464, 10108, 1267...</td>\n      <td>[CE1200F2E17699595D3D57382ED42367]</td>\n      <td>821B5D4A98CF158C3F14B1BD76E269D4</td>\n      <td>NaN</td>\n      <td>[9174FFB6AED4816B5380FD86B0F0E184]</td>\n      <td>[1F525F368D1F6B785055626CE7DB6DBC]</td>\n      <td>TopLevel</td>\n      <td>488B32D24BD4BB44172EB981C1BCA6FA</td>\n      <td>2021-02-24 23:00:00</td>\n      <td>9415F6B5A4EF29D54C8BB597B1156164</td>\n      <td>22688</td>\n      <td>1701</td>\n      <td>False</td>\n      <td>1535931595</td>\n      <td>581980065ACBD23CA37C3156C178DBA0</td>\n      <td>42</td>\n      <td>273</td>\n      <td>False</td>\n      <td>2017-04-19 22:29:16</td>\n      <td>False</td>\n      <td>NaT</td>\n      <td>NaT</td>\n      <td>NaT</td>\n      <td>NaT</td>\n    </tr>\n    <tr>\n      <th>30</th>\n      <td>[101, 100, 11149, 100, 187, 10464, 10108, 1267...</td>\n      <td>[CE1200F2E17699595D3D57382ED42367]</td>\n      <td>821B5D4A98CF158C3F14B1BD76E269D4</td>\n      <td>NaN</td>\n      <td>[9174FFB6AED4816B5380FD86B0F0E184]</td>\n      <td>[1F525F368D1F6B785055626CE7DB6DBC]</td>\n      <td>TopLevel</td>\n      <td>488B32D24BD4BB44172EB981C1BCA6FA</td>\n      <td>2021-02-24 23:00:00</td>\n      <td>9415F6B5A4EF29D54C8BB597B1156164</td>\n      <td>22688</td>\n      <td>1701</td>\n      <td>False</td>\n      <td>1535931595</td>\n      <td>64F82C70D17319B4D43F2725DA27B783</td>\n      <td>208</td>\n      <td>531</td>\n      <td>False</td>\n      <td>2010-08-29 13:47:16</td>\n      <td>False</td>\n      <td>NaT</td>\n      <td>NaT</td>\n      <td>NaT</td>\n      <td>NaT</td>\n    </tr>\n    <tr>\n      <th>31</th>\n      <td>[101, 100, 11149, 100, 187, 10464, 10108, 1267...</td>\n      <td>[CE1200F2E17699595D3D57382ED42367]</td>\n      <td>821B5D4A98CF158C3F14B1BD76E269D4</td>\n      <td>NaN</td>\n      <td>[9174FFB6AED4816B5380FD86B0F0E184]</td>\n      <td>[1F525F368D1F6B785055626CE7DB6DBC]</td>\n      <td>TopLevel</td>\n      <td>488B32D24BD4BB44172EB981C1BCA6FA</td>\n      <td>2021-02-24 23:00:00</td>\n      <td>9415F6B5A4EF29D54C8BB597B1156164</td>\n      <td>22688</td>\n      <td>1701</td>\n      <td>False</td>\n      <td>1535931595</td>\n      <td>DEB026C5ED654C06A7C4B54898E186F9</td>\n      <td>91</td>\n      <td>452</td>\n      <td>False</td>\n      <td>2020-05-13 19:26:45</td>\n      <td>False</td>\n      <td>NaT</td>\n      <td>NaT</td>\n      <td>NaT</td>\n      <td>NaT</td>\n    </tr>\n    <tr>\n      <th>32</th>\n      <td>[101, 100, 11149, 100, 187, 10464, 10108, 1267...</td>\n      <td>[CE1200F2E17699595D3D57382ED42367]</td>\n      <td>821B5D4A98CF158C3F14B1BD76E269D4</td>\n      <td>NaN</td>\n      <td>[9174FFB6AED4816B5380FD86B0F0E184]</td>\n      <td>[1F525F368D1F6B785055626CE7DB6DBC]</td>\n      <td>TopLevel</td>\n      <td>488B32D24BD4BB44172EB981C1BCA6FA</td>\n      <td>2021-02-24 23:00:00</td>\n      <td>9415F6B5A4EF29D54C8BB597B1156164</td>\n      <td>22688</td>\n      <td>1701</td>\n      <td>False</td>\n      <td>1535931595</td>\n      <td>F466EE62609273208EEFD813FF064D15</td>\n      <td>60</td>\n      <td>165</td>\n      <td>False</td>\n      <td>2016-12-05 03:05:58</td>\n      <td>False</td>\n      <td>NaT</td>\n      <td>NaT</td>\n      <td>NaT</td>\n      <td>NaT</td>\n    </tr>\n    <tr>\n      <th>33</th>\n      <td>[101, 100, 113, 108, 2006, 18872, 24532, 114, ...</td>\n      <td>[F4BF39A40168912A9F967EA0B837D547, 1D4BB3F11F2...</td>\n      <td>0195E193FB3865120F97DE561EACFD44</td>\n      <td>[Photo]</td>\n      <td>[6292846828FB25803FE6D1081AEB78B1, 9F73180E2B3...</td>\n      <td>[9EFF000CDB18B710CDDB43EE1D8C300B, 5B43996A482...</td>\n      <td>TopLevel</td>\n      <td>E7F038DE3EAD397AEC9193686C911677</td>\n      <td>2021-02-24 23:00:00</td>\n      <td>D80218D3B0C59D45539D0A9A3BCF4A39</td>\n      <td>30566</td>\n      <td>497</td>\n      <td>False</td>\n      <td>1591001807</td>\n      <td>009BB83DD910B2936E9751555B77DCC5</td>\n      <td>225</td>\n      <td>1416</td>\n      <td>False</td>\n      <td>2020-07-24 16:17:42</td>\n      <td>False</td>\n      <td>NaT</td>\n      <td>NaT</td>\n      <td>NaT</td>\n      <td>NaT</td>\n    </tr>\n    <tr>\n      <th>34</th>\n      <td>[101, 100, 113, 108, 2006, 18872, 24532, 114, ...</td>\n      <td>[F4BF39A40168912A9F967EA0B837D547, 1D4BB3F11F2...</td>\n      <td>0195E193FB3865120F97DE561EACFD44</td>\n      <td>[Photo]</td>\n      <td>[6292846828FB25803FE6D1081AEB78B1, 9F73180E2B3...</td>\n      <td>[9EFF000CDB18B710CDDB43EE1D8C300B, 5B43996A482...</td>\n      <td>TopLevel</td>\n      <td>E7F038DE3EAD397AEC9193686C911677</td>\n      <td>2021-02-24 23:00:00</td>\n      <td>D80218D3B0C59D45539D0A9A3BCF4A39</td>\n      <td>30566</td>\n      <td>497</td>\n      <td>False</td>\n      <td>1591001807</td>\n      <td>1F2B43618DF84C68F6041937194EEE27</td>\n      <td>82</td>\n      <td>264</td>\n      <td>False</td>\n      <td>2018-08-27 00:24:16</td>\n      <td>False</td>\n      <td>NaT</td>\n      <td>NaT</td>\n      <td>NaT</td>\n      <td>NaT</td>\n    </tr>\n    <tr>\n      <th>35</th>\n      <td>[101, 100, 113, 108, 2006, 18872, 24532, 114, ...</td>\n      <td>[F4BF39A40168912A9F967EA0B837D547, 1D4BB3F11F2...</td>\n      <td>0195E193FB3865120F97DE561EACFD44</td>\n      <td>[Photo]</td>\n      <td>[6292846828FB25803FE6D1081AEB78B1, 9F73180E2B3...</td>\n      <td>[9EFF000CDB18B710CDDB43EE1D8C300B, 5B43996A482...</td>\n      <td>TopLevel</td>\n      <td>E7F038DE3EAD397AEC9193686C911677</td>\n      <td>2021-02-24 23:00:00</td>\n      <td>D80218D3B0C59D45539D0A9A3BCF4A39</td>\n      <td>30566</td>\n      <td>497</td>\n      <td>False</td>\n      <td>1591001807</td>\n      <td>30B728A47289000694D0F3B730A640A1</td>\n      <td>349</td>\n      <td>424</td>\n      <td>False</td>\n      <td>2014-05-18 07:57:21</td>\n      <td>False</td>\n      <td>NaT</td>\n      <td>NaT</td>\n      <td>NaT</td>\n      <td>NaT</td>\n    </tr>\n    <tr>\n      <th>36</th>\n      <td>[101, 100, 113, 108, 2006, 18872, 24532, 114, ...</td>\n      <td>[F4BF39A40168912A9F967EA0B837D547, 1D4BB3F11F2...</td>\n      <td>0195E193FB3865120F97DE561EACFD44</td>\n      <td>[Photo]</td>\n      <td>[6292846828FB25803FE6D1081AEB78B1, 9F73180E2B3...</td>\n      <td>[9EFF000CDB18B710CDDB43EE1D8C300B, 5B43996A482...</td>\n      <td>TopLevel</td>\n      <td>E7F038DE3EAD397AEC9193686C911677</td>\n      <td>2021-02-24 23:00:00</td>\n      <td>D80218D3B0C59D45539D0A9A3BCF4A39</td>\n      <td>30566</td>\n      <td>497</td>\n      <td>False</td>\n      <td>1591001807</td>\n      <td>681C0C003844E173B2654AE874E1ECA0</td>\n      <td>121</td>\n      <td>240</td>\n      <td>False</td>\n      <td>2014-11-13 18:17:18</td>\n      <td>False</td>\n      <td>NaT</td>\n      <td>NaT</td>\n      <td>NaT</td>\n      <td>NaT</td>\n    </tr>\n    <tr>\n      <th>37</th>\n      <td>[101, 100, 113, 108, 2006, 18872, 24532, 114, ...</td>\n      <td>[F4BF39A40168912A9F967EA0B837D547, 1D4BB3F11F2...</td>\n      <td>0195E193FB3865120F97DE561EACFD44</td>\n      <td>[Photo]</td>\n      <td>[6292846828FB25803FE6D1081AEB78B1, 9F73180E2B3...</td>\n      <td>[9EFF000CDB18B710CDDB43EE1D8C300B, 5B43996A482...</td>\n      <td>TopLevel</td>\n      <td>E7F038DE3EAD397AEC9193686C911677</td>\n      <td>2021-02-24 23:00:00</td>\n      <td>D80218D3B0C59D45539D0A9A3BCF4A39</td>\n      <td>30566</td>\n      <td>497</td>\n      <td>False</td>\n      <td>1591001807</td>\n      <td>7CB6FA83E49B33A879D0DA6FA4DDCAF8</td>\n      <td>208</td>\n      <td>2806</td>\n      <td>False</td>\n      <td>2014-09-06 07:45:16</td>\n      <td>False</td>\n      <td>NaT</td>\n      <td>NaT</td>\n      <td>NaT</td>\n      <td>NaT</td>\n    </tr>\n    <tr>\n      <th>38</th>\n      <td>[101, 100, 113, 108, 2006, 18872, 24532, 114, ...</td>\n      <td>[F4BF39A40168912A9F967EA0B837D547, 1D4BB3F11F2...</td>\n      <td>0195E193FB3865120F97DE561EACFD44</td>\n      <td>[Photo]</td>\n      <td>[6292846828FB25803FE6D1081AEB78B1, 9F73180E2B3...</td>\n      <td>[9EFF000CDB18B710CDDB43EE1D8C300B, 5B43996A482...</td>\n      <td>TopLevel</td>\n      <td>E7F038DE3EAD397AEC9193686C911677</td>\n      <td>2021-02-24 23:00:00</td>\n      <td>D80218D3B0C59D45539D0A9A3BCF4A39</td>\n      <td>30566</td>\n      <td>497</td>\n      <td>False</td>\n      <td>1591001807</td>\n      <td>88B4389EB8E4B019E33EBC6C6A942F85</td>\n      <td>30</td>\n      <td>53</td>\n      <td>False</td>\n      <td>2020-06-07 11:06:25</td>\n      <td>False</td>\n      <td>NaT</td>\n      <td>NaT</td>\n      <td>NaT</td>\n      <td>NaT</td>\n    </tr>\n    <tr>\n      <th>39</th>\n      <td>[101, 100, 113, 108, 2006, 18872, 24532, 114, ...</td>\n      <td>[F4BF39A40168912A9F967EA0B837D547, 1D4BB3F11F2...</td>\n      <td>0195E193FB3865120F97DE561EACFD44</td>\n      <td>[Photo]</td>\n      <td>[6292846828FB25803FE6D1081AEB78B1, 9F73180E2B3...</td>\n      <td>[9EFF000CDB18B710CDDB43EE1D8C300B, 5B43996A482...</td>\n      <td>TopLevel</td>\n      <td>E7F038DE3EAD397AEC9193686C911677</td>\n      <td>2021-02-24 23:00:00</td>\n      <td>D80218D3B0C59D45539D0A9A3BCF4A39</td>\n      <td>30566</td>\n      <td>497</td>\n      <td>False</td>\n      <td>1591001807</td>\n      <td>BB5A750E3973FF5E831A8E271EF5CB61</td>\n      <td>215</td>\n      <td>1138</td>\n      <td>False</td>\n      <td>2020-06-23 09:36:54</td>\n      <td>False</td>\n      <td>NaT</td>\n      <td>NaT</td>\n      <td>NaT</td>\n      <td>NaT</td>\n    </tr>\n    <tr>\n      <th>40</th>\n      <td>[101, 100, 118, 118, 118, 118, 118, 118, 118, ...</td>\n      <td>NaN</td>\n      <td>EE1E2CA21AE7962220918C9D349C7A2A</td>\n      <td>NaN</td>\n      <td>NaN</td>\n      <td>NaN</td>\n      <td>TopLevel</td>\n      <td>313ECD3A1E5BB07406E4249475C2D6D6</td>\n      <td>2021-02-24 23:00:00</td>\n      <td>796731D0DF96103FA66675141A2E1CD6</td>\n      <td>264243</td>\n      <td>15</td>\n      <td>False</td>\n      <td>1266985501</td>\n      <td>095D20CD42C127B5EF1A08D10D8CABB0</td>\n      <td>768</td>\n      <td>884</td>\n      <td>False</td>\n      <td>2012-11-05 05:23:02</td>\n      <td>False</td>\n      <td>NaT</td>\n      <td>NaT</td>\n      <td>NaT</td>\n      <td>2021-02-24 23:01:58</td>\n    </tr>\n    <tr>\n      <th>41</th>\n      <td>[101, 100, 119, 119, 119, 105443, 99380, 12820...</td>\n      <td>[FC1CA697FA8DD36E362BEF45C18EB69E, 90344B0F83B...</td>\n      <td>108468855AE5CDCB208F25123E393484</td>\n      <td>[Photo]</td>\n      <td>NaN</td>\n      <td>NaN</td>\n      <td>TopLevel</td>\n      <td>488B32D24BD4BB44172EB981C1BCA6FA</td>\n      <td>2021-02-24 23:00:00</td>\n      <td>A9D4A7AC6A42E10EDBDED665FB252474</td>\n      <td>512</td>\n      <td>1440</td>\n      <td>False</td>\n      <td>1552740992</td>\n      <td>12177F7563407DD6556986C4474DB086</td>\n      <td>141</td>\n      <td>466</td>\n      <td>False</td>\n      <td>2020-10-13 18:30:17</td>\n      <td>True</td>\n      <td>NaT</td>\n      <td>NaT</td>\n      <td>NaT</td>\n      <td>2021-02-24 23:01:53</td>\n    </tr>\n    <tr>\n      <th>42</th>\n      <td>[101, 100, 119, 119, 119, 105443, 99380, 12820...</td>\n      <td>[FC1CA697FA8DD36E362BEF45C18EB69E, 90344B0F83B...</td>\n      <td>108468855AE5CDCB208F25123E393484</td>\n      <td>[Photo]</td>\n      <td>NaN</td>\n      <td>NaN</td>\n      <td>TopLevel</td>\n      <td>488B32D24BD4BB44172EB981C1BCA6FA</td>\n      <td>2021-02-24 23:00:00</td>\n      <td>A9D4A7AC6A42E10EDBDED665FB252474</td>\n      <td>512</td>\n      <td>1440</td>\n      <td>False</td>\n      <td>1552740992</td>\n      <td>276A47C6E9E53C4D5E1BD3F1A6C418A9</td>\n      <td>174</td>\n      <td>310</td>\n      <td>False</td>\n      <td>2017-10-20 22:37:48</td>\n      <td>True</td>\n      <td>NaT</td>\n      <td>NaT</td>\n      <td>NaT</td>\n      <td>2021-02-24 23:24:26</td>\n    </tr>\n    <tr>\n      <th>43</th>\n      <td>[101, 100, 12865, 50918, 10112, 13028, 10142, ...</td>\n      <td>NaN</td>\n      <td>04B7C7744E1A531EED5C2ECFAC311F58</td>\n      <td>NaN</td>\n      <td>[20CDBA2FD8060FDFF0A595897960198C]</td>\n      <td>[8DFB1F5A65091CA45888932E8B6D7958]</td>\n      <td>TopLevel</td>\n      <td>488B32D24BD4BB44172EB981C1BCA6FA</td>\n      <td>2021-02-24 23:00:00</td>\n      <td>063DF403460E8D88D63DBADC7FAFF2D3</td>\n      <td>3589</td>\n      <td>628</td>\n      <td>False</td>\n      <td>1406067558</td>\n      <td>A16A927B72912BE11BB12B9892C8EA6F</td>\n      <td>505</td>\n      <td>256</td>\n      <td>False</td>\n      <td>2012-04-12 19:54:43</td>\n      <td>False</td>\n      <td>NaT</td>\n      <td>NaT</td>\n      <td>NaT</td>\n      <td>NaT</td>\n    </tr>\n    <tr>\n      <th>44</th>\n      <td>[101, 100, 13666, 263, 169, 16077, 24850, 1022...</td>\n      <td>[B00E3681F8B9172CF993E51CFD0A9DD8, 0E796E96B27...</td>\n      <td>3215CCE0D8B070F3600BE9F84728BD14</td>\n      <td>[Photo]</td>\n      <td>[47AF30DD2C1C576F29039B061E44142B]</td>\n      <td>[9EFF000CDB18B710CDDB43EE1D8C300B]</td>\n      <td>TopLevel</td>\n      <td>B8B04128918BBF54E2E178BFF1ABA833</td>\n      <td>2021-02-24 23:00:00</td>\n      <td>346990CB288D0F76ABD4500C6F52FFDB</td>\n      <td>580956</td>\n      <td>863</td>\n      <td>True</td>\n      <td>1244745348</td>\n      <td>0158932D4AA4FF10FD8267F82EF7BD02</td>\n      <td>820</td>\n      <td>1249</td>\n      <td>False</td>\n      <td>2011-05-13 14:23:38</td>\n      <td>False</td>\n      <td>NaT</td>\n      <td>NaT</td>\n      <td>NaT</td>\n      <td>NaT</td>\n    </tr>\n    <tr>\n      <th>45</th>\n      <td>[101, 100, 13666, 263, 169, 16077, 24850, 1022...</td>\n      <td>[B00E3681F8B9172CF993E51CFD0A9DD8, 0E796E96B27...</td>\n      <td>3215CCE0D8B070F3600BE9F84728BD14</td>\n      <td>[Photo]</td>\n      <td>[47AF30DD2C1C576F29039B061E44142B]</td>\n      <td>[9EFF000CDB18B710CDDB43EE1D8C300B]</td>\n      <td>TopLevel</td>\n      <td>B8B04128918BBF54E2E178BFF1ABA833</td>\n      <td>2021-02-24 23:00:00</td>\n      <td>346990CB288D0F76ABD4500C6F52FFDB</td>\n      <td>580956</td>\n      <td>863</td>\n      <td>True</td>\n      <td>1244745348</td>\n      <td>1E190FA5990C8C865E4C7134EF789A79</td>\n      <td>393</td>\n      <td>397</td>\n      <td>False</td>\n      <td>2019-08-01 17:30:32</td>\n      <td>False</td>\n      <td>NaT</td>\n      <td>NaT</td>\n      <td>NaT</td>\n      <td>NaT</td>\n    </tr>\n    <tr>\n      <th>46</th>\n      <td>[101, 100, 13666, 263, 169, 16077, 24850, 1022...</td>\n      <td>[B00E3681F8B9172CF993E51CFD0A9DD8, 0E796E96B27...</td>\n      <td>3215CCE0D8B070F3600BE9F84728BD14</td>\n      <td>[Photo]</td>\n      <td>[47AF30DD2C1C576F29039B061E44142B]</td>\n      <td>[9EFF000CDB18B710CDDB43EE1D8C300B]</td>\n      <td>TopLevel</td>\n      <td>B8B04128918BBF54E2E178BFF1ABA833</td>\n      <td>2021-02-24 23:00:00</td>\n      <td>346990CB288D0F76ABD4500C6F52FFDB</td>\n      <td>580956</td>\n      <td>863</td>\n      <td>True</td>\n      <td>1244745348</td>\n      <td>385FEE85EFE4C8BEBED2EB9412D45CBF</td>\n      <td>7</td>\n      <td>153</td>\n      <td>False</td>\n      <td>2018-05-08 05:07:29</td>\n      <td>False</td>\n      <td>NaT</td>\n      <td>NaT</td>\n      <td>NaT</td>\n      <td>NaT</td>\n    </tr>\n    <tr>\n      <th>47</th>\n      <td>[101, 100, 13666, 263, 169, 16077, 24850, 1022...</td>\n      <td>[B00E3681F8B9172CF993E51CFD0A9DD8, 0E796E96B27...</td>\n      <td>3215CCE0D8B070F3600BE9F84728BD14</td>\n      <td>[Photo]</td>\n      <td>[47AF30DD2C1C576F29039B061E44142B]</td>\n      <td>[9EFF000CDB18B710CDDB43EE1D8C300B]</td>\n      <td>TopLevel</td>\n      <td>B8B04128918BBF54E2E178BFF1ABA833</td>\n      <td>2021-02-24 23:00:00</td>\n      <td>346990CB288D0F76ABD4500C6F52FFDB</td>\n      <td>580956</td>\n      <td>863</td>\n      <td>True</td>\n      <td>1244745348</td>\n      <td>3FE8AE189AD2BC9C5F9B20723354D754</td>\n      <td>1043</td>\n      <td>1002</td>\n      <td>False</td>\n      <td>2011-06-21 00:17:38</td>\n      <td>False</td>\n      <td>NaT</td>\n      <td>NaT</td>\n      <td>NaT</td>\n      <td>NaT</td>\n    </tr>\n    <tr>\n      <th>48</th>\n      <td>[101, 100, 13666, 263, 169, 16077, 24850, 1022...</td>\n      <td>[B00E3681F8B9172CF993E51CFD0A9DD8, 0E796E96B27...</td>\n      <td>3215CCE0D8B070F3600BE9F84728BD14</td>\n      <td>[Photo]</td>\n      <td>[47AF30DD2C1C576F29039B061E44142B]</td>\n      <td>[9EFF000CDB18B710CDDB43EE1D8C300B]</td>\n      <td>TopLevel</td>\n      <td>B8B04128918BBF54E2E178BFF1ABA833</td>\n      <td>2021-02-24 23:00:00</td>\n      <td>346990CB288D0F76ABD4500C6F52FFDB</td>\n      <td>580956</td>\n      <td>863</td>\n      <td>True</td>\n      <td>1244745348</td>\n      <td>463ED0FA95E35A21765C72ABC17F214C</td>\n      <td>2488</td>\n      <td>3177</td>\n      <td>False</td>\n      <td>2011-06-05 23:01:00</td>\n      <td>False</td>\n      <td>NaT</td>\n      <td>NaT</td>\n      <td>NaT</td>\n      <td>NaT</td>\n    </tr>\n    <tr>\n      <th>49</th>\n      <td>[101, 100, 13666, 263, 169, 16077, 24850, 1022...</td>\n      <td>[B00E3681F8B9172CF993E51CFD0A9DD8, 0E796E96B27...</td>\n      <td>3215CCE0D8B070F3600BE9F84728BD14</td>\n      <td>[Photo]</td>\n      <td>[47AF30DD2C1C576F29039B061E44142B]</td>\n      <td>[9EFF000CDB18B710CDDB43EE1D8C300B]</td>\n      <td>TopLevel</td>\n      <td>B8B04128918BBF54E2E178BFF1ABA833</td>\n      <td>2021-02-24 23:00:00</td>\n      <td>346990CB288D0F76ABD4500C6F52FFDB</td>\n      <td>580956</td>\n      <td>863</td>\n      <td>True</td>\n      <td>1244745348</td>\n      <td>5B3E9AACF5B268E9F91D8B70DF13A937</td>\n      <td>299</td>\n      <td>372</td>\n      <td>False</td>\n      <td>2020-05-04 02:28:35</td>\n      <td>False</td>\n      <td>NaT</td>\n      <td>NaT</td>\n      <td>NaT</td>\n      <td>NaT</td>\n    </tr>\n  </tbody>\n</table>\n</div>"
     },
     "metadata": {}
    }
   ],
   "source": [
    "pd.set_option('display.max_columns', None)\n",
    "print(data.shape)\n",
    "display(data.head(50))"
   ]
  },
  {
   "cell_type": "code",
   "execution_count": null,
   "metadata": {},
   "outputs": [],
   "source": []
  },
  {
   "cell_type": "code",
   "execution_count": 157,
   "metadata": {},
   "outputs": [
    {
     "output_type": "execute_result",
     "data": {
      "text/plain": [
       "   text_tokens  hashtags                          tweet_id  present_media  \\\n",
       "0          NaN       NaN  395A05A1E8A0A4CEB2E623281C7A41EE            NaN   \n",
       "1          NaN       NaN  81E8247F4E74A0FCDBA911E1A3CB5412            NaN   \n",
       "2          NaN       NaN  81E8247F4E74A0FCDBA911E1A3CB5412            NaN   \n",
       "3          NaN       NaN  81E8247F4E74A0FCDBA911E1A3CB5412            NaN   \n",
       "4          NaN       NaN  81E8247F4E74A0FCDBA911E1A3CB5412            NaN   \n",
       "\n",
       "   present_links  present_domains tweet_type  \\\n",
       "0            NaN              NaN   TopLevel   \n",
       "1            NaN              NaN   TopLevel   \n",
       "2            NaN              NaN   TopLevel   \n",
       "3            NaN              NaN   TopLevel   \n",
       "4            NaN              NaN   TopLevel   \n",
       "\n",
       "                           language     tweet_timestamp  \\\n",
       "0  313ECD3A1E5BB07406E4249475C2D6D6 2021-02-24 23:00:00   \n",
       "1  B0FA488F2911701DD8EC5B1EA5E322D8 2021-02-24 23:00:00   \n",
       "2  B0FA488F2911701DD8EC5B1EA5E322D8 2021-02-24 23:00:00   \n",
       "3  B0FA488F2911701DD8EC5B1EA5E322D8 2021-02-24 23:00:00   \n",
       "4  B0FA488F2911701DD8EC5B1EA5E322D8 2021-02-24 23:00:00   \n",
       "\n",
       "               engaged_with_user_id  engaged_with_user_follower_count  \\\n",
       "0  55F619B7474C1BA0C8EE03C2A31C534C                              6567   \n",
       "1  9B49D384D56A65E00A12D8349EB46CE5                             47951   \n",
       "2  9B49D384D56A65E00A12D8349EB46CE5                             47951   \n",
       "3  9B49D384D56A65E00A12D8349EB46CE5                             47951   \n",
       "4  9B49D384D56A65E00A12D8349EB46CE5                             47951   \n",
       "\n",
       "   engaged_with_user_following_count  engaged_with_user_is_verified  \\\n",
       "0                               4006                          False   \n",
       "1                                681                           True   \n",
       "2                                681                           True   \n",
       "3                                681                           True   \n",
       "4                                681                           True   \n",
       "\n",
       "   engaged_with_user_account_creation                  engaging_user_id  \\\n",
       "0                          1456262411  736278C2FEC488516CDA4ED6952A2154   \n",
       "1                          1305833605  19D5367D835484236CAF9DBEF475FF7A   \n",
       "2                          1305833605  40BEB04CF8D3CB02449879668656FFDB   \n",
       "3                          1305833605  6415C94D3C27BA84C069DE049EBB3EDE   \n",
       "4                          1305833605  7E614D5881BC18768880CC374C4BE821   \n",
       "\n",
       "   enaging_user_follower_count  enaging_user_following_count  \\\n",
       "0                         1139                          1126   \n",
       "1                           82                            76   \n",
       "2                          108                           351   \n",
       "3                           69                           106   \n",
       "4                           24                           180   \n",
       "\n",
       "   enaging_user_is_verified enaging_user_account_creation  \\\n",
       "0                     False           2020-09-30 00:23:46   \n",
       "1                     False           2017-05-26 15:48:38   \n",
       "2                     False           2017-09-22 00:03:13   \n",
       "3                     False           2019-07-07 21:11:08   \n",
       "4                     False           2011-04-06 02:45:14   \n",
       "\n",
       "   engagee_follows_engager reply_timestamp retweet_timestamp  \\\n",
       "0                    False             NaT               NaT   \n",
       "1                    False             NaT               NaT   \n",
       "2                    False             NaT               NaT   \n",
       "3                    False             NaT               NaT   \n",
       "4                    False             NaT               NaT   \n",
       "\n",
       "  retweet_with_comment_timestamp      like_timestamp  \n",
       "0                            NaT 2021-02-24 23:05:04  \n",
       "1                            NaT                 NaT  \n",
       "2                            NaT                 NaT  \n",
       "3                            NaT                 NaT  \n",
       "4                            NaT                 NaT  "
      ],
      "text/html": "<div>\n<style scoped>\n    .dataframe tbody tr th:only-of-type {\n        vertical-align: middle;\n    }\n\n    .dataframe tbody tr th {\n        vertical-align: top;\n    }\n\n    .dataframe thead th {\n        text-align: right;\n    }\n</style>\n<table border=\"1\" class=\"dataframe\">\n  <thead>\n    <tr style=\"text-align: right;\">\n      <th></th>\n      <th>text_tokens</th>\n      <th>hashtags</th>\n      <th>tweet_id</th>\n      <th>present_media</th>\n      <th>present_links</th>\n      <th>present_domains</th>\n      <th>tweet_type</th>\n      <th>language</th>\n      <th>tweet_timestamp</th>\n      <th>engaged_with_user_id</th>\n      <th>engaged_with_user_follower_count</th>\n      <th>engaged_with_user_following_count</th>\n      <th>engaged_with_user_is_verified</th>\n      <th>engaged_with_user_account_creation</th>\n      <th>engaging_user_id</th>\n      <th>enaging_user_follower_count</th>\n      <th>enaging_user_following_count</th>\n      <th>enaging_user_is_verified</th>\n      <th>enaging_user_account_creation</th>\n      <th>engagee_follows_engager</th>\n      <th>reply_timestamp</th>\n      <th>retweet_timestamp</th>\n      <th>retweet_with_comment_timestamp</th>\n      <th>like_timestamp</th>\n    </tr>\n  </thead>\n  <tbody>\n    <tr>\n      <th>0</th>\n      <td>NaN</td>\n      <td>NaN</td>\n      <td>395A05A1E8A0A4CEB2E623281C7A41EE</td>\n      <td>NaN</td>\n      <td>NaN</td>\n      <td>NaN</td>\n      <td>TopLevel</td>\n      <td>313ECD3A1E5BB07406E4249475C2D6D6</td>\n      <td>2021-02-24 23:00:00</td>\n      <td>55F619B7474C1BA0C8EE03C2A31C534C</td>\n      <td>6567</td>\n      <td>4006</td>\n      <td>False</td>\n      <td>1456262411</td>\n      <td>736278C2FEC488516CDA4ED6952A2154</td>\n      <td>1139</td>\n      <td>1126</td>\n      <td>False</td>\n      <td>2020-09-30 00:23:46</td>\n      <td>False</td>\n      <td>NaT</td>\n      <td>NaT</td>\n      <td>NaT</td>\n      <td>2021-02-24 23:05:04</td>\n    </tr>\n    <tr>\n      <th>1</th>\n      <td>NaN</td>\n      <td>NaN</td>\n      <td>81E8247F4E74A0FCDBA911E1A3CB5412</td>\n      <td>NaN</td>\n      <td>NaN</td>\n      <td>NaN</td>\n      <td>TopLevel</td>\n      <td>B0FA488F2911701DD8EC5B1EA5E322D8</td>\n      <td>2021-02-24 23:00:00</td>\n      <td>9B49D384D56A65E00A12D8349EB46CE5</td>\n      <td>47951</td>\n      <td>681</td>\n      <td>True</td>\n      <td>1305833605</td>\n      <td>19D5367D835484236CAF9DBEF475FF7A</td>\n      <td>82</td>\n      <td>76</td>\n      <td>False</td>\n      <td>2017-05-26 15:48:38</td>\n      <td>False</td>\n      <td>NaT</td>\n      <td>NaT</td>\n      <td>NaT</td>\n      <td>NaT</td>\n    </tr>\n    <tr>\n      <th>2</th>\n      <td>NaN</td>\n      <td>NaN</td>\n      <td>81E8247F4E74A0FCDBA911E1A3CB5412</td>\n      <td>NaN</td>\n      <td>NaN</td>\n      <td>NaN</td>\n      <td>TopLevel</td>\n      <td>B0FA488F2911701DD8EC5B1EA5E322D8</td>\n      <td>2021-02-24 23:00:00</td>\n      <td>9B49D384D56A65E00A12D8349EB46CE5</td>\n      <td>47951</td>\n      <td>681</td>\n      <td>True</td>\n      <td>1305833605</td>\n      <td>40BEB04CF8D3CB02449879668656FFDB</td>\n      <td>108</td>\n      <td>351</td>\n      <td>False</td>\n      <td>2017-09-22 00:03:13</td>\n      <td>False</td>\n      <td>NaT</td>\n      <td>NaT</td>\n      <td>NaT</td>\n      <td>NaT</td>\n    </tr>\n    <tr>\n      <th>3</th>\n      <td>NaN</td>\n      <td>NaN</td>\n      <td>81E8247F4E74A0FCDBA911E1A3CB5412</td>\n      <td>NaN</td>\n      <td>NaN</td>\n      <td>NaN</td>\n      <td>TopLevel</td>\n      <td>B0FA488F2911701DD8EC5B1EA5E322D8</td>\n      <td>2021-02-24 23:00:00</td>\n      <td>9B49D384D56A65E00A12D8349EB46CE5</td>\n      <td>47951</td>\n      <td>681</td>\n      <td>True</td>\n      <td>1305833605</td>\n      <td>6415C94D3C27BA84C069DE049EBB3EDE</td>\n      <td>69</td>\n      <td>106</td>\n      <td>False</td>\n      <td>2019-07-07 21:11:08</td>\n      <td>False</td>\n      <td>NaT</td>\n      <td>NaT</td>\n      <td>NaT</td>\n      <td>NaT</td>\n    </tr>\n    <tr>\n      <th>4</th>\n      <td>NaN</td>\n      <td>NaN</td>\n      <td>81E8247F4E74A0FCDBA911E1A3CB5412</td>\n      <td>NaN</td>\n      <td>NaN</td>\n      <td>NaN</td>\n      <td>TopLevel</td>\n      <td>B0FA488F2911701DD8EC5B1EA5E322D8</td>\n      <td>2021-02-24 23:00:00</td>\n      <td>9B49D384D56A65E00A12D8349EB46CE5</td>\n      <td>47951</td>\n      <td>681</td>\n      <td>True</td>\n      <td>1305833605</td>\n      <td>7E614D5881BC18768880CC374C4BE821</td>\n      <td>24</td>\n      <td>180</td>\n      <td>False</td>\n      <td>2011-04-06 02:45:14</td>\n      <td>False</td>\n      <td>NaT</td>\n      <td>NaT</td>\n      <td>NaT</td>\n      <td>NaT</td>\n    </tr>\n  </tbody>\n</table>\n</div>"
     },
     "metadata": {},
     "execution_count": 157
    }
   ],
   "source": [
    "data.head()"
   ]
  },
  {
   "cell_type": "markdown",
   "metadata": {},
   "source": [
    "# Splitting dataset into train and test\n",
    "### Splitting the training set - one hour into train and test data. The training dataset is used for model training and the test dataset for testing the trained model"
   ]
  },
  {
   "cell_type": "code",
   "execution_count": 162,
   "metadata": {},
   "outputs": [
    {
     "output_type": "execute_result",
     "data": {
      "text/plain": [
       "      text_tokens  hashtags                          tweet_id  present_media  \\\n",
       "1146          NaN       NaN  0397E6D2EB9382DC320FDA29E84F1B99            NaN   \n",
       "1660          NaN       NaN  8B5C4313D10F9AE9645797A7B223F179            NaN   \n",
       "24            NaN       NaN  ED7CEC4228CAE723FBEB31CDF524CA55            NaN   \n",
       "3531          NaN       NaN  82C9BE1B8A793F9B77E817E2D883EA46            NaN   \n",
       "1715          NaN       NaN  C5D7F9A68B18861286BF2C8BB57999F8            NaN   \n",
       "\n",
       "      present_links  present_domains tweet_type  \\\n",
       "1146            NaN              NaN   TopLevel   \n",
       "1660            NaN              NaN   TopLevel   \n",
       "24              NaN              NaN   TopLevel   \n",
       "3531            NaN              NaN   TopLevel   \n",
       "1715            NaN              NaN   TopLevel   \n",
       "\n",
       "                              language     tweet_timestamp  \\\n",
       "1146  E7F038DE3EAD397AEC9193686C911677 2021-02-24 23:00:00   \n",
       "1660  E7F038DE3EAD397AEC9193686C911677 2021-02-24 23:00:00   \n",
       "24    B0FA488F2911701DD8EC5B1EA5E322D8 2021-02-24 23:00:00   \n",
       "3531  313ECD3A1E5BB07406E4249475C2D6D6 2021-02-24 23:00:00   \n",
       "1715  488B32D24BD4BB44172EB981C1BCA6FA 2021-02-24 23:00:00   \n",
       "\n",
       "                  engaged_with_user_id  engaged_with_user_follower_count  \\\n",
       "1146  8410955CFC9F8F5FE3E64178F95C6A52                           5556387   \n",
       "1660  B2872A2C72682E793EFAE8C8B6283851                            148554   \n",
       "24    5A38357D649427FD67C3E867AFE7AD21                             49760   \n",
       "3531  AB45914D28FD633B496F6B780A637238                              5886   \n",
       "1715  8174FCBA17143D373769F87911E2D668                            145830   \n",
       "\n",
       "      engaged_with_user_following_count  engaged_with_user_is_verified  \\\n",
       "1146                             186813                           True   \n",
       "1660                                 43                           True   \n",
       "24                                  507                          False   \n",
       "3531                                  4                          False   \n",
       "1715                               7352                           True   \n",
       "\n",
       "      engaged_with_user_account_creation                  engaging_user_id  \\\n",
       "1146                          1261912560  CF74DDC15A0CAF047A2C86FBEA39A3F6   \n",
       "1660                          1313815746  16978A9CEAA53A227AC16D053DFAB72E   \n",
       "24                            1585196685  CDF51BC421CF4089F67C56BC668DB177   \n",
       "3531                          1592484694  12C266D4AD246B780701F605B0E36F90   \n",
       "1715                          1233158740  0F6BD1B53186B2648E98C4FF607CF673   \n",
       "\n",
       "      enaging_user_follower_count  enaging_user_following_count  \\\n",
       "1146                          214                           284   \n",
       "1660                           72                           149   \n",
       "24                             38                           108   \n",
       "3531                          122                           250   \n",
       "1715                          150                           123   \n",
       "\n",
       "      enaging_user_is_verified enaging_user_account_creation  \\\n",
       "1146                     False           2013-09-24 09:18:01   \n",
       "1660                     False           2020-06-27 13:27:15   \n",
       "24                       False           2012-08-15 05:54:02   \n",
       "3531                     False           2020-03-26 06:49:05   \n",
       "1715                     False           2018-08-30 03:47:45   \n",
       "\n",
       "      engagee_follows_engager reply_timestamp   retweet_timestamp  \\\n",
       "1146                    False             NaT                 NaT   \n",
       "1660                    False             NaT                 NaT   \n",
       "24                      False             NaT 2021-02-24 23:00:59   \n",
       "3531                    False             NaT                 NaT   \n",
       "1715                    False             NaT                 NaT   \n",
       "\n",
       "     retweet_with_comment_timestamp      like_timestamp  \n",
       "1146                            NaT                 NaT  \n",
       "1660                            NaT                 NaT  \n",
       "24                              NaT 2021-02-24 23:00:59  \n",
       "3531                            NaT                 NaT  \n",
       "1715                            NaT                 NaT  "
      ],
      "text/html": "<div>\n<style scoped>\n    .dataframe tbody tr th:only-of-type {\n        vertical-align: middle;\n    }\n\n    .dataframe tbody tr th {\n        vertical-align: top;\n    }\n\n    .dataframe thead th {\n        text-align: right;\n    }\n</style>\n<table border=\"1\" class=\"dataframe\">\n  <thead>\n    <tr style=\"text-align: right;\">\n      <th></th>\n      <th>text_tokens</th>\n      <th>hashtags</th>\n      <th>tweet_id</th>\n      <th>present_media</th>\n      <th>present_links</th>\n      <th>present_domains</th>\n      <th>tweet_type</th>\n      <th>language</th>\n      <th>tweet_timestamp</th>\n      <th>engaged_with_user_id</th>\n      <th>engaged_with_user_follower_count</th>\n      <th>engaged_with_user_following_count</th>\n      <th>engaged_with_user_is_verified</th>\n      <th>engaged_with_user_account_creation</th>\n      <th>engaging_user_id</th>\n      <th>enaging_user_follower_count</th>\n      <th>enaging_user_following_count</th>\n      <th>enaging_user_is_verified</th>\n      <th>enaging_user_account_creation</th>\n      <th>engagee_follows_engager</th>\n      <th>reply_timestamp</th>\n      <th>retweet_timestamp</th>\n      <th>retweet_with_comment_timestamp</th>\n      <th>like_timestamp</th>\n    </tr>\n  </thead>\n  <tbody>\n    <tr>\n      <th>1146</th>\n      <td>NaN</td>\n      <td>NaN</td>\n      <td>0397E6D2EB9382DC320FDA29E84F1B99</td>\n      <td>NaN</td>\n      <td>NaN</td>\n      <td>NaN</td>\n      <td>TopLevel</td>\n      <td>E7F038DE3EAD397AEC9193686C911677</td>\n      <td>2021-02-24 23:00:00</td>\n      <td>8410955CFC9F8F5FE3E64178F95C6A52</td>\n      <td>5556387</td>\n      <td>186813</td>\n      <td>True</td>\n      <td>1261912560</td>\n      <td>CF74DDC15A0CAF047A2C86FBEA39A3F6</td>\n      <td>214</td>\n      <td>284</td>\n      <td>False</td>\n      <td>2013-09-24 09:18:01</td>\n      <td>False</td>\n      <td>NaT</td>\n      <td>NaT</td>\n      <td>NaT</td>\n      <td>NaT</td>\n    </tr>\n    <tr>\n      <th>1660</th>\n      <td>NaN</td>\n      <td>NaN</td>\n      <td>8B5C4313D10F9AE9645797A7B223F179</td>\n      <td>NaN</td>\n      <td>NaN</td>\n      <td>NaN</td>\n      <td>TopLevel</td>\n      <td>E7F038DE3EAD397AEC9193686C911677</td>\n      <td>2021-02-24 23:00:00</td>\n      <td>B2872A2C72682E793EFAE8C8B6283851</td>\n      <td>148554</td>\n      <td>43</td>\n      <td>True</td>\n      <td>1313815746</td>\n      <td>16978A9CEAA53A227AC16D053DFAB72E</td>\n      <td>72</td>\n      <td>149</td>\n      <td>False</td>\n      <td>2020-06-27 13:27:15</td>\n      <td>False</td>\n      <td>NaT</td>\n      <td>NaT</td>\n      <td>NaT</td>\n      <td>NaT</td>\n    </tr>\n    <tr>\n      <th>24</th>\n      <td>NaN</td>\n      <td>NaN</td>\n      <td>ED7CEC4228CAE723FBEB31CDF524CA55</td>\n      <td>NaN</td>\n      <td>NaN</td>\n      <td>NaN</td>\n      <td>TopLevel</td>\n      <td>B0FA488F2911701DD8EC5B1EA5E322D8</td>\n      <td>2021-02-24 23:00:00</td>\n      <td>5A38357D649427FD67C3E867AFE7AD21</td>\n      <td>49760</td>\n      <td>507</td>\n      <td>False</td>\n      <td>1585196685</td>\n      <td>CDF51BC421CF4089F67C56BC668DB177</td>\n      <td>38</td>\n      <td>108</td>\n      <td>False</td>\n      <td>2012-08-15 05:54:02</td>\n      <td>False</td>\n      <td>NaT</td>\n      <td>2021-02-24 23:00:59</td>\n      <td>NaT</td>\n      <td>2021-02-24 23:00:59</td>\n    </tr>\n    <tr>\n      <th>3531</th>\n      <td>NaN</td>\n      <td>NaN</td>\n      <td>82C9BE1B8A793F9B77E817E2D883EA46</td>\n      <td>NaN</td>\n      <td>NaN</td>\n      <td>NaN</td>\n      <td>TopLevel</td>\n      <td>313ECD3A1E5BB07406E4249475C2D6D6</td>\n      <td>2021-02-24 23:00:00</td>\n      <td>AB45914D28FD633B496F6B780A637238</td>\n      <td>5886</td>\n      <td>4</td>\n      <td>False</td>\n      <td>1592484694</td>\n      <td>12C266D4AD246B780701F605B0E36F90</td>\n      <td>122</td>\n      <td>250</td>\n      <td>False</td>\n      <td>2020-03-26 06:49:05</td>\n      <td>False</td>\n      <td>NaT</td>\n      <td>NaT</td>\n      <td>NaT</td>\n      <td>NaT</td>\n    </tr>\n    <tr>\n      <th>1715</th>\n      <td>NaN</td>\n      <td>NaN</td>\n      <td>C5D7F9A68B18861286BF2C8BB57999F8</td>\n      <td>NaN</td>\n      <td>NaN</td>\n      <td>NaN</td>\n      <td>TopLevel</td>\n      <td>488B32D24BD4BB44172EB981C1BCA6FA</td>\n      <td>2021-02-24 23:00:00</td>\n      <td>8174FCBA17143D373769F87911E2D668</td>\n      <td>145830</td>\n      <td>7352</td>\n      <td>True</td>\n      <td>1233158740</td>\n      <td>0F6BD1B53186B2648E98C4FF607CF673</td>\n      <td>150</td>\n      <td>123</td>\n      <td>False</td>\n      <td>2018-08-30 03:47:45</td>\n      <td>False</td>\n      <td>NaT</td>\n      <td>NaT</td>\n      <td>NaT</td>\n      <td>NaT</td>\n    </tr>\n  </tbody>\n</table>\n</div>"
     },
     "metadata": {},
     "execution_count": 162
    }
   ],
   "source": [
    "from sklearn.model_selection import train_test_split\n",
    "\n",
    "train_data, test_data = train_test_split(data, test_size= 0.20)"
   ]
  },
  {
   "cell_type": "code",
   "execution_count": 163,
   "metadata": {},
   "outputs": [
    {
     "output_type": "execute_result",
     "data": {
      "text/plain": [
       "      text_tokens  hashtags                          tweet_id  present_media  \\\n",
       "64            NaN       NaN  E4053CF8A9B94EEB28C7A93ED26A0F5E            NaN   \n",
       "962           NaN       NaN  0397E6D2EB9382DC320FDA29E84F1B99            NaN   \n",
       "96            NaN       NaN  2B94B6A6B87EC5F21539D6B5F438F6B5            NaN   \n",
       "3462          NaN       NaN  4F3B0BD2F19BAA67634F2E391F2863B0            NaN   \n",
       "823           NaN       NaN  0397E6D2EB9382DC320FDA29E84F1B99            NaN   \n",
       "\n",
       "      present_links  present_domains tweet_type  \\\n",
       "64              NaN              NaN      Quote   \n",
       "962             NaN              NaN   TopLevel   \n",
       "96              NaN              NaN   TopLevel   \n",
       "3462            NaN              NaN   TopLevel   \n",
       "823             NaN              NaN   TopLevel   \n",
       "\n",
       "                              language     tweet_timestamp  \\\n",
       "64    B0FA488F2911701DD8EC5B1EA5E322D8 2021-02-24 23:00:00   \n",
       "962   E7F038DE3EAD397AEC9193686C911677 2021-02-24 23:00:00   \n",
       "96    B0FA488F2911701DD8EC5B1EA5E322D8 2021-02-24 23:00:00   \n",
       "3462  488B32D24BD4BB44172EB981C1BCA6FA 2021-02-24 23:00:00   \n",
       "823   E7F038DE3EAD397AEC9193686C911677 2021-02-24 23:00:00   \n",
       "\n",
       "                  engaged_with_user_id  engaged_with_user_follower_count  \\\n",
       "64    1BC2E629F0ACD18E114E57CD0CE5B2BD                             84497   \n",
       "962   8410955CFC9F8F5FE3E64178F95C6A52                           5556387   \n",
       "96    DBFDF1319E8DA74985B8C4FB963FB8D6                             14620   \n",
       "3462  8802C28382252D9D8707AEC8773B3717                             32685   \n",
       "823   8410955CFC9F8F5FE3E64178F95C6A52                           5556387   \n",
       "\n",
       "      engaged_with_user_following_count  engaged_with_user_is_verified  \\\n",
       "64                                  765                           True   \n",
       "962                              186813                           True   \n",
       "96                                 1360                          False   \n",
       "3462                               1398                          False   \n",
       "823                              186813                           True   \n",
       "\n",
       "      engaged_with_user_account_creation                  engaging_user_id  \\\n",
       "64                            1270918505  91530A0105A82CEB9615E3E08FC08AE7   \n",
       "962                           1261912560  9CDABEB8B4A97A2DF50ADBE7144E5DB6   \n",
       "96                            1593798882  6D77A8858E2CE27D2BB1A6A9F94F0CE3   \n",
       "3462                          1463146228  315A7A5F6717660718F1AB84A2928F4F   \n",
       "823                           1261912560  6F88874B09523B2705D5A83771996BEA   \n",
       "\n",
       "      enaging_user_follower_count  enaging_user_following_count  \\\n",
       "64                             52                           174   \n",
       "962                            85                           258   \n",
       "96                           1900                          1090   \n",
       "3462                        19850                            34   \n",
       "823                            97                           504   \n",
       "\n",
       "      enaging_user_is_verified enaging_user_account_creation  \\\n",
       "64                       False           2019-01-26 00:24:27   \n",
       "962                      False           2015-08-10 15:55:25   \n",
       "96                       False           2009-05-04 20:56:53   \n",
       "3462                     False           2019-05-02 03:42:55   \n",
       "823                      False           2018-08-15 16:38:16   \n",
       "\n",
       "      engagee_follows_engager reply_timestamp retweet_timestamp  \\\n",
       "64                      False             NaT               NaT   \n",
       "962                     False             NaT               NaT   \n",
       "96                       True             NaT               NaT   \n",
       "3462                    False             NaT               NaT   \n",
       "823                     False             NaT               NaT   \n",
       "\n",
       "     retweet_with_comment_timestamp like_timestamp  \n",
       "64                              NaT            NaT  \n",
       "962                             NaT            NaT  \n",
       "96                              NaT            NaT  \n",
       "3462                            NaT            NaT  \n",
       "823                             NaT            NaT  "
      ],
      "text/html": "<div>\n<style scoped>\n    .dataframe tbody tr th:only-of-type {\n        vertical-align: middle;\n    }\n\n    .dataframe tbody tr th {\n        vertical-align: top;\n    }\n\n    .dataframe thead th {\n        text-align: right;\n    }\n</style>\n<table border=\"1\" class=\"dataframe\">\n  <thead>\n    <tr style=\"text-align: right;\">\n      <th></th>\n      <th>text_tokens</th>\n      <th>hashtags</th>\n      <th>tweet_id</th>\n      <th>present_media</th>\n      <th>present_links</th>\n      <th>present_domains</th>\n      <th>tweet_type</th>\n      <th>language</th>\n      <th>tweet_timestamp</th>\n      <th>engaged_with_user_id</th>\n      <th>engaged_with_user_follower_count</th>\n      <th>engaged_with_user_following_count</th>\n      <th>engaged_with_user_is_verified</th>\n      <th>engaged_with_user_account_creation</th>\n      <th>engaging_user_id</th>\n      <th>enaging_user_follower_count</th>\n      <th>enaging_user_following_count</th>\n      <th>enaging_user_is_verified</th>\n      <th>enaging_user_account_creation</th>\n      <th>engagee_follows_engager</th>\n      <th>reply_timestamp</th>\n      <th>retweet_timestamp</th>\n      <th>retweet_with_comment_timestamp</th>\n      <th>like_timestamp</th>\n    </tr>\n  </thead>\n  <tbody>\n    <tr>\n      <th>64</th>\n      <td>NaN</td>\n      <td>NaN</td>\n      <td>E4053CF8A9B94EEB28C7A93ED26A0F5E</td>\n      <td>NaN</td>\n      <td>NaN</td>\n      <td>NaN</td>\n      <td>Quote</td>\n      <td>B0FA488F2911701DD8EC5B1EA5E322D8</td>\n      <td>2021-02-24 23:00:00</td>\n      <td>1BC2E629F0ACD18E114E57CD0CE5B2BD</td>\n      <td>84497</td>\n      <td>765</td>\n      <td>True</td>\n      <td>1270918505</td>\n      <td>91530A0105A82CEB9615E3E08FC08AE7</td>\n      <td>52</td>\n      <td>174</td>\n      <td>False</td>\n      <td>2019-01-26 00:24:27</td>\n      <td>False</td>\n      <td>NaT</td>\n      <td>NaT</td>\n      <td>NaT</td>\n      <td>NaT</td>\n    </tr>\n    <tr>\n      <th>962</th>\n      <td>NaN</td>\n      <td>NaN</td>\n      <td>0397E6D2EB9382DC320FDA29E84F1B99</td>\n      <td>NaN</td>\n      <td>NaN</td>\n      <td>NaN</td>\n      <td>TopLevel</td>\n      <td>E7F038DE3EAD397AEC9193686C911677</td>\n      <td>2021-02-24 23:00:00</td>\n      <td>8410955CFC9F8F5FE3E64178F95C6A52</td>\n      <td>5556387</td>\n      <td>186813</td>\n      <td>True</td>\n      <td>1261912560</td>\n      <td>9CDABEB8B4A97A2DF50ADBE7144E5DB6</td>\n      <td>85</td>\n      <td>258</td>\n      <td>False</td>\n      <td>2015-08-10 15:55:25</td>\n      <td>False</td>\n      <td>NaT</td>\n      <td>NaT</td>\n      <td>NaT</td>\n      <td>NaT</td>\n    </tr>\n    <tr>\n      <th>96</th>\n      <td>NaN</td>\n      <td>NaN</td>\n      <td>2B94B6A6B87EC5F21539D6B5F438F6B5</td>\n      <td>NaN</td>\n      <td>NaN</td>\n      <td>NaN</td>\n      <td>TopLevel</td>\n      <td>B0FA488F2911701DD8EC5B1EA5E322D8</td>\n      <td>2021-02-24 23:00:00</td>\n      <td>DBFDF1319E8DA74985B8C4FB963FB8D6</td>\n      <td>14620</td>\n      <td>1360</td>\n      <td>False</td>\n      <td>1593798882</td>\n      <td>6D77A8858E2CE27D2BB1A6A9F94F0CE3</td>\n      <td>1900</td>\n      <td>1090</td>\n      <td>False</td>\n      <td>2009-05-04 20:56:53</td>\n      <td>True</td>\n      <td>NaT</td>\n      <td>NaT</td>\n      <td>NaT</td>\n      <td>NaT</td>\n    </tr>\n    <tr>\n      <th>3462</th>\n      <td>NaN</td>\n      <td>NaN</td>\n      <td>4F3B0BD2F19BAA67634F2E391F2863B0</td>\n      <td>NaN</td>\n      <td>NaN</td>\n      <td>NaN</td>\n      <td>TopLevel</td>\n      <td>488B32D24BD4BB44172EB981C1BCA6FA</td>\n      <td>2021-02-24 23:00:00</td>\n      <td>8802C28382252D9D8707AEC8773B3717</td>\n      <td>32685</td>\n      <td>1398</td>\n      <td>False</td>\n      <td>1463146228</td>\n      <td>315A7A5F6717660718F1AB84A2928F4F</td>\n      <td>19850</td>\n      <td>34</td>\n      <td>False</td>\n      <td>2019-05-02 03:42:55</td>\n      <td>False</td>\n      <td>NaT</td>\n      <td>NaT</td>\n      <td>NaT</td>\n      <td>NaT</td>\n    </tr>\n    <tr>\n      <th>823</th>\n      <td>NaN</td>\n      <td>NaN</td>\n      <td>0397E6D2EB9382DC320FDA29E84F1B99</td>\n      <td>NaN</td>\n      <td>NaN</td>\n      <td>NaN</td>\n      <td>TopLevel</td>\n      <td>E7F038DE3EAD397AEC9193686C911677</td>\n      <td>2021-02-24 23:00:00</td>\n      <td>8410955CFC9F8F5FE3E64178F95C6A52</td>\n      <td>5556387</td>\n      <td>186813</td>\n      <td>True</td>\n      <td>1261912560</td>\n      <td>6F88874B09523B2705D5A83771996BEA</td>\n      <td>97</td>\n      <td>504</td>\n      <td>False</td>\n      <td>2018-08-15 16:38:16</td>\n      <td>False</td>\n      <td>NaT</td>\n      <td>NaT</td>\n      <td>NaT</td>\n      <td>NaT</td>\n    </tr>\n  </tbody>\n</table>\n</div>"
     },
     "metadata": {},
     "execution_count": 163
    }
   ],
   "source": [
    "train_data.head()"
   ]
  },
  {
   "cell_type": "code",
   "execution_count": 164,
   "metadata": {},
   "outputs": [
    {
     "output_type": "execute_result",
     "data": {
      "text/plain": [
       "      text_tokens  hashtags                          tweet_id  present_media  \\\n",
       "1146          NaN       NaN  0397E6D2EB9382DC320FDA29E84F1B99            NaN   \n",
       "1660          NaN       NaN  8B5C4313D10F9AE9645797A7B223F179            NaN   \n",
       "24            NaN       NaN  ED7CEC4228CAE723FBEB31CDF524CA55            NaN   \n",
       "3531          NaN       NaN  82C9BE1B8A793F9B77E817E2D883EA46            NaN   \n",
       "1715          NaN       NaN  C5D7F9A68B18861286BF2C8BB57999F8            NaN   \n",
       "\n",
       "      present_links  present_domains tweet_type  \\\n",
       "1146            NaN              NaN   TopLevel   \n",
       "1660            NaN              NaN   TopLevel   \n",
       "24              NaN              NaN   TopLevel   \n",
       "3531            NaN              NaN   TopLevel   \n",
       "1715            NaN              NaN   TopLevel   \n",
       "\n",
       "                              language     tweet_timestamp  \\\n",
       "1146  E7F038DE3EAD397AEC9193686C911677 2021-02-24 23:00:00   \n",
       "1660  E7F038DE3EAD397AEC9193686C911677 2021-02-24 23:00:00   \n",
       "24    B0FA488F2911701DD8EC5B1EA5E322D8 2021-02-24 23:00:00   \n",
       "3531  313ECD3A1E5BB07406E4249475C2D6D6 2021-02-24 23:00:00   \n",
       "1715  488B32D24BD4BB44172EB981C1BCA6FA 2021-02-24 23:00:00   \n",
       "\n",
       "                  engaged_with_user_id  engaged_with_user_follower_count  \\\n",
       "1146  8410955CFC9F8F5FE3E64178F95C6A52                           5556387   \n",
       "1660  B2872A2C72682E793EFAE8C8B6283851                            148554   \n",
       "24    5A38357D649427FD67C3E867AFE7AD21                             49760   \n",
       "3531  AB45914D28FD633B496F6B780A637238                              5886   \n",
       "1715  8174FCBA17143D373769F87911E2D668                            145830   \n",
       "\n",
       "      engaged_with_user_following_count  engaged_with_user_is_verified  \\\n",
       "1146                             186813                           True   \n",
       "1660                                 43                           True   \n",
       "24                                  507                          False   \n",
       "3531                                  4                          False   \n",
       "1715                               7352                           True   \n",
       "\n",
       "      engaged_with_user_account_creation                  engaging_user_id  \\\n",
       "1146                          1261912560  CF74DDC15A0CAF047A2C86FBEA39A3F6   \n",
       "1660                          1313815746  16978A9CEAA53A227AC16D053DFAB72E   \n",
       "24                            1585196685  CDF51BC421CF4089F67C56BC668DB177   \n",
       "3531                          1592484694  12C266D4AD246B780701F605B0E36F90   \n",
       "1715                          1233158740  0F6BD1B53186B2648E98C4FF607CF673   \n",
       "\n",
       "      enaging_user_follower_count  enaging_user_following_count  \\\n",
       "1146                          214                           284   \n",
       "1660                           72                           149   \n",
       "24                             38                           108   \n",
       "3531                          122                           250   \n",
       "1715                          150                           123   \n",
       "\n",
       "      enaging_user_is_verified enaging_user_account_creation  \\\n",
       "1146                     False           2013-09-24 09:18:01   \n",
       "1660                     False           2020-06-27 13:27:15   \n",
       "24                       False           2012-08-15 05:54:02   \n",
       "3531                     False           2020-03-26 06:49:05   \n",
       "1715                     False           2018-08-30 03:47:45   \n",
       "\n",
       "      engagee_follows_engager reply_timestamp   retweet_timestamp  \\\n",
       "1146                    False             NaT                 NaT   \n",
       "1660                    False             NaT                 NaT   \n",
       "24                      False             NaT 2021-02-24 23:00:59   \n",
       "3531                    False             NaT                 NaT   \n",
       "1715                    False             NaT                 NaT   \n",
       "\n",
       "     retweet_with_comment_timestamp      like_timestamp  \n",
       "1146                            NaT                 NaT  \n",
       "1660                            NaT                 NaT  \n",
       "24                              NaT 2021-02-24 23:00:59  \n",
       "3531                            NaT                 NaT  \n",
       "1715                            NaT                 NaT  "
      ],
      "text/html": "<div>\n<style scoped>\n    .dataframe tbody tr th:only-of-type {\n        vertical-align: middle;\n    }\n\n    .dataframe tbody tr th {\n        vertical-align: top;\n    }\n\n    .dataframe thead th {\n        text-align: right;\n    }\n</style>\n<table border=\"1\" class=\"dataframe\">\n  <thead>\n    <tr style=\"text-align: right;\">\n      <th></th>\n      <th>text_tokens</th>\n      <th>hashtags</th>\n      <th>tweet_id</th>\n      <th>present_media</th>\n      <th>present_links</th>\n      <th>present_domains</th>\n      <th>tweet_type</th>\n      <th>language</th>\n      <th>tweet_timestamp</th>\n      <th>engaged_with_user_id</th>\n      <th>engaged_with_user_follower_count</th>\n      <th>engaged_with_user_following_count</th>\n      <th>engaged_with_user_is_verified</th>\n      <th>engaged_with_user_account_creation</th>\n      <th>engaging_user_id</th>\n      <th>enaging_user_follower_count</th>\n      <th>enaging_user_following_count</th>\n      <th>enaging_user_is_verified</th>\n      <th>enaging_user_account_creation</th>\n      <th>engagee_follows_engager</th>\n      <th>reply_timestamp</th>\n      <th>retweet_timestamp</th>\n      <th>retweet_with_comment_timestamp</th>\n      <th>like_timestamp</th>\n    </tr>\n  </thead>\n  <tbody>\n    <tr>\n      <th>1146</th>\n      <td>NaN</td>\n      <td>NaN</td>\n      <td>0397E6D2EB9382DC320FDA29E84F1B99</td>\n      <td>NaN</td>\n      <td>NaN</td>\n      <td>NaN</td>\n      <td>TopLevel</td>\n      <td>E7F038DE3EAD397AEC9193686C911677</td>\n      <td>2021-02-24 23:00:00</td>\n      <td>8410955CFC9F8F5FE3E64178F95C6A52</td>\n      <td>5556387</td>\n      <td>186813</td>\n      <td>True</td>\n      <td>1261912560</td>\n      <td>CF74DDC15A0CAF047A2C86FBEA39A3F6</td>\n      <td>214</td>\n      <td>284</td>\n      <td>False</td>\n      <td>2013-09-24 09:18:01</td>\n      <td>False</td>\n      <td>NaT</td>\n      <td>NaT</td>\n      <td>NaT</td>\n      <td>NaT</td>\n    </tr>\n    <tr>\n      <th>1660</th>\n      <td>NaN</td>\n      <td>NaN</td>\n      <td>8B5C4313D10F9AE9645797A7B223F179</td>\n      <td>NaN</td>\n      <td>NaN</td>\n      <td>NaN</td>\n      <td>TopLevel</td>\n      <td>E7F038DE3EAD397AEC9193686C911677</td>\n      <td>2021-02-24 23:00:00</td>\n      <td>B2872A2C72682E793EFAE8C8B6283851</td>\n      <td>148554</td>\n      <td>43</td>\n      <td>True</td>\n      <td>1313815746</td>\n      <td>16978A9CEAA53A227AC16D053DFAB72E</td>\n      <td>72</td>\n      <td>149</td>\n      <td>False</td>\n      <td>2020-06-27 13:27:15</td>\n      <td>False</td>\n      <td>NaT</td>\n      <td>NaT</td>\n      <td>NaT</td>\n      <td>NaT</td>\n    </tr>\n    <tr>\n      <th>24</th>\n      <td>NaN</td>\n      <td>NaN</td>\n      <td>ED7CEC4228CAE723FBEB31CDF524CA55</td>\n      <td>NaN</td>\n      <td>NaN</td>\n      <td>NaN</td>\n      <td>TopLevel</td>\n      <td>B0FA488F2911701DD8EC5B1EA5E322D8</td>\n      <td>2021-02-24 23:00:00</td>\n      <td>5A38357D649427FD67C3E867AFE7AD21</td>\n      <td>49760</td>\n      <td>507</td>\n      <td>False</td>\n      <td>1585196685</td>\n      <td>CDF51BC421CF4089F67C56BC668DB177</td>\n      <td>38</td>\n      <td>108</td>\n      <td>False</td>\n      <td>2012-08-15 05:54:02</td>\n      <td>False</td>\n      <td>NaT</td>\n      <td>2021-02-24 23:00:59</td>\n      <td>NaT</td>\n      <td>2021-02-24 23:00:59</td>\n    </tr>\n    <tr>\n      <th>3531</th>\n      <td>NaN</td>\n      <td>NaN</td>\n      <td>82C9BE1B8A793F9B77E817E2D883EA46</td>\n      <td>NaN</td>\n      <td>NaN</td>\n      <td>NaN</td>\n      <td>TopLevel</td>\n      <td>313ECD3A1E5BB07406E4249475C2D6D6</td>\n      <td>2021-02-24 23:00:00</td>\n      <td>AB45914D28FD633B496F6B780A637238</td>\n      <td>5886</td>\n      <td>4</td>\n      <td>False</td>\n      <td>1592484694</td>\n      <td>12C266D4AD246B780701F605B0E36F90</td>\n      <td>122</td>\n      <td>250</td>\n      <td>False</td>\n      <td>2020-03-26 06:49:05</td>\n      <td>False</td>\n      <td>NaT</td>\n      <td>NaT</td>\n      <td>NaT</td>\n      <td>NaT</td>\n    </tr>\n    <tr>\n      <th>1715</th>\n      <td>NaN</td>\n      <td>NaN</td>\n      <td>C5D7F9A68B18861286BF2C8BB57999F8</td>\n      <td>NaN</td>\n      <td>NaN</td>\n      <td>NaN</td>\n      <td>TopLevel</td>\n      <td>488B32D24BD4BB44172EB981C1BCA6FA</td>\n      <td>2021-02-24 23:00:00</td>\n      <td>8174FCBA17143D373769F87911E2D668</td>\n      <td>145830</td>\n      <td>7352</td>\n      <td>True</td>\n      <td>1233158740</td>\n      <td>0F6BD1B53186B2648E98C4FF607CF673</td>\n      <td>150</td>\n      <td>123</td>\n      <td>False</td>\n      <td>2018-08-30 03:47:45</td>\n      <td>False</td>\n      <td>NaT</td>\n      <td>NaT</td>\n      <td>NaT</td>\n      <td>NaT</td>\n    </tr>\n  </tbody>\n</table>\n</div>"
     },
     "metadata": {},
     "execution_count": 164
    }
   ],
   "source": [
    "test_data.head()"
   ]
  },
  {
   "cell_type": "markdown",
   "metadata": {},
   "source": [
    "# Evaluation"
   ]
  },
  {
   "cell_type": "code",
   "execution_count": null,
   "metadata": {},
   "outputs": [],
   "source": []
  },
  {
   "cell_type": "code",
   "execution_count": null,
   "metadata": {},
   "outputs": [],
   "source": []
  },
  {
   "cell_type": "code",
   "execution_count": null,
   "metadata": {},
   "outputs": [],
   "source": []
  },
  {
   "cell_type": "markdown",
   "metadata": {},
   "source": [
    "# Create a Ratings Matrix"
   ]
  },
  {
   "cell_type": "code",
   "execution_count": null,
   "metadata": {},
   "outputs": [],
   "source": []
  },
  {
   "cell_type": "code",
   "execution_count": null,
   "metadata": {},
   "outputs": [],
   "source": []
  },
  {
   "cell_type": "code",
   "execution_count": null,
   "metadata": {},
   "outputs": [],
   "source": []
  },
  {
   "cell_type": "code",
   "execution_count": null,
   "metadata": {},
   "outputs": [],
   "source": []
  },
  {
   "cell_type": "code",
   "execution_count": null,
   "metadata": {},
   "outputs": [],
   "source": []
  },
  {
   "cell_type": "markdown",
   "metadata": {},
   "source": [
    "# Extract Social Network"
   ]
  },
  {
   "cell_type": "code",
   "execution_count": null,
   "metadata": {},
   "outputs": [],
   "source": []
  },
  {
   "cell_type": "code",
   "execution_count": null,
   "metadata": {},
   "outputs": [],
   "source": []
  },
  {
   "cell_type": "code",
   "execution_count": null,
   "metadata": {},
   "outputs": [],
   "source": []
  },
  {
   "cell_type": "code",
   "execution_count": null,
   "metadata": {},
   "outputs": [],
   "source": []
  },
  {
   "cell_type": "code",
   "execution_count": null,
   "metadata": {},
   "outputs": [],
   "source": []
  },
  {
   "cell_type": "code",
   "execution_count": null,
   "metadata": {},
   "outputs": [],
   "source": []
  },
  {
   "cell_type": "markdown",
   "metadata": {},
   "source": [
    "# Implement a Baseline"
   ]
  },
  {
   "cell_type": "code",
   "execution_count": null,
   "metadata": {},
   "outputs": [],
   "source": []
  },
  {
   "cell_type": "code",
   "execution_count": null,
   "metadata": {},
   "outputs": [],
   "source": []
  },
  {
   "cell_type": "code",
   "execution_count": null,
   "metadata": {},
   "outputs": [],
   "source": []
  },
  {
   "cell_type": "code",
   "execution_count": null,
   "metadata": {},
   "outputs": [],
   "source": []
  },
  {
   "cell_type": "code",
   "execution_count": null,
   "metadata": {},
   "outputs": [],
   "source": []
  },
  {
   "cell_type": "code",
   "execution_count": null,
   "metadata": {},
   "outputs": [],
   "source": []
  },
  {
   "cell_type": "code",
   "execution_count": 145,
   "metadata": {
    "deletable": false,
    "editable": false,
    "nbgrader": {
     "cell_type": "code",
     "checksum": "bf000a0073acaf52bcde389fa20cf1d6",
     "grade": true,
     "grade_id": "cell-d807d29f081e031b",
     "locked": true,
     "points": 15,
     "schema_version": 3,
     "solution": false,
     "task": false
    }
   },
   "outputs": [],
   "source": [
    "# hidden\n"
   ]
  },
  {
   "cell_type": "code",
   "execution_count": 146,
   "metadata": {},
   "outputs": [],
   "source": [
    "# feel free to edit"
   ]
  },
  {
   "cell_type": "code",
   "execution_count": 147,
   "metadata": {},
   "outputs": [],
   "source": [
    "# feel free to edit"
   ]
  },
  {
   "cell_type": "code",
   "execution_count": 148,
   "metadata": {},
   "outputs": [],
   "source": [
    "# feel free to edit"
   ]
  },
  {
   "cell_type": "code",
   "execution_count": 149,
   "metadata": {},
   "outputs": [],
   "source": [
    "# feel free to edit"
   ]
  },
  {
   "cell_type": "code",
   "execution_count": 150,
   "metadata": {},
   "outputs": [],
   "source": [
    "# feel free to edit"
   ]
  },
  {
   "cell_type": "code",
   "execution_count": 151,
   "metadata": {},
   "outputs": [],
   "source": [
    "# feel free to edit"
   ]
  },
  {
   "cell_type": "code",
   "execution_count": 152,
   "metadata": {},
   "outputs": [],
   "source": [
    "# feel free to edit"
   ]
  },
  {
   "cell_type": "code",
   "execution_count": 153,
   "metadata": {},
   "outputs": [],
   "source": [
    "# feel free to edit"
   ]
  },
  {
   "cell_type": "code",
   "execution_count": 154,
   "metadata": {},
   "outputs": [],
   "source": [
    "# feel free to edit"
   ]
  },
  {
   "cell_type": "code",
   "execution_count": 155,
   "metadata": {},
   "outputs": [],
   "source": [
    "# feel free to edit"
   ]
  }
 ],
 "metadata": {
  "kernelspec": {
   "name": "python382jvsc74a57bd0aee8b7b246df8f9039afb4144a1f6fd8d2ca17a180786b69acc140d282b71a49",
   "display_name": "Python 3.8.2 64-bit"
  },
  "language_info": {
   "codemirror_mode": {
    "name": "ipython",
    "version": 3
   },
   "file_extension": ".py",
   "mimetype": "text/x-python",
   "name": "python",
   "nbconvert_exporter": "python",
   "pygments_lexer": "ipython3",
   "version": "3.8.2"
  },
  "metadata": {
   "interpreter": {
    "hash": "aee8b7b246df8f9039afb4144a1f6fd8d2ca17a180786b69acc140d282b71a49"
   }
  }
 },
 "nbformat": 4,
 "nbformat_minor": 5
}