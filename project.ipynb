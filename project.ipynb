{
 "cells": [
  {
   "cell_type": "markdown",
   "id": "approximate-unemployment",
   "metadata": {
    "deletable": false,
    "editable": false,
    "nbgrader": {
     "cell_type": "markdown",
     "checksum": "2b5ecc5d390fe3fdcc1d7048181fbcbb",
     "grade": false,
     "grade_id": "cell-3a49d0c736ae4826",
     "locked": true,
     "schema_version": 3,
     "solution": false,
     "task": false
    }
   },
   "source": [
    "# Project\n",
    "\n",
    "Welcome to the group project! The project is based on the [ACM RecSys 2021 Challenge](https://recsys-twitter.com/).\n",
    "\n",
    "- Detailed information about the task, submission and grading can be found in a [dedicates site on TUWEL](https://tuwel.tuwien.ac.at/mod/page/view.php?id=1217340).\n",
    "- Information about the dataset structure [on this site on TUWEL](https://tuwel.tuwien.ac.at/mod/page/view.php?id=1218810)."
   ]
  },
  {
   "cell_type": "code",
   "execution_count": 1,
   "id": "toxic-cargo",
   "metadata": {},
   "outputs": [],
   "source": [
    "team_name = \"Group 15\"\n",
    "team_members = [(\"Markus Böck\",\"01634838\"),\n",
    "                (\"\",\"\")] # [(\"Jane Doe\",\"012345678\"), (\"John Doe\",\"012345678\")]\n"
   ]
  },
  {
   "cell_type": "code",
   "execution_count": 2,
   "id": "canadian-holiday",
   "metadata": {
    "deletable": false,
    "editable": false,
    "nbgrader": {
     "cell_type": "code",
     "checksum": "3c84ed38479c0195aaa2fa1ce3f7fece",
     "grade": false,
     "grade_id": "cell-07ef37bf8c0d782b",
     "locked": true,
     "schema_version": 3,
     "solution": false,
     "task": false
    }
   },
   "outputs": [
    {
     "name": "stdout",
     "output_type": "stream",
     "text": [
      "Group 15\n",
      "[('Markus Böck', '01634838'), ('', '')]\n"
     ]
    }
   ],
   "source": [
    "print(team_name)\n",
    "print(team_members)"
   ]
  },
  {
   "cell_type": "code",
   "execution_count": 3,
   "id": "nearby-joseph",
   "metadata": {},
   "outputs": [],
   "source": [
    "path_to_data = '~/shared/data/project/training/'\n",
    "val_path_to_data = '~/shared/data/project/validation/'\n",
    "dataset_type = 'one_hour' # all_sorted, one_day, one_hour, one_week\n",
    "val_dataset_type = \"one_hour\""
   ]
  },
  {
   "cell_type": "code",
   "execution_count": 4,
   "id": "otherwise-typing",
   "metadata": {},
   "outputs": [],
   "source": [
    "all_features = [\"text_tokens\", \"hashtags\", \"tweet_id\", \"present_media\", \"present_links\", \"present_domains\",\\\n",
    "                \"tweet_type\",\"language\", \"tweet_timestamp\", \"engaged_with_user_id\", \"engaged_with_user_follower_count\",\\\n",
    "               \"engaged_with_user_following_count\", \"engaged_with_user_is_verified\", \"engaged_with_user_account_creation\",\\\n",
    "               \"engaging_user_id\", \"enaging_user_follower_count\", \"enaging_user_following_count\", \"enaging_user_is_verified\",\\\n",
    "               \"enaging_user_account_creation\", \"engagee_follows_engager\", \"reply\", \"retweet\", \"quote\", \"like\"]\n",
    "\n",
    "all_features_to_idx = dict(zip(all_features, range(len(all_features))))"
   ]
  },
  {
   "cell_type": "code",
   "execution_count": null,
   "id": "hydraulic-cotton",
   "metadata": {
    "deletable": false,
    "editable": false,
    "nbgrader": {
     "cell_type": "code",
     "checksum": "bdcfa030c94d59246d7322f527c9ef7e",
     "grade": true,
     "grade_id": "cell-adf5f6bdd4704e08",
     "locked": true,
     "points": 0,
     "schema_version": 3,
     "solution": false,
     "task": false
    }
   },
   "outputs": [],
   "source": []
  },
  {
   "cell_type": "markdown",
   "id": "specific-heath",
   "metadata": {},
   "source": [
    "## Item-Item Collaborative Filtering\n",
    "#### Author: Markus Böck"
   ]
  },
  {
   "cell_type": "code",
   "execution_count": 5,
   "id": "limited-quick",
   "metadata": {},
   "outputs": [],
   "source": [
    "from model import *"
   ]
  },
  {
   "cell_type": "code",
   "execution_count": 6,
   "id": "romantic-fitting",
   "metadata": {},
   "outputs": [
    {
     "name": "stdout",
     "output_type": "stream",
     "text": [
      "Found files: ['/home/e01634838/shared/data/project/training/one_day']\n",
      "Tweet Features: {'photo': 0, 'video': 1, 'link': 2, 'retweet': 3, 'quote': 4, 'toplevel': 5, 'follower_count': 6, 'following_count': 7, 'verified': 8}\n",
      "Tweet Targets: {'reply': 0, 'retweet': 1, 'quote': 2, 'like': 3}\n",
      "Initialising \"Ratings Matrix\" ...\n",
      "Reading ['/home/e01634838/shared/data/project/training/one_day'] ...\n",
      "Read 64216542 entries.\n",
      "Convert to DataFrame ...\n",
      "Done!\n",
      "Engagement means:\n",
      "reply      0.027377\n",
      "retweet    0.084515\n",
      "quote      0.006820\n",
      "like       0.377553\n",
      "dtype: float64\n",
      "Calculate tweet features ...\n",
      "64216542/64216542 Done!\n",
      "\n",
      "Finished initialisation!\n",
      "CPU times: user 44min, sys: 1min 23s, total: 45min 23s\n",
      "Wall time: 44min 56s\n"
     ]
    }
   ],
   "source": [
    "%%time\n",
    "iicf = IICF(path_to_data, \"one_day\")"
   ]
  },
  {
   "cell_type": "code",
   "execution_count": 7,
   "id": "mobile-lunch",
   "metadata": {},
   "outputs": [],
   "source": [
    "import os\n",
    "import re\n",
    "import csv\n",
    "import datetime\n",
    "\n",
    "\n",
    "def evaluate_test_set(path_to_data, dataset_type):\n",
    "    expanded_path = os.path.expanduser(path_to_data)\n",
    "    part_files = [os.path.join(expanded_path, f) for f in os.listdir(expanded_path) if dataset_type in f]\n",
    "    part_files = sorted(part_files, key = lambda x:x[-5:]) \n",
    "        \n",
    "    i = 0\n",
    "    with open('results.csv', 'w') as output:\n",
    "        for file in part_files:\n",
    "            with open(file, 'r') as f:\n",
    "                linereader = csv.reader(f, delimiter='\\x01')\n",
    "                last_timestamp = None\n",
    "                for row in linereader:\n",
    "                    i += 1\n",
    "                    tweet_id, user_id, features, follow, tweet_timestamp = iicf.parse_input_features(row) \n",
    "\n",
    "                    reply_pred, retweet_pred, quote_pred, fav_pred = iicf.predict(tweet_id, user_id, features, follow)\n",
    "                    \n",
    "                    # print(str(tweet_timestamp))\n",
    "                    # print(str(reply_pred)+\" \"+str(retweet_pred)+\" \"+str(quote_pred)+\" \"+str(fav_pred))\n",
    "                    \n",
    "                    output.write(f'{tweet_id},{user_id},{reply_pred},{retweet_pred},{quote_pred},{fav_pred}\\n')\n",
    "                    \n",
    "                    if i % 1000 == 0:\n",
    "                        print(f\"Predicted {i} rows.\", end=\"\\r\")\n",
    "\n",
    "    print(f\"Predicted {i} rows.\")"
   ]
  },
  {
   "cell_type": "code",
   "execution_count": 8,
   "id": "starting-vegetation",
   "metadata": {},
   "outputs": [
    {
     "name": "stdout",
     "output_type": "stream",
     "text": [
      "Predicted 84377 rows.\n",
      "CPU times: user 1h 7min 56s, sys: 6min 38s, total: 1h 14min 34s\n",
      "Wall time: 1h 14min 31s\n"
     ]
    }
   ],
   "source": [
    "%%time\n",
    "evaluate_test_set(val_path_to_data, val_dataset_type)"
   ]
  },
  {
   "cell_type": "code",
   "execution_count": 9,
   "id": "ruled-recycling",
   "metadata": {
    "deletable": false,
    "editable": false,
    "nbgrader": {
     "cell_type": "code",
     "checksum": "bf000a0073acaf52bcde389fa20cf1d6",
     "grade": true,
     "grade_id": "cell-d807d29f081e031b",
     "locked": true,
     "points": 15,
     "schema_version": 3,
     "solution": false,
     "task": false
    }
   },
   "outputs": [],
   "source": [
    "# hidden\n"
   ]
  },
  {
   "cell_type": "code",
   "execution_count": null,
   "id": "guilty-contamination",
   "metadata": {},
   "outputs": [],
   "source": []
  },
  {
   "cell_type": "code",
   "execution_count": 10,
   "id": "supreme-seeking",
   "metadata": {},
   "outputs": [],
   "source": [
    "from sklearn.metrics import average_precision_score, log_loss\n",
    "\n",
    "def calculate_ctr(gt):\n",
    "    positive = len([x for x in gt if x == 1])\n",
    "\n",
    "    ctr = positive/float(len(gt))\n",
    "\n",
    "    return ctr\n",
    "\n",
    "def compute_rce(pred, gt):\n",
    "\n",
    "    cross_entropy = log_loss(gt, pred)\n",
    "\n",
    "    data_ctr = calculate_ctr(gt)\n",
    "\n",
    "    strawman_cross_entropy = log_loss(gt, [data_ctr for _ in range(len(gt))])\n",
    "\n",
    "    return (1.0 - cross_entropy/strawman_cross_entropy)*100.0"
   ]
  },
  {
   "cell_type": "code",
   "execution_count": 11,
   "id": "improved-punch",
   "metadata": {},
   "outputs": [
    {
     "data": {
      "text/html": [
       "<div>\n",
       "<style scoped>\n",
       "    .dataframe tbody tr th:only-of-type {\n",
       "        vertical-align: middle;\n",
       "    }\n",
       "\n",
       "    .dataframe tbody tr th {\n",
       "        vertical-align: top;\n",
       "    }\n",
       "\n",
       "    .dataframe thead th {\n",
       "        text-align: right;\n",
       "    }\n",
       "</style>\n",
       "<table border=\"1\" class=\"dataframe\">\n",
       "  <thead>\n",
       "    <tr style=\"text-align: right;\">\n",
       "      <th></th>\n",
       "      <th>tweet_id</th>\n",
       "      <th>engaging_user_id</th>\n",
       "      <th>reply</th>\n",
       "      <th>retweet</th>\n",
       "      <th>quote</th>\n",
       "      <th>like</th>\n",
       "    </tr>\n",
       "  </thead>\n",
       "  <tbody>\n",
       "    <tr>\n",
       "      <th>0</th>\n",
       "      <td>F1ACF09134D089766E7ED9599AF5BAAB</td>\n",
       "      <td>06581EA8BFF48387905AE44461A5E326</td>\n",
       "      <td>0</td>\n",
       "      <td>0</td>\n",
       "      <td>0</td>\n",
       "      <td>0</td>\n",
       "    </tr>\n",
       "    <tr>\n",
       "      <th>1</th>\n",
       "      <td>357F7ADACCC62DFE4239030C337E1203</td>\n",
       "      <td>8D4394F5025308A5EBD15E24A315378E</td>\n",
       "      <td>0</td>\n",
       "      <td>0</td>\n",
       "      <td>0</td>\n",
       "      <td>0</td>\n",
       "    </tr>\n",
       "    <tr>\n",
       "      <th>2</th>\n",
       "      <td>357F7ADACCC62DFE4239030C337E1203</td>\n",
       "      <td>DFA5260A0F9FE3D0F57D4BFC73EE0BE1</td>\n",
       "      <td>0</td>\n",
       "      <td>0</td>\n",
       "      <td>0</td>\n",
       "      <td>0</td>\n",
       "    </tr>\n",
       "    <tr>\n",
       "      <th>3</th>\n",
       "      <td>124572F51ECB70FB32FD236C0DCC49F9</td>\n",
       "      <td>B61D0A5B8AA47718490FCB03757402BF</td>\n",
       "      <td>0</td>\n",
       "      <td>0</td>\n",
       "      <td>0</td>\n",
       "      <td>0</td>\n",
       "    </tr>\n",
       "    <tr>\n",
       "      <th>4</th>\n",
       "      <td>AF7BCBA32384842B8D5A5A165DE74A96</td>\n",
       "      <td>362F40E439E0C773A8DB308E6E673313</td>\n",
       "      <td>0</td>\n",
       "      <td>0</td>\n",
       "      <td>0</td>\n",
       "      <td>1</td>\n",
       "    </tr>\n",
       "    <tr>\n",
       "      <th>...</th>\n",
       "      <td>...</td>\n",
       "      <td>...</td>\n",
       "      <td>...</td>\n",
       "      <td>...</td>\n",
       "      <td>...</td>\n",
       "      <td>...</td>\n",
       "    </tr>\n",
       "    <tr>\n",
       "      <th>84372</th>\n",
       "      <td>2A0B4C59EC449EC4A7EA1771DDB888D8</td>\n",
       "      <td>090719B8118D9D2F0CC010C4BA8648C8</td>\n",
       "      <td>0</td>\n",
       "      <td>0</td>\n",
       "      <td>0</td>\n",
       "      <td>0</td>\n",
       "    </tr>\n",
       "    <tr>\n",
       "      <th>84373</th>\n",
       "      <td>A533F79F65E5D277238C1DB40C9ADAAE</td>\n",
       "      <td>D27628FDF5CAE5C80295396D490A35C2</td>\n",
       "      <td>0</td>\n",
       "      <td>0</td>\n",
       "      <td>0</td>\n",
       "      <td>0</td>\n",
       "    </tr>\n",
       "    <tr>\n",
       "      <th>84374</th>\n",
       "      <td>8DFDF22F0D21CD5FD756896907282355</td>\n",
       "      <td>66D49C65447407A5837A2C20510DF7B2</td>\n",
       "      <td>0</td>\n",
       "      <td>0</td>\n",
       "      <td>0</td>\n",
       "      <td>1</td>\n",
       "    </tr>\n",
       "    <tr>\n",
       "      <th>84375</th>\n",
       "      <td>0E0404A93580C173B67E0F921971A2EB</td>\n",
       "      <td>FA314A78B5BFAEC6FC403D2C860752B9</td>\n",
       "      <td>0</td>\n",
       "      <td>0</td>\n",
       "      <td>0</td>\n",
       "      <td>0</td>\n",
       "    </tr>\n",
       "    <tr>\n",
       "      <th>84376</th>\n",
       "      <td>FA3290C6DA83AC5E3D0B469BFE7B9499</td>\n",
       "      <td>6B9EE9AE70B53196EB5EEDE288BFDF4B</td>\n",
       "      <td>0</td>\n",
       "      <td>0</td>\n",
       "      <td>0</td>\n",
       "      <td>0</td>\n",
       "    </tr>\n",
       "  </tbody>\n",
       "</table>\n",
       "<p>84377 rows × 6 columns</p>\n",
       "</div>"
      ],
      "text/plain": [
       "                               tweet_id                  engaging_user_id  \\\n",
       "0      F1ACF09134D089766E7ED9599AF5BAAB  06581EA8BFF48387905AE44461A5E326   \n",
       "1      357F7ADACCC62DFE4239030C337E1203  8D4394F5025308A5EBD15E24A315378E   \n",
       "2      357F7ADACCC62DFE4239030C337E1203  DFA5260A0F9FE3D0F57D4BFC73EE0BE1   \n",
       "3      124572F51ECB70FB32FD236C0DCC49F9  B61D0A5B8AA47718490FCB03757402BF   \n",
       "4      AF7BCBA32384842B8D5A5A165DE74A96  362F40E439E0C773A8DB308E6E673313   \n",
       "...                                 ...                               ...   \n",
       "84372  2A0B4C59EC449EC4A7EA1771DDB888D8  090719B8118D9D2F0CC010C4BA8648C8   \n",
       "84373  A533F79F65E5D277238C1DB40C9ADAAE  D27628FDF5CAE5C80295396D490A35C2   \n",
       "84374  8DFDF22F0D21CD5FD756896907282355  66D49C65447407A5837A2C20510DF7B2   \n",
       "84375  0E0404A93580C173B67E0F921971A2EB  FA314A78B5BFAEC6FC403D2C860752B9   \n",
       "84376  FA3290C6DA83AC5E3D0B469BFE7B9499  6B9EE9AE70B53196EB5EEDE288BFDF4B   \n",
       "\n",
       "       reply  retweet  quote  like  \n",
       "0          0        0      0     0  \n",
       "1          0        0      0     0  \n",
       "2          0        0      0     0  \n",
       "3          0        0      0     0  \n",
       "4          0        0      0     1  \n",
       "...      ...      ...    ...   ...  \n",
       "84372      0        0      0     0  \n",
       "84373      0        0      0     0  \n",
       "84374      0        0      0     1  \n",
       "84375      0        0      0     0  \n",
       "84376      0        0      0     0  \n",
       "\n",
       "[84377 rows x 6 columns]"
      ]
     },
     "execution_count": 11,
     "metadata": {},
     "output_type": "execute_result"
    }
   ],
   "source": [
    "val_expanded_path = os.path.expanduser(val_path_to_data)\n",
    "val_part_files = [os.path.join(val_expanded_path, f) for f in os.listdir(val_expanded_path) if val_dataset_type in f]\n",
    "val_part_files = sorted(val_part_files, key = lambda x:x[-5:])\n",
    "val_part_files\n",
    "val_data = pd.read_csv(val_part_files[0], delimiter='\\x01', header=None, usecols=[2, 14, 20,21,22,23])\n",
    "val_data.columns = [\"tweet_id\", \"engaging_user_id\", 'reply', 'retweet', 'quote', 'like']\n",
    "\n",
    "val_data.reply = (~val_data.reply.isna()).astype(\"int\")\n",
    "val_data.retweet = (~val_data.retweet.isna()).astype(\"int\")\n",
    "val_data.quote = (~val_data.quote.isna()).astype(\"int\")\n",
    "val_data.like = (~val_data.like.isna()).astype(\"int\")\n",
    "\n",
    "val_data"
   ]
  },
  {
   "cell_type": "code",
   "execution_count": 12,
   "id": "flying-warehouse",
   "metadata": {},
   "outputs": [
    {
     "data": {
      "text/html": [
       "<div>\n",
       "<style scoped>\n",
       "    .dataframe tbody tr th:only-of-type {\n",
       "        vertical-align: middle;\n",
       "    }\n",
       "\n",
       "    .dataframe tbody tr th {\n",
       "        vertical-align: top;\n",
       "    }\n",
       "\n",
       "    .dataframe thead th {\n",
       "        text-align: right;\n",
       "    }\n",
       "</style>\n",
       "<table border=\"1\" class=\"dataframe\">\n",
       "  <thead>\n",
       "    <tr style=\"text-align: right;\">\n",
       "      <th></th>\n",
       "      <th>tweet_id</th>\n",
       "      <th>user_id</th>\n",
       "      <th>reply</th>\n",
       "      <th>retweet</th>\n",
       "      <th>quote</th>\n",
       "      <th>like</th>\n",
       "    </tr>\n",
       "  </thead>\n",
       "  <tbody>\n",
       "    <tr>\n",
       "      <th>0</th>\n",
       "      <td>F1ACF09134D089766E7ED9599AF5BAAB</td>\n",
       "      <td>06581EA8BFF48387905AE44461A5E326</td>\n",
       "      <td>0.000000</td>\n",
       "      <td>0.000000</td>\n",
       "      <td>0.001893</td>\n",
       "      <td>0.554893</td>\n",
       "    </tr>\n",
       "    <tr>\n",
       "      <th>1</th>\n",
       "      <td>357F7ADACCC62DFE4239030C337E1203</td>\n",
       "      <td>8D4394F5025308A5EBD15E24A315378E</td>\n",
       "      <td>0.000000</td>\n",
       "      <td>0.391998</td>\n",
       "      <td>0.000000</td>\n",
       "      <td>0.122409</td>\n",
       "    </tr>\n",
       "    <tr>\n",
       "      <th>2</th>\n",
       "      <td>357F7ADACCC62DFE4239030C337E1203</td>\n",
       "      <td>DFA5260A0F9FE3D0F57D4BFC73EE0BE1</td>\n",
       "      <td>0.027377</td>\n",
       "      <td>0.084515</td>\n",
       "      <td>0.006820</td>\n",
       "      <td>0.314056</td>\n",
       "    </tr>\n",
       "    <tr>\n",
       "      <th>3</th>\n",
       "      <td>124572F51ECB70FB32FD236C0DCC49F9</td>\n",
       "      <td>B61D0A5B8AA47718490FCB03757402BF</td>\n",
       "      <td>0.027377</td>\n",
       "      <td>0.084515</td>\n",
       "      <td>0.006820</td>\n",
       "      <td>0.377553</td>\n",
       "    </tr>\n",
       "    <tr>\n",
       "      <th>4</th>\n",
       "      <td>AF7BCBA32384842B8D5A5A165DE74A96</td>\n",
       "      <td>362F40E439E0C773A8DB308E6E673313</td>\n",
       "      <td>0.017335</td>\n",
       "      <td>0.009016</td>\n",
       "      <td>0.000498</td>\n",
       "      <td>0.418035</td>\n",
       "    </tr>\n",
       "    <tr>\n",
       "      <th>...</th>\n",
       "      <td>...</td>\n",
       "      <td>...</td>\n",
       "      <td>...</td>\n",
       "      <td>...</td>\n",
       "      <td>...</td>\n",
       "      <td>...</td>\n",
       "    </tr>\n",
       "    <tr>\n",
       "      <th>84372</th>\n",
       "      <td>2A0B4C59EC449EC4A7EA1771DDB888D8</td>\n",
       "      <td>090719B8118D9D2F0CC010C4BA8648C8</td>\n",
       "      <td>0.027377</td>\n",
       "      <td>0.039739</td>\n",
       "      <td>0.006820</td>\n",
       "      <td>0.183523</td>\n",
       "    </tr>\n",
       "    <tr>\n",
       "      <th>84373</th>\n",
       "      <td>A533F79F65E5D277238C1DB40C9ADAAE</td>\n",
       "      <td>D27628FDF5CAE5C80295396D490A35C2</td>\n",
       "      <td>0.014640</td>\n",
       "      <td>0.019450</td>\n",
       "      <td>0.000905</td>\n",
       "      <td>0.455362</td>\n",
       "    </tr>\n",
       "    <tr>\n",
       "      <th>84374</th>\n",
       "      <td>8DFDF22F0D21CD5FD756896907282355</td>\n",
       "      <td>66D49C65447407A5837A2C20510DF7B2</td>\n",
       "      <td>0.027377</td>\n",
       "      <td>0.084515</td>\n",
       "      <td>0.006820</td>\n",
       "      <td>0.377553</td>\n",
       "    </tr>\n",
       "    <tr>\n",
       "      <th>84375</th>\n",
       "      <td>0E0404A93580C173B67E0F921971A2EB</td>\n",
       "      <td>FA314A78B5BFAEC6FC403D2C860752B9</td>\n",
       "      <td>0.023096</td>\n",
       "      <td>0.136719</td>\n",
       "      <td>0.003031</td>\n",
       "      <td>0.462635</td>\n",
       "    </tr>\n",
       "    <tr>\n",
       "      <th>84376</th>\n",
       "      <td>FA3290C6DA83AC5E3D0B469BFE7B9499</td>\n",
       "      <td>6B9EE9AE70B53196EB5EEDE288BFDF4B</td>\n",
       "      <td>0.026595</td>\n",
       "      <td>0.131646</td>\n",
       "      <td>0.006820</td>\n",
       "      <td>0.412416</td>\n",
       "    </tr>\n",
       "  </tbody>\n",
       "</table>\n",
       "<p>84377 rows × 6 columns</p>\n",
       "</div>"
      ],
      "text/plain": [
       "                               tweet_id                           user_id  \\\n",
       "0      F1ACF09134D089766E7ED9599AF5BAAB  06581EA8BFF48387905AE44461A5E326   \n",
       "1      357F7ADACCC62DFE4239030C337E1203  8D4394F5025308A5EBD15E24A315378E   \n",
       "2      357F7ADACCC62DFE4239030C337E1203  DFA5260A0F9FE3D0F57D4BFC73EE0BE1   \n",
       "3      124572F51ECB70FB32FD236C0DCC49F9  B61D0A5B8AA47718490FCB03757402BF   \n",
       "4      AF7BCBA32384842B8D5A5A165DE74A96  362F40E439E0C773A8DB308E6E673313   \n",
       "...                                 ...                               ...   \n",
       "84372  2A0B4C59EC449EC4A7EA1771DDB888D8  090719B8118D9D2F0CC010C4BA8648C8   \n",
       "84373  A533F79F65E5D277238C1DB40C9ADAAE  D27628FDF5CAE5C80295396D490A35C2   \n",
       "84374  8DFDF22F0D21CD5FD756896907282355  66D49C65447407A5837A2C20510DF7B2   \n",
       "84375  0E0404A93580C173B67E0F921971A2EB  FA314A78B5BFAEC6FC403D2C860752B9   \n",
       "84376  FA3290C6DA83AC5E3D0B469BFE7B9499  6B9EE9AE70B53196EB5EEDE288BFDF4B   \n",
       "\n",
       "          reply   retweet     quote      like  \n",
       "0      0.000000  0.000000  0.001893  0.554893  \n",
       "1      0.000000  0.391998  0.000000  0.122409  \n",
       "2      0.027377  0.084515  0.006820  0.314056  \n",
       "3      0.027377  0.084515  0.006820  0.377553  \n",
       "4      0.017335  0.009016  0.000498  0.418035  \n",
       "...         ...       ...       ...       ...  \n",
       "84372  0.027377  0.039739  0.006820  0.183523  \n",
       "84373  0.014640  0.019450  0.000905  0.455362  \n",
       "84374  0.027377  0.084515  0.006820  0.377553  \n",
       "84375  0.023096  0.136719  0.003031  0.462635  \n",
       "84376  0.026595  0.131646  0.006820  0.412416  \n",
       "\n",
       "[84377 rows x 6 columns]"
      ]
     },
     "execution_count": 12,
     "metadata": {},
     "output_type": "execute_result"
    }
   ],
   "source": [
    "results = pd.read_csv(\"results.csv\", header=None)\n",
    "results.columns = [\"tweet_id\", \"user_id\", \"reply\", \"retweet\", \"quote\", \"like\"]\n",
    "results"
   ]
  },
  {
   "cell_type": "code",
   "execution_count": 13,
   "id": "visible-pennsylvania",
   "metadata": {},
   "outputs": [
    {
     "name": "stdout",
     "output_type": "stream",
     "text": [
      "Reply scores:\n"
     ]
    },
    {
     "data": {
      "text/plain": [
       "(-53.78785842110461, 0.037004776167208035)"
      ]
     },
     "execution_count": 13,
     "metadata": {},
     "output_type": "execute_result"
    }
   ],
   "source": [
    "print(\"Reply scores:\")\n",
    "compute_rce(results.reply, val_data.reply), average_precision_score(val_data.reply, results.reply)"
   ]
  },
  {
   "cell_type": "code",
   "execution_count": 14,
   "id": "stretch-shopper",
   "metadata": {},
   "outputs": [
    {
     "name": "stdout",
     "output_type": "stream",
     "text": [
      "Retweet scores:\n"
     ]
    },
    {
     "data": {
      "text/plain": [
       "(-61.50166604736109, 0.11615123232744808)"
      ]
     },
     "execution_count": 14,
     "metadata": {},
     "output_type": "execute_result"
    }
   ],
   "source": [
    "print(\"Retweet scores:\")\n",
    "compute_rce(results.retweet, val_data.retweet), average_precision_score(val_data.retweet, results.retweet)"
   ]
  },
  {
   "cell_type": "code",
   "execution_count": 15,
   "id": "hearing-swing",
   "metadata": {},
   "outputs": [
    {
     "name": "stdout",
     "output_type": "stream",
     "text": [
      "Quote scores:\n"
     ]
    },
    {
     "data": {
      "text/plain": [
       "(-40.431230291216536, 0.01374908973759376)"
      ]
     },
     "execution_count": 15,
     "metadata": {},
     "output_type": "execute_result"
    }
   ],
   "source": [
    "print(\"Quote scores:\")\n",
    "compute_rce(results.quote, val_data.quote), average_precision_score(val_data.quote, results.quote)"
   ]
  },
  {
   "cell_type": "code",
   "execution_count": 16,
   "id": "classified-surgeon",
   "metadata": {},
   "outputs": [
    {
     "name": "stdout",
     "output_type": "stream",
     "text": [
      "Like scores:\n"
     ]
    },
    {
     "data": {
      "text/plain": [
       "(-60.417186236457354, 0.4330282681329902)"
      ]
     },
     "execution_count": 16,
     "metadata": {},
     "output_type": "execute_result"
    }
   ],
   "source": [
    "print(\"Like scores:\")\n",
    "compute_rce(results.like, val_data.like), average_precision_score(val_data.like, results.like)"
   ]
  },
  {
   "cell_type": "code",
   "execution_count": 17,
   "id": "suffering-amateur",
   "metadata": {},
   "outputs": [],
   "source": [
    "del iicf # free up memory"
   ]
  },
  {
   "cell_type": "markdown",
   "id": "other-macintosh",
   "metadata": {},
   "source": [
    "## Data Analysis & Baselines\n",
    "#### Author: Markus Böck"
   ]
  },
  {
   "cell_type": "code",
   "execution_count": 18,
   "id": "balanced-class",
   "metadata": {},
   "outputs": [],
   "source": [
    "import pandas as pd\n",
    "import numpy as np\n",
    "import time\n",
    "\n",
    "import matplotlib.pyplot as plt"
   ]
  },
  {
   "cell_type": "markdown",
   "id": "potential-spiritual",
   "metadata": {},
   "source": [
    "Collecting statistics:\n",
    "- Number of rows\n",
    "- Numer of unique users\n",
    "- Number of unique tweets\n",
    "- Percentage of engagements (reply, retweet, quote, like)\n",
    "- Percentage of users of validation set appearing in training data"
   ]
  },
  {
   "cell_type": "code",
   "execution_count": 19,
   "id": "advisory-generation",
   "metadata": {},
   "outputs": [
    {
     "name": "stdout",
     "output_type": "stream",
     "text": [
      "['/home/e01634838/shared/data/project/training/one_hour']\n",
      "['/home/e01634838/shared/data/project/training/one_day']\n",
      "['/home/e01634838/shared/data/project/training/one_week']\n",
      "CPU times: user 46min 1s, sys: 1min 47s, total: 47min 49s\n",
      "Wall time: 47min 38s\n"
     ]
    }
   ],
   "source": [
    "%%time\n",
    "\n",
    "res = {}\n",
    "for dataset_type in [\"one_hour\", \"one_day\", \"one_week\"]:\n",
    "    expanded_path = os.path.expanduser(path_to_data)\n",
    "    part_files = [os.path.join(expanded_path, f) for f in os.listdir(expanded_path) if dataset_type in f]\n",
    "    part_files = sorted(part_files, key = lambda x:x[-5:])\n",
    "    part_files\n",
    "    print(part_files)\n",
    "\n",
    "    tweet_counts = dict()\n",
    "    user_counts = dict()\n",
    "    \n",
    "    nreply = 0\n",
    "    nretweet = 0\n",
    "    nquote = 0\n",
    "    nlike = 0\n",
    "    nengagement = 0\n",
    "\n",
    "    nrows = 0\n",
    "    with open(part_files[0], 'r') as f:\n",
    "        linereader = csv.reader(f, delimiter='\\x01')\n",
    "        last_timestamp = None\n",
    "        i = 0\n",
    "        tik = time.time()\n",
    "        for row in linereader:\n",
    "            tweet_id = row[all_features_to_idx['tweet_id']]\n",
    "            user_id = row[all_features_to_idx['engaging_user_id']]\n",
    "            \n",
    "            reply = row[all_features_to_idx['reply']] != \"\"\n",
    "            retweet = row[all_features_to_idx['retweet']] != \"\"\n",
    "            quote = row[all_features_to_idx['quote']] != \"\"\n",
    "            like = row[all_features_to_idx['like']] != \"\"\n",
    "                \n",
    "            nreply += reply\n",
    "            nretweet += retweet\n",
    "            nquote += quote\n",
    "            nlike += like\n",
    "            nengagement += (reply or retweet or quote or like)\n",
    "                        \n",
    "            v = 0\n",
    "            try:\n",
    "                v = tweet_counts[tweet_id]\n",
    "            except:\n",
    "                pass\n",
    "            tweet_counts[tweet_id] = v + 1\n",
    "\n",
    "            v = 0\n",
    "            try:\n",
    "                v = user_counts[user_id]\n",
    "            except:\n",
    "                pass\n",
    "            user_counts[user_id] = v + 1\n",
    "\n",
    "            if i % 100000 == 0:\n",
    "                tok = time.time()\n",
    "                print(f\"{i} {100000/(tok-tik): .2f} iter/s\", end=\"\\r\")\n",
    "                tik = time.time()\n",
    "\n",
    "            i += 1\n",
    "\n",
    "        nrows = i\n",
    "        \n",
    "        stats = {\"nrows\": nrows}\n",
    "        \n",
    "        stats[\"nreply\"] = nreply\n",
    "        stats[\"nretweet\"] = nretweet\n",
    "        stats[\"nquote\"] = nquote\n",
    "        stats[\"nlike\"] = nlike\n",
    "        stats[\"nengagement\"] = nengagement\n",
    "        \n",
    "        stats[\"unique_tweets\"] = len(tweet_counts)\n",
    "        stats[\"unique_users\"] = len(user_counts)\n",
    "        \n",
    "        percs = []\n",
    "        for i in range(1,11):\n",
    "            perc = sum([1 for (j,c) in tweet_counts.items() if c >= i])  / len(tweet_counts)\n",
    "            percs.append(perc)\n",
    "        stats[\"tweet_dist\"] = percs\n",
    "        \n",
    "        percs = []\n",
    "        for i in range(1,11):\n",
    "            perc = sum([1 for (j,c) in user_counts.items() if c >= i])  / len(user_counts)\n",
    "            percs.append(perc)\n",
    "        stats[\"user_dist\"] = percs\n",
    "        \n",
    "        stats[\"val_user_perc\"] = len(set(val_data[\"engaging_user_id\"].unique()).intersection(set(user_counts.keys()))) / val_data.shape[0] * 100\n",
    "        stats[\"val_tweet_perc\"] = len(set(val_data[\"tweet_id\"].unique()).intersection(set(tweet_counts.keys()))) / val_data.shape[0] * 100\n",
    "        \n",
    "        res[dataset_type] = stats"
   ]
  },
  {
   "cell_type": "markdown",
   "id": "manufactured-metabolism",
   "metadata": {},
   "source": [
    "All data needs special treatment. Exploit the fact that this set is ordered according to tweet id."
   ]
  },
  {
   "cell_type": "code",
   "execution_count": 20,
   "id": "handled-ozone",
   "metadata": {},
   "outputs": [
    {
     "name": "stdout",
     "output_type": "stream",
     "text": [
      "['/home/e01634838/shared/data/project/training/all_sorted']\n",
      "CPU times: user 1h 25min 54s, sys: 3min 21s, total: 1h 29min 16s\n",
      "Wall time: 1h 28min 55s\n"
     ]
    }
   ],
   "source": [
    "%%time\n",
    "\n",
    "dataset_type = \"all_sorted\"\n",
    "expanded_path = os.path.expanduser(path_to_data)\n",
    "part_files = [os.path.join(expanded_path, f) for f in os.listdir(expanded_path) if dataset_type in f]\n",
    "part_files = sorted(part_files, key = lambda x:x[-5:])\n",
    "part_files\n",
    "print(part_files)\n",
    "\n",
    "current_tweet_id = \"\"\n",
    "tweet_count = 1\n",
    "tweet_dist = [0]*10\n",
    "n_unique_tweets = 0\n",
    "\n",
    "user_counts = dict()\n",
    "\n",
    "nreply = 0\n",
    "nretweet = 0\n",
    "nquote = 0\n",
    "nlike = 0\n",
    "nengagement = 0\n",
    "\n",
    "nrows = 0\n",
    "with open(part_files[0], 'r') as f:\n",
    "    linereader = csv.reader(f, delimiter='\\x01')\n",
    "    last_timestamp = None\n",
    "    i = 0\n",
    "    tik = time.time()\n",
    "    for row in linereader:\n",
    "        tweet_id = row[all_features_to_idx['tweet_id']]\n",
    "        user_id = row[all_features_to_idx['engaging_user_id']]\n",
    "\n",
    "        #print(tweet_id)\n",
    "        \n",
    "        if current_tweet_id == tweet_id:\n",
    "            tweet_count += 1\n",
    "        else:\n",
    "            #print(tweet_id, tweet_count)\n",
    "            for j in range(1, 11):\n",
    "                if tweet_count >= j:\n",
    "                    tweet_dist[j-1] += 1\n",
    "            tweet_count = 1\n",
    "            current_tweet_id = tweet_id\n",
    "            n_unique_tweets += 1\n",
    "                \n",
    "\n",
    "        reply = row[all_features_to_idx['reply']] != \"\"\n",
    "        retweet = row[all_features_to_idx['retweet']] != \"\"\n",
    "        quote = row[all_features_to_idx['quote']] != \"\"\n",
    "        like = row[all_features_to_idx['like']] != \"\"\n",
    "\n",
    "        nreply += reply\n",
    "        nretweet += retweet\n",
    "        nquote += quote\n",
    "        nlike += like\n",
    "        nengagement += (reply or retweet or quote or like)\n",
    "\n",
    "\n",
    "        v = 0\n",
    "        try:\n",
    "            v = user_counts[user_id]\n",
    "        except:\n",
    "            pass\n",
    "        user_counts[user_id] = v + 1\n",
    "\n",
    "        if i % 100000 == 0:\n",
    "            tok = time.time()\n",
    "            print(f\"{i} {100000/(tok-tik): .2f} iter/s\", end=\"\\r\")\n",
    "            tik = time.time()\n",
    "\n",
    "        i += 1\n",
    "\n",
    "\n",
    "    nrows = i\n",
    "\n",
    "    stats = {\"nrows\": nrows}\n",
    "\n",
    "    stats[\"nreply\"] = nreply\n",
    "    stats[\"nretweet\"] = nretweet\n",
    "    stats[\"nquote\"] = nquote\n",
    "    stats[\"nlike\"] = nlike\n",
    "    stats[\"nengagement\"] = nengagement\n",
    "\n",
    "    stats[\"unique_tweets\"] = n_unique_tweets\n",
    "    stats[\"unique_users\"] = len(user_counts)\n",
    "\n",
    "    stats[\"tweet_dist\"] = [d/n_unique_tweets for d in tweet_dist]\n",
    "\n",
    "    percs = []\n",
    "    for i in range(1,11):\n",
    "        perc = sum([1 for (j,c) in user_counts.items() if c >= i])  / len(user_counts)\n",
    "        percs.append(perc)\n",
    "    stats[\"user_dist\"] = percs\n",
    "\n",
    "    stats[\"val_user_perc\"] = len(set(val_data[\"engaging_user_id\"].unique()).intersection(set(user_counts.keys()))) / val_data.shape[0] * 100\n",
    "    stats[\"val_tweet_perc\"] = 0.\n",
    "\n",
    "res[dataset_type] = stats"
   ]
  },
  {
   "cell_type": "code",
   "execution_count": 21,
   "id": "mexican-refund",
   "metadata": {},
   "outputs": [],
   "source": [
    "del tweet_counts\n",
    "del user_counts"
   ]
  },
  {
   "cell_type": "code",
   "execution_count": 22,
   "id": "interesting-florida",
   "metadata": {},
   "outputs": [
    {
     "name": "stdout",
     "output_type": "stream",
     "text": [
      "one_hour\n",
      "\tnrows 891747\n",
      "\tnreply 19778 - 2.22 %\n",
      "\tnretweet 40240 - 4.51 %\n",
      "\tnquote 4683 - 0.53 %\n",
      "\tnlike 188438 - 21.13 %\n",
      "\tnengagement 240590 - 26.98 %\n",
      "\tunique_tweets 462701\n",
      "\tunique_users 723876\n",
      "\tval_user_perc 9.548810694857604\n",
      "\tval_tweet_perc 0.0\n",
      "one_day\n",
      "\tnrows 64216542\n",
      "\tnreply 1758039 - 2.74 %\n",
      "\tnretweet 5427247 - 8.45 %\n",
      "\tnquote 437925 - 0.68 %\n",
      "\tnlike 24245123 - 37.76 %\n",
      "\tnengagement 30416121 - 47.36 %\n",
      "\tunique_tweets 29288894\n",
      "\tunique_users 15368445\n",
      "\tval_user_perc 73.52596086611281\n",
      "\tval_tweet_perc 0.0\n",
      "one_week\n",
      "\tnrows 260523602\n",
      "\tnreply 7240531 - 2.78 %\n",
      "\tnretweet 22656544 - 8.7 %\n",
      "\tnquote 1803980 - 0.69 %\n",
      "\tnlike 103001406 - 39.54 %\n",
      "\tnengagement 128627453 - 49.37 %\n",
      "\tunique_tweets 118041598\n",
      "\tunique_users 27923088\n",
      "\tval_user_perc 91.92552472830273\n",
      "\tval_tweet_perc 0.0\n",
      "all_sorted\n",
      "\tnrows 684824551\n",
      "\tnreply 19038522 - 2.78 %\n",
      "\tnretweet 59772803 - 8.73 %\n",
      "\tnquote 4693368 - 0.69 %\n",
      "\tnlike 271151475 - 39.59 %\n",
      "\tnengagement 338693842 - 49.46 %\n",
      "\tunique_tweets 308657272\n",
      "\tunique_users 35699653\n",
      "\tval_user_perc 97.73516479609373\n",
      "\tval_tweet_perc 0.0\n"
     ]
    }
   ],
   "source": [
    "# Print statistics\n",
    "for (k,stats) in res.items():\n",
    "    print(k)\n",
    "    print(\"\\tnrows\", stats[\"nrows\"])\n",
    "    \n",
    "    print(\"\\tnreply\", stats[\"nreply\"], \"-\", round(stats[\"nreply\"]/stats[\"nrows\"]*100,2), \"%\")\n",
    "    print(\"\\tnretweet\", stats[\"nretweet\"], \"-\", round(stats[\"nretweet\"]/stats[\"nrows\"]*100,2), \"%\")\n",
    "    print(\"\\tnquote\", stats[\"nquote\"], \"-\", round(stats[\"nquote\"]/stats[\"nrows\"]*100,2), \"%\")\n",
    "    print(\"\\tnlike\", stats[\"nlike\"], \"-\", round(stats[\"nlike\"]/stats[\"nrows\"]*100,2), \"%\")\n",
    "    print(\"\\tnengagement\", stats[\"nengagement\"], \"-\", round(stats[\"nengagement\"]/stats[\"nrows\"]*100,2), \"%\")\n",
    "          \n",
    "    print(\"\\tunique_tweets\", stats[\"unique_tweets\"])\n",
    "    print(\"\\tunique_users\", stats[\"unique_users\"])\n",
    "    print(\"\\tval_user_perc\", stats[\"val_user_perc\"])\n",
    "    try:\n",
    "        print(\"\\tval_tweet_perc\", stats[\"val_tweet_perc\"])\n",
    "    except KeyError:\n",
    "        pass"
   ]
  },
  {
   "cell_type": "code",
   "execution_count": 23,
   "id": "inclusive-overhead",
   "metadata": {},
   "outputs": [
    {
     "data": {
      "image/png": "[encoded data removed]",
      "text/plain": [
       "<Figure size 432x288 with 1 Axes>"
      ]
     },
     "metadata": {
      "needs_background": "light"
     },
     "output_type": "display_data"
    }
   ],
   "source": [
    "fig = plt.figure()\n",
    "for (k,stats) in res.items():\n",
    "    dist = stats[\"tweet_dist\"]\n",
    "    plt.plot(range(1,len(dist)+1), dist, label=k)\n",
    "    \n",
    "plt.legend()\n",
    "plt.title(\"% of tweets appearing more than n times\")\n",
    "plt.xlabel(\"n\")\n",
    "#plt.yscale(\"log\")\n",
    "plt.savefig(\"tweets.pdf\")"
   ]
  },
  {
   "cell_type": "code",
   "execution_count": 24,
   "id": "accepting-cattle",
   "metadata": {},
   "outputs": [
    {
     "data": {
      "image/png": "[encoded data removed]",
      "text/plain": [
       "<Figure size 432x288 with 1 Axes>"
      ]
     },
     "metadata": {
      "needs_background": "light"
     },
     "output_type": "display_data"
    }
   ],
   "source": [
    "fig = plt.figure()\n",
    "for (k,stats) in res.items():\n",
    "    dist = stats[\"user_dist\"]\n",
    "    plt.plot(range(1,len(dist)+1), dist, label=k)\n",
    "    \n",
    "plt.legend()\n",
    "plt.title(\"% of users appearing more than n times\")\n",
    "plt.xlabel(\"n\")\n",
    "#plt.yscale(\"log\")\n",
    "plt.savefig(\"users.pdf\")"
   ]
  },
  {
   "cell_type": "markdown",
   "id": "disabled-claim",
   "metadata": {},
   "source": [
    "### Baselines"
   ]
  },
  {
   "cell_type": "markdown",
   "id": "hispanic-diana",
   "metadata": {},
   "source": [
    "#### Predicting mean engagement"
   ]
  },
  {
   "cell_type": "code",
   "execution_count": 25,
   "id": "sporting-foster",
   "metadata": {},
   "outputs": [
    {
     "name": "stdout",
     "output_type": "stream",
     "text": [
      "one_hour\n",
      "reply: rce -0.0016726810437628359 avgprec 0.02245872690425116\n",
      "retweet: rce -2.572690783808995 avgprec 0.07083683942306553\n",
      "quote: rce -0.11509200136881059 avgprec 0.005925785462863102\n",
      "like: rce -14.574136296620033 avgprec 0.4079192196925702\n",
      "one_day\n",
      "reply: rce -0.44972336106225974 avgprec 0.02245872690425116\n",
      "retweet: rce -0.4978792261649545 avgprec 0.07083683942306553\n",
      "quote: rce -0.16999390313110485 avgprec 0.005925785462863102\n",
      "like: rce -0.28735574412810383 avgprec 0.4079192196925702\n",
      "one_week\n",
      "reply: rce -0.523603374675452 avgprec 0.02245872690425116\n",
      "retweet: rce -0.6799674856781346 avgprec 0.07083683942306553\n",
      "quote: rce -0.21006890934760492 avgprec 0.005925785462863102\n",
      "like: rce -0.048601471801923424 avgprec 0.4079192196925702\n",
      "all_sorted\n",
      "reply: rce -0.5251393845349783 avgprec 0.02245872690425116\n",
      "retweet: rce -0.7053052267925519 avgprec 0.07083683942306553\n",
      "quote: rce -0.1825136341622846 avgprec 0.005925785462863102\n",
      "like: rce -0.044201183172476455 avgprec 0.4079192196925702\n"
     ]
    }
   ],
   "source": [
    "for (k,stats) in res.items():\n",
    "    print(k)\n",
    "    \n",
    "    nvalrows = val_data.shape[0]\n",
    "    reply_mean = stats[\"nreply\"]/stats[\"nrows\"]\n",
    "    retweet_mean = stats[\"nretweet\"]/stats[\"nrows\"]\n",
    "    quote_mean = stats[\"nquote\"]/stats[\"nrows\"]\n",
    "    like_mean = stats[\"nlike\"]/stats[\"nrows\"]\n",
    "    \n",
    "    p = np.full(nvalrows, reply_mean)\n",
    "    gt = val_data.reply\n",
    "    print(\"reply:\", \"rce\", compute_rce(p, gt), \"avgprec\", average_precision_score(gt, p))\n",
    "    p = np.full(nvalrows, retweet_mean)\n",
    "    gt = val_data.retweet\n",
    "    print(\"retweet:\", \"rce\", compute_rce(p, gt), \"avgprec\", average_precision_score(gt, p))\n",
    "    p = np.full(nvalrows, quote_mean)\n",
    "    gt = val_data.quote\n",
    "    print(\"quote:\", \"rce\", compute_rce(p, gt), \"avgprec\", average_precision_score(gt, p))\n",
    "    p = np.full(nvalrows, like_mean)\n",
    "    gt = val_data.like\n",
    "    print(\"like:\", \"rce\", compute_rce(p, gt), \"avgprec\", average_precision_score(gt, p))"
   ]
  },
  {
   "cell_type": "markdown",
   "id": "hidden-posting",
   "metadata": {},
   "source": [
    "#### Predicting no engagement"
   ]
  },
  {
   "cell_type": "code",
   "execution_count": 26,
   "id": "antique-theme",
   "metadata": {},
   "outputs": [
    {
     "name": "stdout",
     "output_type": "stream",
     "text": [
      "reply: rce -621.8494688006682 avgprec 0.02245872690425116\n",
      "retweet: rce -856.4639059962117 avgprec 0.07083683942306553\n",
      "quote: rce -463.85482181351927 avgprec 0.005925785462863102\n",
      "like: rce -1983.891730766273 avgprec 0.4079192196925702\n"
     ]
    }
   ],
   "source": [
    "nvalrows = val_data.shape[0]\n",
    "reply_pred = 0.\n",
    "retweet_pred = 0.\n",
    "quote_pred = 0.\n",
    "like_pred = 0.\n",
    "\n",
    "p = np.full(nvalrows, reply_pred)\n",
    "gt = val_data.reply\n",
    "print(\"reply:\", \"rce\", compute_rce(p, gt), \"avgprec\", average_precision_score(gt, p))\n",
    "p = np.full(nvalrows, retweet_pred)\n",
    "gt = val_data.retweet\n",
    "print(\"retweet:\", \"rce\", compute_rce(p, gt), \"avgprec\", average_precision_score(gt, p))\n",
    "p = np.full(nvalrows, quote_pred)\n",
    "gt = val_data.quote\n",
    "print(\"quote:\", \"rce\", compute_rce(p, gt), \"avgprec\", average_precision_score(gt, p))\n",
    "p = np.full(nvalrows, like_pred)\n",
    "gt = val_data.like\n",
    "print(\"like:\", \"rce\", compute_rce(p, gt), \"avgprec\", average_precision_score(gt, p))"
   ]
  },
  {
   "cell_type": "code",
   "execution_count": null,
   "id": "medieval-fleet",
   "metadata": {},
   "outputs": [],
   "source": []
  }
 ],
 "metadata": {
  "kernelspec": {
   "display_name": "Python 3",
   "language": "python",
   "name": "python3"
  },
  "language_info": {
   "codemirror_mode": {
    "name": "ipython",
    "version": 3
   },
   "file_extension": ".py",
   "mimetype": "text/x-python",
   "name": "python",
   "nbconvert_exporter": "python",
   "pygments_lexer": "ipython3",
   "version": "3.8.6"
  }
 },
 "nbformat": 4,
 "nbformat_minor": 5
}
